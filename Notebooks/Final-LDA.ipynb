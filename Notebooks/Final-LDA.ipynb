{
 "cells": [
  {
   "cell_type": "code",
   "execution_count": 1,
   "id": "ef17fab4",
   "metadata": {
    "collapsed": true
   },
   "outputs": [
    {
     "name": "stdout",
     "output_type": "stream",
     "text": [
      "Requirement already satisfied: gensim in c:\\users\\aniru\\appdata\\local\\programs\\python\\python39\\lib\\site-packages (4.1.2)\n",
      "Requirement already satisfied: numpy>=1.17.0 in c:\\users\\aniru\\appdata\\local\\programs\\python\\python39\\lib\\site-packages (from gensim) (1.19.5)\n",
      "Requirement already satisfied: scipy>=0.18.1 in c:\\users\\aniru\\appdata\\local\\programs\\python\\python39\\lib\\site-packages (from gensim) (1.6.2)\n",
      "Requirement already satisfied: smart-open>=1.8.1 in c:\\users\\aniru\\appdata\\local\\programs\\python\\python39\\lib\\site-packages (from gensim) (5.2.1)\n",
      "Requirement already satisfied: Cython==0.29.23 in c:\\users\\aniru\\appdata\\local\\programs\\python\\python39\\lib\\site-packages (from gensim) (0.29.23)\n"
     ]
    },
    {
     "name": "stderr",
     "output_type": "stream",
     "text": [
      "WARNING: You are using pip version 21.1.2; however, version 21.3.1 is available.\n",
      "You should consider upgrading via the 'c:\\users\\aniru\\appdata\\local\\programs\\python\\python39\\python.exe -m pip install --upgrade pip' command.\n"
     ]
    },
    {
     "name": "stdout",
     "output_type": "stream",
     "text": [
      "Requirement already satisfied: nltk in c:\\users\\aniru\\appdata\\local\\programs\\python\\python39\\lib\\site-packages (3.6.2)"
     ]
    },
    {
     "name": "stderr",
     "output_type": "stream",
     "text": [
      "WARNING: You are using pip version 21.1.2; however, version 21.3.1 is available.\n",
      "You should consider upgrading via the 'c:\\users\\aniru\\appdata\\local\\programs\\python\\python39\\python.exe -m pip install --upgrade pip' command.\n"
     ]
    },
    {
     "name": "stdout",
     "output_type": "stream",
     "text": [
      "\n",
      "Requirement already satisfied: regex in c:\\users\\aniru\\appdata\\local\\programs\\python\\python39\\lib\\site-packages (from nltk) (2021.4.4)\n",
      "Requirement already satisfied: joblib in c:\\users\\aniru\\appdata\\local\\programs\\python\\python39\\lib\\site-packages (from nltk) (1.0.1)\n",
      "Requirement already satisfied: tqdm in c:\\users\\aniru\\appdata\\local\\programs\\python\\python39\\lib\\site-packages (from nltk) (4.61.0)\n",
      "Requirement already satisfied: click in c:\\users\\aniru\\appdata\\local\\programs\\python\\python39\\lib\\site-packages (from nltk) (7.1.2)\n",
      "Requirement already satisfied: pyspark in c:\\users\\aniru\\appdata\\local\\programs\\python\\python39\\lib\\site-packages (3.2.0)"
     ]
    },
    {
     "name": "stderr",
     "output_type": "stream",
     "text": [
      "WARNING: You are using pip version 21.1.2; however, version 21.3.1 is available.\n",
      "You should consider upgrading via the 'c:\\users\\aniru\\appdata\\local\\programs\\python\\python39\\python.exe -m pip install --upgrade pip' command.\n"
     ]
    },
    {
     "name": "stdout",
     "output_type": "stream",
     "text": [
      "\n",
      "Requirement already satisfied: py4j==0.10.9.2 in c:\\users\\aniru\\appdata\\local\\programs\\python\\python39\\lib\\site-packages (from pyspark) (0.10.9.2)\n"
     ]
    }
   ],
   "source": [
    "!pip install gensim\n",
    "!pip install nltk\n",
    "!pip install pyspark\n",
    "!pip install pyarrow"
   ]
  },
  {
   "cell_type": "code",
   "execution_count": 1,
   "id": "ade04ea7",
   "metadata": {},
   "outputs": [
    {
     "name": "stderr",
     "output_type": "stream",
     "text": [
      "[nltk_data] Downloading package wordnet to\n",
      "[nltk_data]     C:\\Users\\aniru\\AppData\\Roaming\\nltk_data...\n",
      "[nltk_data]   Package wordnet is already up-to-date!\n"
     ]
    },
    {
     "data": {
      "text/plain": [
       "True"
      ]
     },
     "execution_count": 1,
     "metadata": {},
     "output_type": "execute_result"
    }
   ],
   "source": [
    "import numpy as np\n",
    "import pandas as pd\n",
    "import os\n",
    "import gensim\n",
    "from gensim.utils import simple_preprocess\n",
    "from gensim.parsing.preprocessing import STOPWORDS\n",
    "from nltk.stem import WordNetLemmatizer, SnowballStemmer\n",
    "from nltk.stem.porter import *\n",
    "from gensim import corpora, models\n",
    "from pprint import pprint\n",
    "from tqdm import tqdm\n",
    "from pyspark.sql import SQLContext\n",
    "from pyspark.sql.functions import isnan, when, count, col, translate\n",
    "from pyspark.sql.types import IntegerType\n",
    "from pyspark.sql.types import FloatType\n",
    "from pyspark.sql import functions as F\n",
    "import ast \n",
    "\n",
    "import nltk\n",
    "nltk.download('wordnet')"
   ]
  },
  {
   "cell_type": "code",
   "execution_count": 2,
   "id": "122810d9",
   "metadata": {},
   "outputs": [],
   "source": [
    "os.chdir('..')"
   ]
  },
  {
   "cell_type": "code",
   "execution_count": 3,
   "id": "1dc2a827",
   "metadata": {},
   "outputs": [
    {
     "name": "stdout",
     "output_type": "stream",
     "text": [
      "C:\\Users\\aniru\\Desktop\\Amrita\\Sem 5\\Big Data and Database Management\\Project\\Kisan-Query-Analysis\n"
     ]
    }
   ],
   "source": [
    "!pwd"
   ]
  },
  {
   "cell_type": "code",
   "execution_count": 4,
   "id": "35914eac",
   "metadata": {},
   "outputs": [
    {
     "name": "stderr",
     "output_type": "stream",
     "text": [
      "c:\\users\\aniru\\appdata\\local\\programs\\python\\python39\\lib\\site-packages\\pyspark\\sql\\context.py:77: FutureWarning: Deprecated in 3.0.0. Use SparkSession.builder.getOrCreate() instead.\n",
      "  warnings.warn(\n"
     ]
    }
   ],
   "source": [
    "from pyspark import SparkContext\n",
    "sc = SparkContext(\"local\", \"Kisan_Query_Answering\")\n",
    "sqlContext = SQLContext(sc)"
   ]
  },
  {
   "cell_type": "markdown",
   "id": "b1669138",
   "metadata": {},
   "source": [
    "## Functions"
   ]
  },
  {
   "cell_type": "code",
   "execution_count": 5,
   "id": "bc2dcdc7",
   "metadata": {},
   "outputs": [],
   "source": [
    "def lemmatize_stemming(text):\n",
    "    stemmer = PorterStemmer()\n",
    "    return stemmer.stem(WordNetLemmatizer().lemmatize(text, pos='v'))\n",
    "\n",
    "def preprocess(text):\n",
    "    result = []\n",
    "    for token in gensim.utils.simple_preprocess(text):\n",
    "        if token not in gensim.parsing.preprocessing.STOPWORDS and len(token) > 3:\n",
    "            result.append(lemmatize_stemming(token))\n",
    "    return result\n",
    "\n",
    "def format_topics_sentences(ldamodel, corpus, texts):\n",
    "    # Init output\n",
    "    sent_topics_df = pd.DataFrame()\n",
    "\n",
    "    # Get main topic in each document\n",
    "    for i, row in tqdm(enumerate(ldamodel[corpus])):\n",
    "        row = sorted(row, key=lambda x: (x[1]), reverse=True)\n",
    "        # Get the Dominant topic, Perc Contribution and Keywords for each document\n",
    "        for j, (topic_num, prop_topic) in enumerate(row):\n",
    "            if j == 0:  # => dominant topic\n",
    "                wp = ldamodel.show_topic(topic_num)\n",
    "                topic_keywords = \", \".join([word for word, prop in wp])\n",
    "                sent_topics_df = sent_topics_df.append(pd.Series([int(topic_num), round(prop_topic,4), topic_keywords]), ignore_index=True)\n",
    "            else:\n",
    "                break\n",
    "    sent_topics_df.columns = ['Dominant_Topic', 'Perc_Contribution', 'Topic_Keywords']\n",
    "\n",
    "    # Add original text to the end of the output\n",
    "    contents = pd.Series(texts)\n",
    "    sent_topics_df = pd.concat([sent_topics_df, contents], axis=1)\n",
    "    return(sent_topics_df)"
   ]
  },
  {
   "cell_type": "markdown",
   "id": "80cbb106",
   "metadata": {},
   "source": [
    "## Load required variables"
   ]
  },
  {
   "cell_type": "code",
   "execution_count": 6,
   "id": "d473012b",
   "metadata": {
    "collapsed": true
   },
   "outputs": [
    {
     "data": {
      "application/javascript": [
       "\n",
       "        if (window._pyforest_update_imports_cell) { window._pyforest_update_imports_cell('import pickle'); }\n",
       "    "
      ],
      "text/plain": [
       "<IPython.core.display.Javascript object>"
      ]
     },
     "metadata": {},
     "output_type": "display_data"
    },
    {
     "data": {
      "application/javascript": [
       "\n",
       "        if (window._pyforest_update_imports_cell) { window._pyforest_update_imports_cell('import pickle'); }\n",
       "    "
      ],
      "text/plain": [
       "<IPython.core.display.Javascript object>"
      ]
     },
     "metadata": {},
     "output_type": "display_data"
    },
    {
     "data": {
      "application/javascript": [
       "\n",
       "        if (window._pyforest_update_imports_cell) { window._pyforest_update_imports_cell('import pickle'); }\n",
       "    "
      ],
      "text/plain": [
       "<IPython.core.display.Javascript object>"
      ]
     },
     "metadata": {},
     "output_type": "display_data"
    },
    {
     "data": {
      "application/javascript": [
       "\n",
       "        if (window._pyforest_update_imports_cell) { window._pyforest_update_imports_cell('import pickle'); }\n",
       "    "
      ],
      "text/plain": [
       "<IPython.core.display.Javascript object>"
      ]
     },
     "metadata": {},
     "output_type": "display_data"
    }
   ],
   "source": [
    "dictionary_qt = pickle.load(open(\"models\\\\dictionary\", \"rb\"))\n",
    "tfidf_qt = pickle.load(open(\"models\\\\tfidf\", \"rb\"))\n",
    "lda_model_qt_tfidf = pickle.load(open(\"models\\\\lda_model_tfidf\", \"rb\"))\n",
    "# corpus_qt_tfidf = pickle.load(open(\"models\\\\corpus_tfidf\", \"rb\"))\n",
    "corp = pickle.load(open(\"models\\\\corp_tfidf\", \"rb\"))"
   ]
  },
  {
   "cell_type": "code",
   "execution_count": 7,
   "id": "97f6a10f",
   "metadata": {},
   "outputs": [
    {
     "name": "stdout",
     "output_type": "stream",
     "text": [
      "213396\n",
      "7072487\n"
     ]
    }
   ],
   "source": [
    "df_dominant_topic = sqlContext.read.csv(\"models\\\\Dominant_Topic_for_Queries.csv\", header=True, inferSchema = True)\n",
    "print(df_dominant_topic.count())\n",
    "\n",
    "data = sqlContext.read.csv(\"Data\\\\query_agg.csv\", header=True, inferSchema = True)\n",
    "print(data.count())"
   ]
  },
  {
   "cell_type": "code",
   "execution_count": 8,
   "id": "b392b832",
   "metadata": {},
   "outputs": [
    {
     "name": "stdout",
     "output_type": "stream",
     "text": [
      "+------+------------+----------+--------+---------+--------------------+--------------------+---------+------------+---------+-------------------+\n",
      "|Season|      Sector|  Category|    Crop|QueryType|           QueryText|              KccAns|StateName|DistrictName|BlockName|          CreatedOn|\n",
      "+------+------------+----------+--------+---------+--------------------+--------------------+---------+------------+---------+-------------------+\n",
      "|  null| AGRICULTURE|   Cereals|   Wheat|        0|INFORMATION REGAR...|SPRAY OF TILT(PRO...|   PUNJAB|    AMRITSAR| AJNALA-1|2013-04-01T06:51:45|\n",
      "|  null|HORTICULTURE|Vegetables|Chillies|        0|INFORMATION REGAR...|THE PHALARIS MINO...|   PUNJAB|    AMRITSAR| AJNALA-1|2013-04-01T07:29:19|\n",
      "|  RABI|HORTICULTURE|Vegetables|    1282|       76|control of worm i...|                null|   PUNJAB|    AMRITSAR| AJNALA-1|2013-04-01T07:35:38|\n",
      "|KHARIF| AGRICULTURE|   Cereals|   Wheat|        3|INFORMATION REGAR...|SPRAY OF EKALUX[Q...|   PUNJAB|    AMRITSAR| AJNALA-1|2013-04-01T07:48:52|\n",
      "| JAYAD| AGRICULTURE|    Pulses|    1064|       19| seed rate of moong?|15kg per acre for...|   PUNJAB|    AMRITSAR|  RAYYA-6|2013-04-01T09:09:12|\n",
      "+------+------------+----------+--------+---------+--------------------+--------------------+---------+------------+---------+-------------------+\n",
      "only showing top 5 rows\n",
      "\n"
     ]
    }
   ],
   "source": [
    "data.show(5)"
   ]
  },
  {
   "cell_type": "code",
   "execution_count": 9,
   "id": "30a883f5",
   "metadata": {},
   "outputs": [
    {
     "name": "stdout",
     "output_type": "stream",
     "text": [
      "+-----------+--------------+------------------+--------------------+----+\n",
      "|Document_No|Dominant_Topic|Topic_Perc_Contrib|            Keywords|Text|\n",
      "+-----------+--------------+------------------+--------------------+----+\n",
      "|          0|           3.0|            0.3249|report, fertil, d...|null|\n",
      "|          1|           2.0|             0.473|forecast, weather...|null|\n",
      "|          2|           2.0|            0.4605|forecast, weather...|null|\n",
      "|          3|           6.0|             0.703|market, ask, pest...|null|\n",
      "|          4|           4.0|            0.4585|control, leaf, br...|null|\n",
      "+-----------+--------------+------------------+--------------------+----+\n",
      "only showing top 5 rows\n",
      "\n"
     ]
    }
   ],
   "source": [
    "df_dominant_topic.show(5)"
   ]
  },
  {
   "cell_type": "code",
   "execution_count": 10,
   "id": "ae58f8be",
   "metadata": {},
   "outputs": [],
   "source": [
    "df_dominant_topic = df_dominant_topic.where(col(\"Text\").isNotNull())"
   ]
  },
  {
   "cell_type": "code",
   "execution_count": 11,
   "id": "7a5e23b4",
   "metadata": {},
   "outputs": [
    {
     "name": "stdout",
     "output_type": "stream",
     "text": [
      "+-----------+--------------+------------------+--------------------+--------------------+\n",
      "|Document_No|Dominant_Topic|Topic_Perc_Contrib|            Keywords|                Text|\n",
      "+-----------+--------------+------------------+--------------------+--------------------+\n",
      "|          7|           0.0|            0.6363|weather, inform, ...|asking about weat...|\n",
      "|         13|           3.0|            0.5801|report, fertil, d...|new varieties of ...|\n",
      "|         48|           6.0|            0.6208|market, ask, pest...|#   INFORMATION R...|\n",
      "|         72|           6.0|            0.5746|market, ask, pest...|WHETHER TO NEED I...|\n",
      "|         80|           6.0|            0.7317|market, ask, pest...|control of stem r...|\n",
      "|         89|           3.0|            0.3331|report, fertil, d...|INFORMATION REGAR...|\n",
      "|        105|           3.0|            0.6571|report, fertil, d...|INFORMATION REGAR...|\n",
      "|        135|           1.0|            0.4174|tell, varieti, nu...|information regar...|\n",
      "|        160|           2.0|            0.6205|forecast, weather...|INFORMATION REGAR...|\n",
      "|        189|           7.0|            0.4119|district, blight,...|what is the conta...|\n",
      "+-----------+--------------+------------------+--------------------+--------------------+\n",
      "only showing top 10 rows\n",
      "\n"
     ]
    }
   ],
   "source": [
    "df_dominant_topic.show(10)"
   ]
  },
  {
   "cell_type": "code",
   "execution_count": 12,
   "id": "5e9b8362",
   "metadata": {},
   "outputs": [
    {
     "name": "stdout",
     "output_type": "stream",
     "text": [
      "+------+------------+----------+--------+---------+--------------------+--------------------+---------+------------+---------+-------------------+\n",
      "|Season|      Sector|  Category|    Crop|QueryType|           QueryText|              KccAns|StateName|DistrictName|BlockName|          CreatedOn|\n",
      "+------+------------+----------+--------+---------+--------------------+--------------------+---------+------------+---------+-------------------+\n",
      "|  null| AGRICULTURE|   Cereals|   Wheat|        0|INFORMATION REGAR...|SPRAY OF TILT(PRO...|   PUNJAB|    AMRITSAR| AJNALA-1|2013-04-01T06:51:45|\n",
      "|  null|HORTICULTURE|Vegetables|Chillies|        0|INFORMATION REGAR...|THE PHALARIS MINO...|   PUNJAB|    AMRITSAR| AJNALA-1|2013-04-01T07:29:19|\n",
      "|  RABI|HORTICULTURE|Vegetables|    1282|       76|control of worm i...|                null|   PUNJAB|    AMRITSAR| AJNALA-1|2013-04-01T07:35:38|\n",
      "|KHARIF| AGRICULTURE|   Cereals|   Wheat|        3|INFORMATION REGAR...|SPRAY OF EKALUX[Q...|   PUNJAB|    AMRITSAR| AJNALA-1|2013-04-01T07:48:52|\n",
      "| JAYAD| AGRICULTURE|    Pulses|    1064|       19| seed rate of moong?|15kg per acre for...|   PUNJAB|    AMRITSAR|  RAYYA-6|2013-04-01T09:09:12|\n",
      "| JAYAD| AGRICULTURE|   Cereals|    1075|        3|INFORMATION REGAR...|FOR THE CONTROL O...|   PUNJAB|    AMRITSAR| AJNALA-1|2013-04-01T10:28:45|\n",
      "| JAYAD| AGRICULTURE|   Cereals|    1137|        5|INFORMATION REGAR...|SUITABLE VARIETIE...|   PUNJAB|    AMRITSAR|  RAYYA-6|2013-04-01T10:50:33|\n",
      "|KHARIF| AGRICULTURE|   Cereals|    8469|        0|asking about weat...|it may be rainfal...|   PUNJAB|    AMRITSAR| AJNALA-1|2013-04-01T11:07:47|\n",
      "|KHARIF| AGRICULTURE|   Cereals|   Wheat|       29|HOW TO CONTROL YE...|SPRAY OF TILT(PRO...|   PUNJAB|    AMRITSAR| AJNALA-1|2013-04-01T11:08:47|\n",
      "|  null|HORTICULTURE|Vegetables|    1282|       78|varieties of bhindi?|  punjab-8,7 padmani|   PUNJAB|    AMRITSAR|  VERKA-5|2013-04-01T11:44:06|\n",
      "+------+------------+----------+--------+---------+--------------------+--------------------+---------+------------+---------+-------------------+\n",
      "only showing top 10 rows\n",
      "\n"
     ]
    }
   ],
   "source": [
    "data.show(10)"
   ]
  },
  {
   "cell_type": "markdown",
   "id": "f2f26947",
   "metadata": {},
   "source": [
    "## Pipeline:"
   ]
  },
  {
   "cell_type": "code",
   "execution_count": 15,
   "id": "805f1087",
   "metadata": {},
   "outputs": [],
   "source": [
    "def pipeline(tt):\n",
    "    tt = pd.Series(tt)\n",
    "    processed = tt.map(preprocess)\n",
    "#     dictionary = gensim.corpora.Dictionary(processed)\n",
    "    bow_corpus = [dictionary_qt.doc2bow(doc) for doc in processed]\n",
    "#     tfidf = models.TfidfModel(bow_corpus)\n",
    "    corpus_tfidf = tfidf_qt[bow_corpus]\n",
    "#     print(\"Processed: {} \\n BoW: {} \\n Corpus TF-IDF: {}\".format(processed, bow_corpus, corpus_tfidf[0]))\n",
    "#     ctr = True\n",
    "    for index, score in sorted(lda_model_qt_tfidf[bow_corpus[0]], key=lambda tup: -1*tup[1]):\n",
    "        print(\"\\nScore: {}\\t \\nTopic: {}\".format(score, lda_model_qt_tfidf.print_topic(index, 8)))\n",
    "    \n",
    "    tops = lda_model_qt_tfidf.get_document_topics(corpus_tfidf[0])\n",
    "    max1 = (0,0)\n",
    "    for i in tops:\n",
    "        if(i[1] > max1[1]):\n",
    "            max1 = i\n",
    "    aa1 = df_dominant_topic.where(col(\"Text\").isNotNull())\n",
    "    pos_doc = aa1.where(col(\"Dominant_Topic\") == max1[0]).take(10)\n",
    "    a1 = [i['Text'] for i in pos_doc]\n",
    "    \n",
    "    fin_ans = []\n",
    "    for i in data1.values:\n",
    "        if(i[5] in a1):\n",
    "            fin_ans.append(i[6])\n",
    "    return fin_ans[:10]"
   ]
  },
  {
   "cell_type": "code",
   "execution_count": 16,
   "id": "87a17aa0",
   "metadata": {},
   "outputs": [
    {
     "name": "stdout",
     "output_type": "stream",
     "text": [
      "\n",
      "Score: 0.5624027848243713\t \n",
      "Topic: 0.559*\"weather\" + 0.287*\"inform\" + 0.034*\"meali\" + 0.012*\"husbandari\" + 0.010*\"take\" + 0.008*\"address\" + 0.007*\"colour\" + 0.005*\"grind\"\n",
      "\n",
      "Score: 0.0625734031200409\t \n",
      "Topic: 0.622*\"forecast\" + 0.241*\"weather\" + 0.021*\"ginger\" + 0.012*\"vaijapur\" + 0.010*\"aurangabad\" + 0.009*\"compani\" + 0.007*\"gangapur\" + 0.006*\"mushroom\"\n",
      "\n",
      "Score: 0.06252235174179077\t \n",
      "Topic: 0.332*\"ask\" + 0.131*\"farmer\" + 0.128*\"queri\" + 0.074*\"weather\" + 0.030*\"scheme\" + 0.018*\"gourd\" + 0.015*\"govern\" + 0.015*\"govt\"\n",
      "\n",
      "Score: 0.06250140815973282\t \n",
      "Topic: 0.067*\"market\" + 0.050*\"ask\" + 0.048*\"pest\" + 0.048*\"rate\" + 0.040*\"suck\" + 0.033*\"cotton\" + 0.033*\"cultiv\" + 0.030*\"banana\"\n",
      "\n",
      "Score: 0.06250002235174179\t \n",
      "Topic: 0.155*\"tell\" + 0.084*\"varieti\" + 0.063*\"nutrient\" + 0.055*\"point\" + 0.052*\"manag\" + 0.051*\"ask\" + 0.049*\"gourd\" + 0.037*\"mustard\"\n",
      "\n",
      "Score: 0.06250002235174179\t \n",
      "Topic: 0.184*\"report\" + 0.097*\"fertil\" + 0.064*\"dose\" + 0.052*\"activ\" + 0.049*\"cucumb\" + 0.036*\"potato\" + 0.028*\"aphid\" + 0.025*\"yellow\"\n",
      "\n",
      "Score: 0.06250002235174179\t \n",
      "Topic: 0.088*\"control\" + 0.056*\"leaf\" + 0.049*\"brinjal\" + 0.044*\"borer\" + 0.041*\"stem\" + 0.040*\"fruit\" + 0.035*\"white\" + 0.035*\"drop\"\n",
      "\n",
      "Score: 0.06250002235174179\t \n",
      "Topic: 0.094*\"district\" + 0.069*\"blight\" + 0.062*\"block\" + 0.055*\"murshidabad\" + 0.052*\"bankura\" + 0.050*\"nadia\" + 0.046*\"control\" + 0.042*\"attack\"\n"
     ]
    },
    {
     "data": {
      "text/plain": [
       "['it may be rainfall on 2rd april',\n",
       " 'Mostly dry. Warm (max 37°C on Tue afternoon, min 24°C on Sun night). Wind will be generally light.',\n",
       " 'spray of 60 ml alfamethrin with 100 ltr water',\n",
       " 'Some drizzle, heaviest during Thu morning. Warm (max 35°C on Wed afternoon, min 25°C on Tue night). Wind will be generally light.',\n",
       " '6 MARLE /8KG SEED',\n",
       " 'Mostly dry. Warm (max 37°C on Tue afternoon, min 26°C on Sun night). Wind will be generally light.',\n",
       " 'SOME CHANCES OF RAIN IN NEXT 24 HOURS',\n",
       " 'SPRAY RIPCORD (10 EC) @ 200 ML IN 150 LITRE WATER/ACRE.',\n",
       " 'SOME CHANCES OF RAIN IN NEXT 24 HOURS',\n",
       " 'SOME CLOUDS AND NO CHANCES OF RAINFALL .']"
      ]
     },
     "execution_count": 16,
     "metadata": {},
     "output_type": "execute_result"
    }
   ],
   "source": [
    "aa = \"weather\"\n",
    "fin = pipeline(aa)\n",
    "fin"
   ]
  },
  {
   "cell_type": "code",
   "execution_count": 17,
   "id": "a878b1ef",
   "metadata": {},
   "outputs": [
    {
     "name": "stdout",
     "output_type": "stream",
     "text": [
      "\n",
      "Score: 0.5624411702156067\t \n",
      "Topic: 0.067*\"market\" + 0.050*\"ask\" + 0.048*\"pest\" + 0.048*\"rate\" + 0.040*\"suck\" + 0.033*\"cotton\" + 0.033*\"cultiv\" + 0.030*\"banana\"\n",
      "\n",
      "Score: 0.06250840425491333\t \n",
      "Topic: 0.559*\"weather\" + 0.287*\"inform\" + 0.034*\"meali\" + 0.012*\"husbandari\" + 0.010*\"take\" + 0.008*\"address\" + 0.007*\"colour\" + 0.005*\"grind\"\n",
      "\n",
      "Score: 0.06250840425491333\t \n",
      "Topic: 0.155*\"tell\" + 0.084*\"varieti\" + 0.063*\"nutrient\" + 0.055*\"point\" + 0.052*\"manag\" + 0.051*\"ask\" + 0.049*\"gourd\" + 0.037*\"mustard\"\n",
      "\n",
      "Score: 0.06250840425491333\t \n",
      "Topic: 0.622*\"forecast\" + 0.241*\"weather\" + 0.021*\"ginger\" + 0.012*\"vaijapur\" + 0.010*\"aurangabad\" + 0.009*\"compani\" + 0.007*\"gangapur\" + 0.006*\"mushroom\"\n",
      "\n",
      "Score: 0.06250840425491333\t \n",
      "Topic: 0.184*\"report\" + 0.097*\"fertil\" + 0.064*\"dose\" + 0.052*\"activ\" + 0.049*\"cucumb\" + 0.036*\"potato\" + 0.028*\"aphid\" + 0.025*\"yellow\"\n",
      "\n",
      "Score: 0.06250840425491333\t \n",
      "Topic: 0.088*\"control\" + 0.056*\"leaf\" + 0.049*\"brinjal\" + 0.044*\"borer\" + 0.041*\"stem\" + 0.040*\"fruit\" + 0.035*\"white\" + 0.035*\"drop\"\n",
      "\n",
      "Score: 0.06250840425491333\t \n",
      "Topic: 0.332*\"ask\" + 0.131*\"farmer\" + 0.128*\"queri\" + 0.074*\"weather\" + 0.030*\"scheme\" + 0.018*\"gourd\" + 0.015*\"govern\" + 0.015*\"govt\"\n",
      "\n",
      "Score: 0.06250840425491333\t \n",
      "Topic: 0.094*\"district\" + 0.069*\"blight\" + 0.062*\"block\" + 0.055*\"murshidabad\" + 0.052*\"bankura\" + 0.050*\"nadia\" + 0.046*\"control\" + 0.042*\"attack\"\n"
     ]
    },
    {
     "data": {
      "text/plain": [
       "['SUITABLE VARIETIES OF PADDY(JHONA)-PR-121,PR-122,PR-118,PR-114,PR-111,PR-116,PR-115,PR-113,PUSA-44,HKR-47,PUSA PUNJAB BASMATI-1509,PUNJAB BASMATI-3.',\n",
       " 'SPRAY OF STOMP 30 EC @ 1 LITRE IN THE 200 LITRESOF WATER/ACRE AT PRE-EMERGENCE STAGE.',\n",
       " 'THERE IS NO NEED TO IRRIGATE THE WHEAT.',\n",
       " 'spray bavistin 250gm in 150lit water per acre.',\n",
       " 'SUITABLE VARIETIES OF PADDY(JHONA)-PR-121,PR-122,PR-118,PR-114,PR-111,PR-116,PR-115,PR-113,PUSA-44,HKR-47,PUSA PUNJAB BASMATI-1509,PUNJAB BASMATI-3.',\n",
       " 'Light rain (total 2mm), mostly falling on  night',\n",
       " 'SPRAY ROGOR/METASYSTOX @ 150 ML IN 100 LITERS OF WATER/ACRE.',\n",
       " 'SUITABLE VARIETIES OF PADDY(JHONA)-PR-121,PR-122,PR-118,PR-114,PR-111,PR-116,PR-115,PR-113,PUSA-44,HKR-47,PUSA PUNJAB BASMATI-1509,PUNJAB BASMATI-3.',\n",
       " 'SUITABLE VARIETIES OF PADDY(JHONA)-PR-121,PR-122,PR-118,PR-114,PR-111,PR-116,PR-115,PR-113,PUSA-44,HKR-47,PUSA PUNJAB BASMATI-1509,PUNJAB BASMATI-3.',\n",
       " 'SUITABLE VARIETIES OF PADDY(JHONA)-PR-121,PR-122,PR-118,PR-114,PR-111,PR-116,PR-115,PR-113,PUSA-44,HKR-47,PUSA PUNJAB BASMATI-1509,PUNJAB BASMATI-3.']"
      ]
     },
     "execution_count": 17,
     "metadata": {},
     "output_type": "execute_result"
    }
   ],
   "source": [
    "aa = \"pesticides\"\n",
    "fin = pipeline(aa)\n",
    "fin"
   ]
  },
  {
   "cell_type": "code",
   "execution_count": 18,
   "id": "dd64a208",
   "metadata": {},
   "outputs": [
    {
     "name": "stdout",
     "output_type": "stream",
     "text": [
      "\n",
      "Score: 0.5622084140777588\t \n",
      "Topic: 0.088*\"control\" + 0.056*\"leaf\" + 0.049*\"brinjal\" + 0.044*\"borer\" + 0.041*\"stem\" + 0.040*\"fruit\" + 0.035*\"white\" + 0.035*\"drop\"\n",
      "\n",
      "Score: 0.06265754997730255\t \n",
      "Topic: 0.094*\"district\" + 0.069*\"blight\" + 0.062*\"block\" + 0.055*\"murshidabad\" + 0.052*\"bankura\" + 0.050*\"nadia\" + 0.046*\"control\" + 0.042*\"attack\"\n",
      "\n",
      "Score: 0.06257476657629013\t \n",
      "Topic: 0.155*\"tell\" + 0.084*\"varieti\" + 0.063*\"nutrient\" + 0.055*\"point\" + 0.052*\"manag\" + 0.051*\"ask\" + 0.049*\"gourd\" + 0.037*\"mustard\"\n",
      "\n",
      "Score: 0.06255824118852615\t \n",
      "Topic: 0.184*\"report\" + 0.097*\"fertil\" + 0.064*\"dose\" + 0.052*\"activ\" + 0.049*\"cucumb\" + 0.036*\"potato\" + 0.028*\"aphid\" + 0.025*\"yellow\"\n",
      "\n",
      "Score: 0.06250026822090149\t \n",
      "Topic: 0.559*\"weather\" + 0.287*\"inform\" + 0.034*\"meali\" + 0.012*\"husbandari\" + 0.010*\"take\" + 0.008*\"address\" + 0.007*\"colour\" + 0.005*\"grind\"\n",
      "\n",
      "Score: 0.06250026822090149\t \n",
      "Topic: 0.622*\"forecast\" + 0.241*\"weather\" + 0.021*\"ginger\" + 0.012*\"vaijapur\" + 0.010*\"aurangabad\" + 0.009*\"compani\" + 0.007*\"gangapur\" + 0.006*\"mushroom\"\n",
      "\n",
      "Score: 0.06250026822090149\t \n",
      "Topic: 0.332*\"ask\" + 0.131*\"farmer\" + 0.128*\"queri\" + 0.074*\"weather\" + 0.030*\"scheme\" + 0.018*\"gourd\" + 0.015*\"govern\" + 0.015*\"govt\"\n",
      "\n",
      "Score: 0.06250026822090149\t \n",
      "Topic: 0.067*\"market\" + 0.050*\"ask\" + 0.048*\"pest\" + 0.048*\"rate\" + 0.040*\"suck\" + 0.033*\"cotton\" + 0.033*\"cultiv\" + 0.030*\"banana\"\n"
     ]
    },
    {
     "data": {
      "text/plain": [
       "['SUITABLE VARIETIES OF PADDY(JHONA)-PR-121,PR-122,PR-118,PR-114,PR-111,PR-116,PR-115,PR-113,PUSA-44,HKR-47,PUSA PUNJAB BASMATI-1509,PUNJAB BASMATI-3.',\n",
       " 'SUITABLE VARIETIES OF PADDY(JHONA)-PR-121,PR-122,PR-118,PR-114,PR-111,PR-116,PR-115,PR-113,PUSA-44,HKR-47,PUSA PUNJAB BASMATI-1509,PUNJAB BASMATI-3.',\n",
       " 'SUITABLE VARIETIES OF PADDY(JHONA)-PR-121,PR-122,PR-118,PR-114,PR-111,PR-116,PR-115,PR-113,PUSA-44,HKR-47,PUSA PUNJAB BASMATI-1509,PUNJAB BASMATI-3.',\n",
       " 'SUITABLE VARIETIES OF PADDY(JHONA)-PR-121,PR-122,PR-118,PR-114,PR-111,PR-116,PR-115,PR-113,PUSA-44,HKR-47,PUSA PUNJAB BASMATI-1509,PUNJAB BASMATI-3.',\n",
       " 'SUITABLE VARIETIES OF PADDY(JHONA)-PR-121,PR-122,PR-118,PR-114,PR-111,PR-116,PR-115,PR-113,PUSA-44,HKR-47,PUSA PUNJAB BASMATI-1509,PUNJAB BASMATI-3.',\n",
       " 'SUITABLE VARIETIES OF PADDY(JHONA)-PR-121,PR-122,PR-118,PR-114,PR-111,PR-116,PR-115,PR-113,PUSA-44,HKR-47,PUSA PUNJAB BASMATI-1509,PUNJAB BASMATI-3.',\n",
       " 'SUITABLE VARIETIES OF PADDY(JHONA)-PR-121,PR-122,PR-118,PR-114,PR-111,PR-116,PR-115,PR-113,PUSA-44,HKR-47,PUSA PUNJAB BASMATI-1509,PUNJAB BASMATI-3.',\n",
       " 'SUITABLE VARIETIES OF PADDY(JHONA)-PR-121,PR-122,PR-118,PR-114,PR-111,PR-116,PR-115,PR-113,PUSA-44,HKR-47,PUSA PUNJAB BASMATI-1509,PUNJAB BASMATI-3.',\n",
       " 'SUITABLE VARIETIES OF PADDY(JHONA)-PR-121,PR-122,PR-118,PR-114,PR-111,PR-116,PR-115,PR-113,PUSA-44,HKR-47,PUSA PUNJAB BASMATI-1509,PUNJAB BASMATI-3.',\n",
       " 'SUITABLE VARIETIES OF PADDY(JHONA)-PR-121,PR-122,PR-118,PR-114,PR-111,PR-116,PR-115,PR-113,PUSA-44,HKR-47,PUSA PUNJAB BASMATI-1509,PUNJAB BASMATI-3.\\r\\nSUITABLE VARIETIES OF PADDY(JHONA)-PR-121,PR-122,PR-118,PR-114,PR-111,PR-116,PR-115,PR-113,PUSA-44,HKR-47,PUSA PUNJAB BASMATI-1509,PUNJAB BASMATI-3.']"
      ]
     },
     "execution_count": 18,
     "metadata": {},
     "output_type": "execute_result"
    }
   ],
   "source": [
    "aa = \"paddy\"\n",
    "fin = pipeline(aa)\n",
    "fin"
   ]
  },
  {
   "cell_type": "markdown",
   "id": "8162619f",
   "metadata": {},
   "source": [
    "## End"
   ]
  },
  {
   "cell_type": "code",
   "execution_count": 14,
   "id": "3cd69884",
   "metadata": {},
   "outputs": [],
   "source": [
    "# Load the data(Variable) from the kaggle site\n",
    "# df_dominant_topic = pd.read_csv('models\\\\Dominant_Topic_for_Queries.csv')\n",
    "data1 = pd.read_csv('Data\\\\query_agg.csv')"
   ]
  }
 ],
 "metadata": {
  "kernelspec": {
   "display_name": "Python 3",
   "language": "python",
   "name": "python3"
  },
  "language_info": {
   "codemirror_mode": {
    "name": "ipython",
    "version": 3
   },
   "file_extension": ".py",
   "mimetype": "text/x-python",
   "name": "python",
   "nbconvert_exporter": "python",
   "pygments_lexer": "ipython3",
   "version": "3.9.1"
  }
 },
 "nbformat": 4,
 "nbformat_minor": 5
}
