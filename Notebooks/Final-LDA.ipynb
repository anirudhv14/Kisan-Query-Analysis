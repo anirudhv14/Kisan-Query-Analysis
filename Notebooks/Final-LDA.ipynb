{
 "cells": [
  {
   "cell_type": "code",
   "execution_count": 2,
   "id": "ef17fab4",
   "metadata": {
    "collapsed": true
   },
   "outputs": [
    {
     "name": "stdout",
     "output_type": "stream",
     "text": [
      "Collecting gensim\n",
      "  Downloading gensim-4.1.2-cp39-cp39-win_amd64.whl (24.0 MB)\n",
      "Requirement already satisfied: scipy>=0.18.1 in c:\\users\\aniru\\appdata\\local\\programs\\python\\python39\\lib\\site-packages (from gensim) (1.6.2)\n",
      "Collecting smart-open>=1.8.1\n",
      "  Downloading smart_open-5.2.1-py3-none-any.whl (58 kB)\n"
     ]
    },
    {
     "name": "stderr",
     "output_type": "stream",
     "text": [
      "WARNING: You are using pip version 21.1.2; however, version 21.3.1 is available.\n",
      "You should consider upgrading via the 'c:\\users\\aniru\\appdata\\local\\programs\\python\\python39\\python.exe -m pip install --upgrade pip' command.\n"
     ]
    },
    {
     "name": "stdout",
     "output_type": "stream",
     "text": [
      "Requirement already satisfied: Cython==0.29.23 in c:\\users\\aniru\\appdata\\local\\programs\\python\\python39\\lib\\site-packages (from gensim) (0.29.23)\n",
      "Requirement already satisfied: numpy>=1.17.0 in c:\\users\\aniru\\appdata\\local\\programs\\python\\python39\\lib\\site-packages (from gensim) (1.19.5)\n",
      "Installing collected packages: smart-open, gensim\n",
      "Successfully installed gensim-4.1.2 smart-open-5.2.1\n",
      "Requirement already satisfied: nltk in c:\\users\\aniru\\appdata\\local\\programs\\python\\python39\\lib\\site-packages (3.6.2)\n",
      "Requirement already satisfied: click in c:\\users\\aniru\\appdata\\local\\programs\\python\\python39\\lib\\site-packages (from nltk) (7.1.2)\n",
      "Requirement already satisfied: regex in c:\\users\\aniru\\appdata\\local\\programs\\python\\python39\\lib\\site-packages (from nltk) (2021.4.4)\n",
      "Requirement already satisfied: tqdm in c:\\users\\aniru\\appdata\\local\\programs\\python\\python39\\lib\\site-packages (from nltk) (4.61.0)\n",
      "Requirement already satisfied: joblib in c:\\users\\aniru\\appdata\\local\\programs\\python\\python39\\lib\\site-packages (from nltk) (1.0.1)\n"
     ]
    },
    {
     "name": "stderr",
     "output_type": "stream",
     "text": [
      "WARNING: You are using pip version 21.1.2; however, version 21.3.1 is available.\n",
      "You should consider upgrading via the 'c:\\users\\aniru\\appdata\\local\\programs\\python\\python39\\python.exe -m pip install --upgrade pip' command.\n"
     ]
    }
   ],
   "source": [
    "!pip install gensim\n",
    "!pip install nltk"
   ]
  },
  {
   "cell_type": "code",
   "execution_count": 3,
   "id": "ade04ea7",
   "metadata": {},
   "outputs": [
    {
     "name": "stderr",
     "output_type": "stream",
     "text": [
      "[nltk_data] Downloading package wordnet to\n",
      "[nltk_data]     C:\\Users\\aniru\\AppData\\Roaming\\nltk_data...\n",
      "[nltk_data]   Package wordnet is already up-to-date!\n"
     ]
    },
    {
     "data": {
      "text/plain": [
       "True"
      ]
     },
     "execution_count": 3,
     "metadata": {},
     "output_type": "execute_result"
    }
   ],
   "source": [
    "import numpy as np\n",
    "import pandas as pd\n",
    "import os\n",
    "import gensim\n",
    "from gensim.utils import simple_preprocess\n",
    "from gensim.parsing.preprocessing import STOPWORDS\n",
    "from nltk.stem import WordNetLemmatizer, SnowballStemmer\n",
    "from nltk.stem.porter import *\n",
    "from gensim import corpora, models\n",
    "from pprint import pprint\n",
    "from tqdm import tqdm\n",
    "\n",
    "import nltk\n",
    "nltk.download('wordnet')"
   ]
  },
  {
   "cell_type": "code",
   "execution_count": 4,
   "id": "122810d9",
   "metadata": {},
   "outputs": [],
   "source": [
    "os.chdir('..')"
   ]
  },
  {
   "cell_type": "code",
   "execution_count": 5,
   "id": "1dc2a827",
   "metadata": {},
   "outputs": [
    {
     "name": "stdout",
     "output_type": "stream",
     "text": [
      "C:\\Users\\aniru\\Desktop\\Amrita\\Sem 5\\Big Data and Database Management\\Project\\Kisan-Query-Analysis\n"
     ]
    }
   ],
   "source": [
    "!pwd"
   ]
  },
  {
   "cell_type": "markdown",
   "id": "b1669138",
   "metadata": {},
   "source": [
    "## Functions"
   ]
  },
  {
   "cell_type": "code",
   "execution_count": 45,
   "id": "bc2dcdc7",
   "metadata": {},
   "outputs": [],
   "source": [
    "def lemmatize_stemming(text):\n",
    "    stemmer = PorterStemmer()\n",
    "    return stemmer.stem(WordNetLemmatizer().lemmatize(text, pos='v'))\n",
    "\n",
    "def preprocess(text):\n",
    "    result = []\n",
    "    for token in gensim.utils.simple_preprocess(text):\n",
    "        if token not in gensim.parsing.preprocessing.STOPWORDS and len(token) > 3:\n",
    "            result.append(lemmatize_stemming(token))\n",
    "    return result\n",
    "\n",
    "def format_topics_sentences(ldamodel, corpus, texts):\n",
    "    # Init output\n",
    "    sent_topics_df = pd.DataFrame()\n",
    "\n",
    "    # Get main topic in each document\n",
    "    for i, row in tqdm(enumerate(ldamodel[corpus])):\n",
    "        row = sorted(row, key=lambda x: (x[1]), reverse=True)\n",
    "        # Get the Dominant topic, Perc Contribution and Keywords for each document\n",
    "        for j, (topic_num, prop_topic) in enumerate(row):\n",
    "            if j == 0:  # => dominant topic\n",
    "                wp = ldamodel.show_topic(topic_num)\n",
    "                topic_keywords = \", \".join([word for word, prop in wp])\n",
    "                sent_topics_df = sent_topics_df.append(pd.Series([int(topic_num), round(prop_topic,4), topic_keywords]), ignore_index=True)\n",
    "            else:\n",
    "                break\n",
    "    sent_topics_df.columns = ['Dominant_Topic', 'Perc_Contribution', 'Topic_Keywords']\n",
    "\n",
    "    # Add original text to the end of the output\n",
    "    contents = pd.Series(texts)\n",
    "    sent_topics_df = pd.concat([sent_topics_df, contents], axis=1)\n",
    "    return(sent_topics_df)"
   ]
  },
  {
   "cell_type": "markdown",
   "id": "80cbb106",
   "metadata": {},
   "source": [
    "## Load required variables"
   ]
  },
  {
   "cell_type": "code",
   "execution_count": 44,
   "id": "d473012b",
   "metadata": {
    "collapsed": true
   },
   "outputs": [
    {
     "data": {
      "application/javascript": [
       "\n",
       "        if (window._pyforest_update_imports_cell) { window._pyforest_update_imports_cell('import pickle'); }\n",
       "    "
      ],
      "text/plain": [
       "<IPython.core.display.Javascript object>"
      ]
     },
     "metadata": {},
     "output_type": "display_data"
    },
    {
     "data": {
      "application/javascript": [
       "\n",
       "        if (window._pyforest_update_imports_cell) { window._pyforest_update_imports_cell('import pickle'); }\n",
       "    "
      ],
      "text/plain": [
       "<IPython.core.display.Javascript object>"
      ]
     },
     "metadata": {},
     "output_type": "display_data"
    },
    {
     "data": {
      "application/javascript": [
       "\n",
       "        if (window._pyforest_update_imports_cell) { window._pyforest_update_imports_cell('import pickle'); }\n",
       "    "
      ],
      "text/plain": [
       "<IPython.core.display.Javascript object>"
      ]
     },
     "metadata": {},
     "output_type": "display_data"
    },
    {
     "data": {
      "application/javascript": [
       "\n",
       "        if (window._pyforest_update_imports_cell) { window._pyforest_update_imports_cell('import pickle'); }\n",
       "    "
      ],
      "text/plain": [
       "<IPython.core.display.Javascript object>"
      ]
     },
     "metadata": {},
     "output_type": "display_data"
    },
    {
     "data": {
      "application/javascript": [
       "\n",
       "        if (window._pyforest_update_imports_cell) { window._pyforest_update_imports_cell('import pickle'); }\n",
       "    "
      ],
      "text/plain": [
       "<IPython.core.display.Javascript object>"
      ]
     },
     "metadata": {},
     "output_type": "display_data"
    }
   ],
   "source": [
    "dictionary_qt = pickle.load(open(\"Data\\\\models\\\\dictionary\", \"rb\"))\n",
    "tfidf_qt = pickle.load(open(\"Data\\\\models\\\\tfidf\", \"rb\"))\n",
    "lda_model_qt_tfidf = pickle.load(open(\"Data\\\\models\\\\lda_model_tfidf\", \"rb\"))\n",
    "corpus_qt_tfidf = pickle.load(open(\"Data\\\\models\\\\corpus_tfidf\", \"rb\"))\n",
    "corp = pickle.load(open(\"Data\\\\models\\\\corp_tfidf\", \"rb\"))"
   ]
  },
  {
   "cell_type": "code",
   "execution_count": 54,
   "id": "dd18314e",
   "metadata": {},
   "outputs": [
    {
     "name": "stderr",
     "output_type": "stream",
     "text": [
      "c:\\users\\aniru\\appdata\\local\\programs\\python\\python39\\lib\\site-packages\\IPython\\core\\interactiveshell.py:3165: DtypeWarning: Columns (3) have mixed types.Specify dtype option on import or set low_memory=False.\n",
      "  has_raised = await self.run_ast_nodes(code_ast.body, cell_name,\n"
     ]
    }
   ],
   "source": [
    "df_dominant_topic = pd.read_csv('Data\\\\Dominant_Topic_for_Queries.csv')\n",
    "data = pd.read_csv('Data\\\\query_agg.csv')"
   ]
  },
  {
   "cell_type": "code",
   "execution_count": 55,
   "id": "2c12c6aa",
   "metadata": {},
   "outputs": [],
   "source": [
    "df_dominant_topic = df_dominant_topic[df_dominant_topic['Text'].notna()]"
   ]
  },
  {
   "cell_type": "code",
   "execution_count": 57,
   "id": "7a5e23b4",
   "metadata": {},
   "outputs": [
    {
     "data": {
      "text/html": [
       "<div>\n",
       "<style scoped>\n",
       "    .dataframe tbody tr th:only-of-type {\n",
       "        vertical-align: middle;\n",
       "    }\n",
       "\n",
       "    .dataframe tbody tr th {\n",
       "        vertical-align: top;\n",
       "    }\n",
       "\n",
       "    .dataframe thead th {\n",
       "        text-align: right;\n",
       "    }\n",
       "</style>\n",
       "<table border=\"1\" class=\"dataframe\">\n",
       "  <thead>\n",
       "    <tr style=\"text-align: right;\">\n",
       "      <th></th>\n",
       "      <th>Document_No</th>\n",
       "      <th>Dominant_Topic</th>\n",
       "      <th>Topic_Perc_Contrib</th>\n",
       "      <th>Keywords</th>\n",
       "      <th>Text</th>\n",
       "    </tr>\n",
       "  </thead>\n",
       "  <tbody>\n",
       "    <tr>\n",
       "      <th>7</th>\n",
       "      <td>7</td>\n",
       "      <td>0.0</td>\n",
       "      <td>0.6363</td>\n",
       "      <td>weather, inform, meali, husbandari, take, addr...</td>\n",
       "      <td>asking about weather forcasting?</td>\n",
       "    </tr>\n",
       "    <tr>\n",
       "      <th>13</th>\n",
       "      <td>13</td>\n",
       "      <td>3.0</td>\n",
       "      <td>0.5801</td>\n",
       "      <td>report, fertil, dose, activ, cucumb, potato, a...</td>\n",
       "      <td>new varieties of paddy?</td>\n",
       "    </tr>\n",
       "    <tr>\n",
       "      <th>48</th>\n",
       "      <td>48</td>\n",
       "      <td>6.0</td>\n",
       "      <td>0.6208</td>\n",
       "      <td>market, ask, pest, rate, suck, cotton, cultiv,...</td>\n",
       "      <td>#   INFORMATION REGARDING TO CONTROL OF WEEDS ...</td>\n",
       "    </tr>\n",
       "    <tr>\n",
       "      <th>72</th>\n",
       "      <td>72</td>\n",
       "      <td>6.0</td>\n",
       "      <td>0.5746</td>\n",
       "      <td>market, ask, pest, rate, suck, cotton, cultiv,...</td>\n",
       "      <td>WHETHER TO NEED IRRIGATE WHEAT 15 DAYS BEFORE ...</td>\n",
       "    </tr>\n",
       "    <tr>\n",
       "      <th>80</th>\n",
       "      <td>80</td>\n",
       "      <td>6.0</td>\n",
       "      <td>0.7317</td>\n",
       "      <td>market, ask, pest, rate, suck, cotton, cultiv,...</td>\n",
       "      <td>control of stem rot in barseam?</td>\n",
       "    </tr>\n",
       "    <tr>\n",
       "      <th>89</th>\n",
       "      <td>89</td>\n",
       "      <td>3.0</td>\n",
       "      <td>0.3331</td>\n",
       "      <td>report, fertil, dose, activ, cucumb, potato, a...</td>\n",
       "      <td>INFORMATION REGARDING FOR THE CONTROL OF APHID...</td>\n",
       "    </tr>\n",
       "    <tr>\n",
       "      <th>105</th>\n",
       "      <td>105</td>\n",
       "      <td>3.0</td>\n",
       "      <td>0.6571</td>\n",
       "      <td>report, fertil, dose, activ, cucumb, potato, a...</td>\n",
       "      <td>INFORMATION REGARDING FOR THE CONTROL OF HAIRY...</td>\n",
       "    </tr>\n",
       "    <tr>\n",
       "      <th>135</th>\n",
       "      <td>135</td>\n",
       "      <td>1.0</td>\n",
       "      <td>0.4174</td>\n",
       "      <td>tell, varieti, nutrient, point, manag, ask, go...</td>\n",
       "      <td>information regarding weather condition?</td>\n",
       "    </tr>\n",
       "    <tr>\n",
       "      <th>160</th>\n",
       "      <td>160</td>\n",
       "      <td>2.0</td>\n",
       "      <td>0.6205</td>\n",
       "      <td>forecast, weather, ginger, vaijapur, aurangaba...</td>\n",
       "      <td>INFORMATION REGARDING LATEST VARIETIES OF RICE...</td>\n",
       "    </tr>\n",
       "    <tr>\n",
       "      <th>189</th>\n",
       "      <td>189</td>\n",
       "      <td>7.0</td>\n",
       "      <td>0.4119</td>\n",
       "      <td>district, blight, block, murshidabad, bankura,...</td>\n",
       "      <td>what is the contact number of pau?</td>\n",
       "    </tr>\n",
       "  </tbody>\n",
       "</table>\n",
       "</div>"
      ],
      "text/plain": [
       "     Document_No  Dominant_Topic  Topic_Perc_Contrib  \\\n",
       "7              7             0.0              0.6363   \n",
       "13            13             3.0              0.5801   \n",
       "48            48             6.0              0.6208   \n",
       "72            72             6.0              0.5746   \n",
       "80            80             6.0              0.7317   \n",
       "89            89             3.0              0.3331   \n",
       "105          105             3.0              0.6571   \n",
       "135          135             1.0              0.4174   \n",
       "160          160             2.0              0.6205   \n",
       "189          189             7.0              0.4119   \n",
       "\n",
       "                                              Keywords  \\\n",
       "7    weather, inform, meali, husbandari, take, addr...   \n",
       "13   report, fertil, dose, activ, cucumb, potato, a...   \n",
       "48   market, ask, pest, rate, suck, cotton, cultiv,...   \n",
       "72   market, ask, pest, rate, suck, cotton, cultiv,...   \n",
       "80   market, ask, pest, rate, suck, cotton, cultiv,...   \n",
       "89   report, fertil, dose, activ, cucumb, potato, a...   \n",
       "105  report, fertil, dose, activ, cucumb, potato, a...   \n",
       "135  tell, varieti, nutrient, point, manag, ask, go...   \n",
       "160  forecast, weather, ginger, vaijapur, aurangaba...   \n",
       "189  district, blight, block, murshidabad, bankura,...   \n",
       "\n",
       "                                                  Text  \n",
       "7                     asking about weather forcasting?  \n",
       "13                             new varieties of paddy?  \n",
       "48   #   INFORMATION REGARDING TO CONTROL OF WEEDS ...  \n",
       "72   WHETHER TO NEED IRRIGATE WHEAT 15 DAYS BEFORE ...  \n",
       "80                     control of stem rot in barseam?  \n",
       "89   INFORMATION REGARDING FOR THE CONTROL OF APHID...  \n",
       "105  INFORMATION REGARDING FOR THE CONTROL OF HAIRY...  \n",
       "135           information regarding weather condition?  \n",
       "160  INFORMATION REGARDING LATEST VARIETIES OF RICE...  \n",
       "189                 what is the contact number of pau?  "
      ]
     },
     "execution_count": 57,
     "metadata": {},
     "output_type": "execute_result"
    }
   ],
   "source": [
    "df_dominant_topic.head(10)"
   ]
  },
  {
   "cell_type": "code",
   "execution_count": 58,
   "id": "5e9b8362",
   "metadata": {},
   "outputs": [
    {
     "data": {
      "text/html": [
       "<div>\n",
       "<style scoped>\n",
       "    .dataframe tbody tr th:only-of-type {\n",
       "        vertical-align: middle;\n",
       "    }\n",
       "\n",
       "    .dataframe tbody tr th {\n",
       "        vertical-align: top;\n",
       "    }\n",
       "\n",
       "    .dataframe thead th {\n",
       "        text-align: right;\n",
       "    }\n",
       "</style>\n",
       "<table border=\"1\" class=\"dataframe\">\n",
       "  <thead>\n",
       "    <tr style=\"text-align: right;\">\n",
       "      <th></th>\n",
       "      <th>Season</th>\n",
       "      <th>Sector</th>\n",
       "      <th>Category</th>\n",
       "      <th>Crop</th>\n",
       "      <th>QueryType</th>\n",
       "      <th>QueryText</th>\n",
       "      <th>KccAns</th>\n",
       "      <th>StateName</th>\n",
       "      <th>DistrictName</th>\n",
       "      <th>BlockName</th>\n",
       "      <th>CreatedOn</th>\n",
       "    </tr>\n",
       "  </thead>\n",
       "  <tbody>\n",
       "    <tr>\n",
       "      <th>0</th>\n",
       "      <td>NaN</td>\n",
       "      <td>AGRICULTURE</td>\n",
       "      <td>Cereals</td>\n",
       "      <td>Wheat</td>\n",
       "      <td>0</td>\n",
       "      <td>INFORMATION REGARDING TO THE CONTROL OF YELLOW...</td>\n",
       "      <td>SPRAY OF TILT(PROPICONAZOLE) @ 200 ML IN THE 2...</td>\n",
       "      <td>PUNJAB</td>\n",
       "      <td>AMRITSAR</td>\n",
       "      <td>AJNALA-1</td>\n",
       "      <td>2013-04-01T06:51:45</td>\n",
       "    </tr>\n",
       "    <tr>\n",
       "      <th>1</th>\n",
       "      <td>NaN</td>\n",
       "      <td>HORTICULTURE</td>\n",
       "      <td>Vegetables</td>\n",
       "      <td>Chillies</td>\n",
       "      <td>0</td>\n",
       "      <td>INFORMATION REGARDING TO CONTROL OF PHALARIS M...</td>\n",
       "      <td>THE PHALARIS MINOR CAN BE CONTROLLED IN CHILLI...</td>\n",
       "      <td>PUNJAB</td>\n",
       "      <td>AMRITSAR</td>\n",
       "      <td>AJNALA-1</td>\n",
       "      <td>2013-04-01T07:29:19</td>\n",
       "    </tr>\n",
       "    <tr>\n",
       "      <th>2</th>\n",
       "      <td>RABI</td>\n",
       "      <td>HORTICULTURE</td>\n",
       "      <td>Vegetables</td>\n",
       "      <td>1282</td>\n",
       "      <td>76</td>\n",
       "      <td>control of worm in bhindi?</td>\n",
       "      <td>NaN</td>\n",
       "      <td>PUNJAB</td>\n",
       "      <td>AMRITSAR</td>\n",
       "      <td>AJNALA-1</td>\n",
       "      <td>2013-04-01T07:35:38</td>\n",
       "    </tr>\n",
       "    <tr>\n",
       "      <th>3</th>\n",
       "      <td>KHARIF</td>\n",
       "      <td>AGRICULTURE</td>\n",
       "      <td>Cereals</td>\n",
       "      <td>Wheat</td>\n",
       "      <td>3</td>\n",
       "      <td>INFORMATION REGARDING TO THE CONTROL OF STEM B...</td>\n",
       "      <td>SPRAY OF EKALUX[QUINALPHOS] 25EC @ 800 ML IN T...</td>\n",
       "      <td>PUNJAB</td>\n",
       "      <td>AMRITSAR</td>\n",
       "      <td>AJNALA-1</td>\n",
       "      <td>2013-04-01T07:48:52</td>\n",
       "    </tr>\n",
       "    <tr>\n",
       "      <th>4</th>\n",
       "      <td>JAYAD</td>\n",
       "      <td>AGRICULTURE</td>\n",
       "      <td>Pulses</td>\n",
       "      <td>1064</td>\n",
       "      <td>19</td>\n",
       "      <td>seed rate of moong?</td>\n",
       "      <td>15kg per acre for 668and 12kg per acre for 832.</td>\n",
       "      <td>PUNJAB</td>\n",
       "      <td>AMRITSAR</td>\n",
       "      <td>RAYYA-6</td>\n",
       "      <td>2013-04-01T09:09:12</td>\n",
       "    </tr>\n",
       "    <tr>\n",
       "      <th>5</th>\n",
       "      <td>JAYAD</td>\n",
       "      <td>AGRICULTURE</td>\n",
       "      <td>Cereals</td>\n",
       "      <td>1075</td>\n",
       "      <td>3</td>\n",
       "      <td>INFORMATION REGARDING FOR THE CONTROL OF MAIZE...</td>\n",
       "      <td>FOR THE CONTROL OF MAIZE BORER ATTACK ON SUMME...</td>\n",
       "      <td>PUNJAB</td>\n",
       "      <td>AMRITSAR</td>\n",
       "      <td>AJNALA-1</td>\n",
       "      <td>2013-04-01T10:28:45</td>\n",
       "    </tr>\n",
       "    <tr>\n",
       "      <th>6</th>\n",
       "      <td>JAYAD</td>\n",
       "      <td>AGRICULTURE</td>\n",
       "      <td>Cereals</td>\n",
       "      <td>1137</td>\n",
       "      <td>5</td>\n",
       "      <td>INFORMATION REGARDING FOR THE SUITABLE VARIETI...</td>\n",
       "      <td>SUITABLE VARIETIES OF PADDY(JHONA)-PR-121,PR-1...</td>\n",
       "      <td>PUNJAB</td>\n",
       "      <td>AMRITSAR</td>\n",
       "      <td>RAYYA-6</td>\n",
       "      <td>2013-04-01T10:50:33</td>\n",
       "    </tr>\n",
       "    <tr>\n",
       "      <th>7</th>\n",
       "      <td>KHARIF</td>\n",
       "      <td>AGRICULTURE</td>\n",
       "      <td>Cereals</td>\n",
       "      <td>8469</td>\n",
       "      <td>0</td>\n",
       "      <td>asking about weather forcasting?</td>\n",
       "      <td>it may be rainfall on 2rd april</td>\n",
       "      <td>PUNJAB</td>\n",
       "      <td>AMRITSAR</td>\n",
       "      <td>AJNALA-1</td>\n",
       "      <td>2013-04-01T11:07:47</td>\n",
       "    </tr>\n",
       "    <tr>\n",
       "      <th>8</th>\n",
       "      <td>KHARIF</td>\n",
       "      <td>AGRICULTURE</td>\n",
       "      <td>Cereals</td>\n",
       "      <td>Wheat</td>\n",
       "      <td>29</td>\n",
       "      <td>HOW TO CONTROL YELLOW RUST IN WHEAT?</td>\n",
       "      <td>SPRAY OF TILT(PROPICONAZOLE) @ 200 ML IN THE 2...</td>\n",
       "      <td>PUNJAB</td>\n",
       "      <td>AMRITSAR</td>\n",
       "      <td>AJNALA-1</td>\n",
       "      <td>2013-04-01T11:08:47</td>\n",
       "    </tr>\n",
       "    <tr>\n",
       "      <th>9</th>\n",
       "      <td>NaN</td>\n",
       "      <td>HORTICULTURE</td>\n",
       "      <td>Vegetables</td>\n",
       "      <td>1282</td>\n",
       "      <td>78</td>\n",
       "      <td>varieties of bhindi?</td>\n",
       "      <td>punjab-8,7 padmani</td>\n",
       "      <td>PUNJAB</td>\n",
       "      <td>AMRITSAR</td>\n",
       "      <td>VERKA-5</td>\n",
       "      <td>2013-04-01T11:44:06</td>\n",
       "    </tr>\n",
       "  </tbody>\n",
       "</table>\n",
       "</div>"
      ],
      "text/plain": [
       "   Season        Sector    Category      Crop QueryType  \\\n",
       "0     NaN   AGRICULTURE     Cereals     Wheat         0   \n",
       "1     NaN  HORTICULTURE  Vegetables  Chillies         0   \n",
       "2    RABI  HORTICULTURE  Vegetables      1282        76   \n",
       "3  KHARIF   AGRICULTURE     Cereals     Wheat         3   \n",
       "4   JAYAD   AGRICULTURE      Pulses      1064        19   \n",
       "5   JAYAD   AGRICULTURE     Cereals      1075         3   \n",
       "6   JAYAD   AGRICULTURE     Cereals      1137         5   \n",
       "7  KHARIF   AGRICULTURE     Cereals      8469         0   \n",
       "8  KHARIF   AGRICULTURE     Cereals     Wheat        29   \n",
       "9     NaN  HORTICULTURE  Vegetables      1282        78   \n",
       "\n",
       "                                           QueryText  \\\n",
       "0  INFORMATION REGARDING TO THE CONTROL OF YELLOW...   \n",
       "1  INFORMATION REGARDING TO CONTROL OF PHALARIS M...   \n",
       "2                         control of worm in bhindi?   \n",
       "3  INFORMATION REGARDING TO THE CONTROL OF STEM B...   \n",
       "4                                seed rate of moong?   \n",
       "5  INFORMATION REGARDING FOR THE CONTROL OF MAIZE...   \n",
       "6  INFORMATION REGARDING FOR THE SUITABLE VARIETI...   \n",
       "7                   asking about weather forcasting?   \n",
       "8               HOW TO CONTROL YELLOW RUST IN WHEAT?   \n",
       "9                               varieties of bhindi?   \n",
       "\n",
       "                                              KccAns StateName DistrictName  \\\n",
       "0  SPRAY OF TILT(PROPICONAZOLE) @ 200 ML IN THE 2...    PUNJAB     AMRITSAR   \n",
       "1  THE PHALARIS MINOR CAN BE CONTROLLED IN CHILLI...    PUNJAB     AMRITSAR   \n",
       "2                                                NaN    PUNJAB     AMRITSAR   \n",
       "3  SPRAY OF EKALUX[QUINALPHOS] 25EC @ 800 ML IN T...    PUNJAB     AMRITSAR   \n",
       "4    15kg per acre for 668and 12kg per acre for 832.    PUNJAB     AMRITSAR   \n",
       "5  FOR THE CONTROL OF MAIZE BORER ATTACK ON SUMME...    PUNJAB     AMRITSAR   \n",
       "6  SUITABLE VARIETIES OF PADDY(JHONA)-PR-121,PR-1...    PUNJAB     AMRITSAR   \n",
       "7                    it may be rainfall on 2rd april    PUNJAB     AMRITSAR   \n",
       "8  SPRAY OF TILT(PROPICONAZOLE) @ 200 ML IN THE 2...    PUNJAB     AMRITSAR   \n",
       "9                                 punjab-8,7 padmani    PUNJAB     AMRITSAR   \n",
       "\n",
       "  BlockName            CreatedOn  \n",
       "0  AJNALA-1  2013-04-01T06:51:45  \n",
       "1  AJNALA-1  2013-04-01T07:29:19  \n",
       "2  AJNALA-1  2013-04-01T07:35:38  \n",
       "3  AJNALA-1  2013-04-01T07:48:52  \n",
       "4   RAYYA-6  2013-04-01T09:09:12  \n",
       "5  AJNALA-1  2013-04-01T10:28:45  \n",
       "6   RAYYA-6  2013-04-01T10:50:33  \n",
       "7  AJNALA-1  2013-04-01T11:07:47  \n",
       "8  AJNALA-1  2013-04-01T11:08:47  \n",
       "9   VERKA-5  2013-04-01T11:44:06  "
      ]
     },
     "execution_count": 58,
     "metadata": {},
     "output_type": "execute_result"
    }
   ],
   "source": [
    "data.head(10)"
   ]
  },
  {
   "cell_type": "markdown",
   "id": "f2f26947",
   "metadata": {},
   "source": [
    "## Pipeline:"
   ]
  },
  {
   "cell_type": "code",
   "execution_count": 59,
   "id": "805f1087",
   "metadata": {},
   "outputs": [],
   "source": [
    "def pipeline(tt):\n",
    "    tt = pd.Series(tt)\n",
    "    processed = tt.map(preprocess)\n",
    "#     dictionary = gensim.corpora.Dictionary(processed)\n",
    "    bow_corpus = [dictionary_qt.doc2bow(doc) for doc in processed]\n",
    "#     tfidf = models.TfidfModel(bow_corpus)\n",
    "    corpus_tfidf = tfidf_qt[bow_corpus]\n",
    "#     print(\"Processed: {} \\n BoW: {} \\n Corpus TF-IDF: {}\".format(processed, bow_corpus, corpus_tfidf[0]))\n",
    "#     ctr = True\n",
    "#     for index, score in sorted(lda_model_qt_tfidf[bow_corpus[0]], key=lambda tup: -1*tup[1]):\n",
    "#         print(\"\\nScore: {}\\t \\nTopic: {}\".format(score, lda_model_qt_tfidf.print_topic(index, 8)))\n",
    "    \n",
    "    tops = lda_model_qt_tfidf.get_document_topics(corpus_tfidf[0])\n",
    "    max1 = (0,0)\n",
    "    for i in tops:\n",
    "        if(i[1] > max1[1]):\n",
    "            max1 = i\n",
    "    aa1 = df_dominant_topic[df_dominant_topic[\"Text\"].notna()]\n",
    "    pos_doc = aa1[aa1[\"Dominant_Topic\"] == max1[0]][:10]\n",
    "    a1 = pos_doc[\"Text\"].tolist()\n",
    "#     fin_ans = dd[dd['QueryText'] == a1]['KccAns']\n",
    "    \n",
    "    fin_ans = []\n",
    "    for i in data.values:\n",
    "        if(i[5] in a1):\n",
    "            fin_ans.append(i[6])\n",
    "    return fin_ans[:10]"
   ]
  },
  {
   "cell_type": "code",
   "execution_count": 63,
   "id": "87a17aa0",
   "metadata": {},
   "outputs": [
    {
     "data": {
      "text/plain": [
       "['it may be rainfall on 2rd april',\n",
       " 'Mostly dry. Warm (max 37°C on Tue afternoon, min 24°C on Sun night). Wind will be generally light.',\n",
       " 'spray of 60 ml alfamethrin with 100 ltr water',\n",
       " 'Some drizzle, heaviest during Thu morning. Warm (max 35°C on Wed afternoon, min 25°C on Tue night). Wind will be generally light.',\n",
       " '6 MARLE /8KG SEED',\n",
       " 'Mostly dry. Warm (max 37°C on Tue afternoon, min 26°C on Sun night). Wind will be generally light.',\n",
       " 'SOME CHANCES OF RAIN IN NEXT 24 HOURS',\n",
       " 'SPRAY RIPCORD (10 EC) @ 200 ML IN 150 LITRE WATER/ACRE.',\n",
       " 'SOME CHANCES OF RAIN IN NEXT 24 HOURS',\n",
       " 'SOME CLOUDS AND NO CHANCES OF RAINFALL .']"
      ]
     },
     "execution_count": 63,
     "metadata": {},
     "output_type": "execute_result"
    }
   ],
   "source": [
    "aa = \"weather\"\n",
    "fin = pipeline(aa)\n",
    "fin"
   ]
  },
  {
   "cell_type": "code",
   "execution_count": 64,
   "id": "a878b1ef",
   "metadata": {},
   "outputs": [
    {
     "data": {
      "text/plain": [
       "['SUITABLE VARIETIES OF PADDY(JHONA)-PR-121,PR-122,PR-118,PR-114,PR-111,PR-116,PR-115,PR-113,PUSA-44,HKR-47,PUSA PUNJAB BASMATI-1509,PUNJAB BASMATI-3.',\n",
       " 'SPRAY OF STOMP 30 EC @ 1 LITRE IN THE 200 LITRESOF WATER/ACRE AT PRE-EMERGENCE STAGE.',\n",
       " 'THERE IS NO NEED TO IRRIGATE THE WHEAT.',\n",
       " 'spray bavistin 250gm in 150lit water per acre.',\n",
       " 'SUITABLE VARIETIES OF PADDY(JHONA)-PR-121,PR-122,PR-118,PR-114,PR-111,PR-116,PR-115,PR-113,PUSA-44,HKR-47,PUSA PUNJAB BASMATI-1509,PUNJAB BASMATI-3.',\n",
       " 'Light rain (total 2mm), mostly falling on  night',\n",
       " 'SPRAY ROGOR/METASYSTOX @ 150 ML IN 100 LITERS OF WATER/ACRE.',\n",
       " 'SUITABLE VARIETIES OF PADDY(JHONA)-PR-121,PR-122,PR-118,PR-114,PR-111,PR-116,PR-115,PR-113,PUSA-44,HKR-47,PUSA PUNJAB BASMATI-1509,PUNJAB BASMATI-3.',\n",
       " 'SUITABLE VARIETIES OF PADDY(JHONA)-PR-121,PR-122,PR-118,PR-114,PR-111,PR-116,PR-115,PR-113,PUSA-44,HKR-47,PUSA PUNJAB BASMATI-1509,PUNJAB BASMATI-3.',\n",
       " 'SUITABLE VARIETIES OF PADDY(JHONA)-PR-121,PR-122,PR-118,PR-114,PR-111,PR-116,PR-115,PR-113,PUSA-44,HKR-47,PUSA PUNJAB BASMATI-1509,PUNJAB BASMATI-3.']"
      ]
     },
     "execution_count": 64,
     "metadata": {},
     "output_type": "execute_result"
    }
   ],
   "source": [
    "aa = \"pesticides\"\n",
    "fin = pipeline(aa)\n",
    "fin"
   ]
  },
  {
   "cell_type": "code",
   "execution_count": 65,
   "id": "dd64a208",
   "metadata": {},
   "outputs": [
    {
     "data": {
      "text/plain": [
       "['SUITABLE VARIETIES OF PADDY(JHONA)-PR-121,PR-122,PR-118,PR-114,PR-111,PR-116,PR-115,PR-113,PUSA-44,HKR-47,PUSA PUNJAB BASMATI-1509,PUNJAB BASMATI-3.',\n",
       " 'SUITABLE VARIETIES OF PADDY(JHONA)-PR-121,PR-122,PR-118,PR-114,PR-111,PR-116,PR-115,PR-113,PUSA-44,HKR-47,PUSA PUNJAB BASMATI-1509,PUNJAB BASMATI-3.',\n",
       " 'SUITABLE VARIETIES OF PADDY(JHONA)-PR-121,PR-122,PR-118,PR-114,PR-111,PR-116,PR-115,PR-113,PUSA-44,HKR-47,PUSA PUNJAB BASMATI-1509,PUNJAB BASMATI-3.',\n",
       " 'SUITABLE VARIETIES OF PADDY(JHONA)-PR-121,PR-122,PR-118,PR-114,PR-111,PR-116,PR-115,PR-113,PUSA-44,HKR-47,PUSA PUNJAB BASMATI-1509,PUNJAB BASMATI-3.',\n",
       " 'SUITABLE VARIETIES OF PADDY(JHONA)-PR-121,PR-122,PR-118,PR-114,PR-111,PR-116,PR-115,PR-113,PUSA-44,HKR-47,PUSA PUNJAB BASMATI-1509,PUNJAB BASMATI-3.',\n",
       " 'SUITABLE VARIETIES OF PADDY(JHONA)-PR-121,PR-122,PR-118,PR-114,PR-111,PR-116,PR-115,PR-113,PUSA-44,HKR-47,PUSA PUNJAB BASMATI-1509,PUNJAB BASMATI-3.',\n",
       " 'SUITABLE VARIETIES OF PADDY(JHONA)-PR-121,PR-122,PR-118,PR-114,PR-111,PR-116,PR-115,PR-113,PUSA-44,HKR-47,PUSA PUNJAB BASMATI-1509,PUNJAB BASMATI-3.',\n",
       " 'SUITABLE VARIETIES OF PADDY(JHONA)-PR-121,PR-122,PR-118,PR-114,PR-111,PR-116,PR-115,PR-113,PUSA-44,HKR-47,PUSA PUNJAB BASMATI-1509,PUNJAB BASMATI-3.',\n",
       " 'SUITABLE VARIETIES OF PADDY(JHONA)-PR-121,PR-122,PR-118,PR-114,PR-111,PR-116,PR-115,PR-113,PUSA-44,HKR-47,PUSA PUNJAB BASMATI-1509,PUNJAB BASMATI-3.',\n",
       " 'SUITABLE VARIETIES OF PADDY(JHONA)-PR-121,PR-122,PR-118,PR-114,PR-111,PR-116,PR-115,PR-113,PUSA-44,HKR-47,PUSA PUNJAB BASMATI-1509,PUNJAB BASMATI-3.\\r\\nSUITABLE VARIETIES OF PADDY(JHONA)-PR-121,PR-122,PR-118,PR-114,PR-111,PR-116,PR-115,PR-113,PUSA-44,HKR-47,PUSA PUNJAB BASMATI-1509,PUNJAB BASMATI-3.']"
      ]
     },
     "execution_count": 65,
     "metadata": {},
     "output_type": "execute_result"
    }
   ],
   "source": [
    "aa = \"paddy\"\n",
    "fin = pipeline(aa)\n",
    "fin"
   ]
  },
  {
   "cell_type": "markdown",
   "id": "8162619f",
   "metadata": {},
   "source": [
    "## End"
   ]
  }
 ],
 "metadata": {
  "kernelspec": {
   "display_name": "Python 3",
   "language": "python",
   "name": "python3"
  },
  "language_info": {
   "codemirror_mode": {
    "name": "ipython",
    "version": 3
   },
   "file_extension": ".py",
   "mimetype": "text/x-python",
   "name": "python",
   "nbconvert_exporter": "python",
   "pygments_lexer": "ipython3",
   "version": "3.9.1"
  }
 },
 "nbformat": 4,
 "nbformat_minor": 5
}
