{
 "cells": [
  {
   "cell_type": "code",
   "execution_count": 4,
   "id": "d47a53e7",
   "metadata": {},
   "outputs": [],
   "source": [
    "import warnings\n",
    "warnings.filterwarnings(\"ignore\")\n",
    "\n",
    "from pymongo import MongoClient\n",
    "import json\n",
    "import numpy as np\n",
    "from pymongo import TEXT\n",
    "import os"
   ]
  },
  {
   "cell_type": "code",
   "execution_count": 7,
   "id": "8839c823",
   "metadata": {},
   "outputs": [
    {
     "name": "stdout",
     "output_type": "stream",
     "text": [
      "C:\\Users\\aniru\\Desktop\\Amrita\\Sem 5\\Big Data and Database Management\\Project\\Kisan-Query-Analysis\n"
     ]
    }
   ],
   "source": [
    "!pwd"
   ]
  },
  {
   "cell_type": "code",
   "execution_count": 6,
   "id": "9c944181",
   "metadata": {},
   "outputs": [],
   "source": [
    "os.chdir('..')"
   ]
  },
  {
   "cell_type": "code",
   "execution_count": 9,
   "id": "ad5f62f7",
   "metadata": {},
   "outputs": [
    {
     "name": "stdout",
     "output_type": "stream",
     "text": [
      "Doc.csv\n",
      "Dominant_Topic_for_Queries.csv\n",
      "KisanQueryAnalysis.zip\n",
      "csv\n",
      "json\n",
      "models\n",
      "query_agg.csv\n"
     ]
    }
   ],
   "source": [
    "!ls Data/"
   ]
  },
  {
   "cell_type": "code",
   "execution_count": 2,
   "id": "93c435e0",
   "metadata": {},
   "outputs": [],
   "source": [
    "client = MongoClient(\"mongodb://localhost:27017/\")"
   ]
  },
  {
   "cell_type": "code",
   "execution_count": 3,
   "id": "89e8f79e",
   "metadata": {},
   "outputs": [],
   "source": [
    "db_name = \"Kisan_Query_Analysis\"\n",
    "db = client[db_name]"
   ]
  },
  {
   "cell_type": "code",
   "execution_count": null,
   "id": "2a1d6796",
   "metadata": {},
   "outputs": [],
   "source": [
    "coll = db[\"query_aggregate\"]\n",
    "data = pd.read_csv('Data\\\\query_agg.csv')"
   ]
  },
  {
   "cell_type": "code",
   "execution_count": null,
   "id": "f8dc73a2",
   "metadata": {},
   "outputs": [],
   "source": [
    "payload = json.loads(data.to_json(orient='records'))\n",
    "coll.remove()\n",
    "coll.insert(payload)\n",
    "print()"
   ]
  }
 ],
 "metadata": {
  "kernelspec": {
   "display_name": "Python 3",
   "language": "python",
   "name": "python3"
  },
  "language_info": {
   "codemirror_mode": {
    "name": "ipython",
    "version": 3
   },
   "file_extension": ".py",
   "mimetype": "text/x-python",
   "name": "python",
   "nbconvert_exporter": "python",
   "pygments_lexer": "ipython3",
   "version": "3.9.1"
  }
 },
 "nbformat": 4,
 "nbformat_minor": 5
}
