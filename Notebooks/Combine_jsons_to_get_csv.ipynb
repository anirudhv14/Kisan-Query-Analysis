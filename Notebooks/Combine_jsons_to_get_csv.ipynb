{
 "cells": [
  {
   "cell_type": "code",
   "execution_count": 1,
   "id": "80ad1d72",
   "metadata": {},
   "outputs": [],
   "source": [
    "import pandas as pd\n",
    "import numpy as np\n",
    "import os"
   ]
  },
  {
   "cell_type": "code",
   "execution_count": 2,
   "id": "c2ad3ea2",
   "metadata": {},
   "outputs": [],
   "source": [
    "os.chdir('..')"
   ]
  },
  {
   "cell_type": "code",
   "execution_count": 18,
   "id": "dd88a8eb",
   "metadata": {},
   "outputs": [
    {
     "data": {
      "text/plain": [
       "'C:\\\\Users\\\\aniru\\\\Desktop\\\\Amrita\\\\Sem 5\\\\Big Data and Database Management\\\\Project'"
      ]
     },
     "execution_count": 18,
     "metadata": {},
     "output_type": "execute_result"
    }
   ],
   "source": [
    "os.getcwd()"
   ]
  },
  {
   "cell_type": "code",
   "execution_count": 12,
   "id": "06c3c7aa",
   "metadata": {},
   "outputs": [],
   "source": [
    "d1 = pd.read_json('Data\\\\json\\\\Aurangabad_Maharashtra_Jan_2020.json')"
   ]
  },
  {
   "cell_type": "code",
   "execution_count": 27,
   "id": "9349d5fc",
   "metadata": {},
   "outputs": [],
   "source": [
    "maharashtra_jsons = [i for i in os.listdir('Data\\\\json') if \"Maharashtra\" in i]\n",
    "kerala_jsons = [i for i in os.listdir('Data\\\\json') if \"Kerala\" in i]\n",
    "mizoram_jsons = [i for i in os.listdir('Data\\\\json') if \"Mizoram\" in i]\n",
    "puducherry_jsons = [i for i in os.listdir('Data\\\\json') if \"Puducherry\" in i]\n",
    "goa_jsons = [i for i in os.listdir('Data\\\\json') if \"Goa\" in i]\n",
    "westbengal_jsons = [i for i in os.listdir('Data\\\\json') if \"WestBengal\" in i]\n",
    "haryana_jsons = [i for i in os.listdir('Data\\\\json') if \"Haryana\" in i]\n",
    "punjab_jsons = [i for i in os.listdir('Data\\\\json') if \"Punjab\" in i]\n",
    "himachalpradesh_jsons = [i for i in os.listdir('Data\\\\json') if \"HimachalPradesh\" in i]\n",
    "tamilnadu_jsons = [i for i in os.listdir('Data\\\\json') if \"TamilNadu\" in i]\n",
    "tripura_jsons = [i for i in os.listdir('Data\\\\json') if \"Tripura\" in i]\n",
    "sikkim_jsons = [i for i in os.listdir('Data\\\\json') if \"Sikkim\" in i]\n",
    "jammuandkashmir_jsons = [i for i in os.listdir('Data\\\\json') if \"JammuandKashmir\" in i]\n",
    "karnataka_jsons = [i for i in os.listdir('Data\\\\json') if \"Karnataka\" in i]\n",
    "uttarakhand_jsons = [i for i in os.listdir('Data\\\\json') if \"Uttarakhand\" in i]\n",
    "assam_jsons = [i for i in os.listdir('Data\\\\json') if \"Assam\" in i]\n",
    "rajasthan_jsons = [i for i in os.listdir('Data\\\\json') if \"Rajasthan\" in i]\n",
    "uttarpradesh_jsons = [i for i in os.listdir('Data\\\\json') if \"UttarPradesh\" in i]\n",
    "madhyapradesh_jsons = [i for i in os.listdir('Data\\\\json') if \"MadhyaPradesh\" in i]"
   ]
  },
  {
   "cell_type": "code",
   "execution_count": 28,
   "id": "be26e608",
   "metadata": {},
   "outputs": [],
   "source": [
    "aaa = {\"Maharashtra\": maharashtra_jsons, \n",
    "       \"Kerala\": kerala_jsons, \n",
    "       \"Mizoram\":mizoram_jsons, \n",
    "       \"Puducherry\":puducherry_jsons, \n",
    "       \"Goa\":goa_jsons,\n",
    "       \"WestBengal\":westbengal_jsons,\n",
    "       \"Haryana\":haryana_jsons,\n",
    "       \"Punjab\":punjab_jsons,\n",
    "       \"HimachalPradesh\":himachalpradesh_jsons,\n",
    "       \"TamilNadu\":tamilnadu_jsons,\n",
    "       \"Tripura\":tripura_jsons,\n",
    "       \"Sikkim\":sikkim_jsons,\n",
    "       \"JammuandKashmir\":jammuandkashmir_jsons,\n",
    "       \"Karnataka\":karnataka_jsons,\n",
    "       \"Uttarakhand\":uttarakhand_jsons,\n",
    "       \"Assam\":assam_jsons,\n",
    "       \"Rajasthan\":rajasthan_jsons,\n",
    "       \"UttarPradesh\":uttarpradesh_jsons,\n",
    "       \"MadhyaPradesh\":madhyapradesh_jsons\n",
    "      }"
   ]
  },
  {
   "cell_type": "code",
   "execution_count": 29,
   "id": "70dc1b06",
   "metadata": {
    "scrolled": true
   },
   "outputs": [
    {
     "data": {
      "text/plain": [
       "['GoaNorth_Goa_Apr_2013.json',\n",
       " 'GoaNorth_Goa_Apr_2014.json',\n",
       " 'GoaNorth_Goa_Apr_2015.json',\n",
       " 'GoaNorth_Goa_Apr_2016.json',\n",
       " 'GoaNorth_Goa_Apr_2017.json',\n",
       " 'GoaNorth_Goa_Apr_2018.json',\n",
       " 'GoaNorth_Goa_Apr_2019.json',\n",
       " 'GoaNorth_Goa_Apr_2021.json',\n",
       " 'GoaNorth_Goa_Aug_2013.json',\n",
       " 'GoaNorth_Goa_Aug_2014.json',\n",
       " 'GoaNorth_Goa_Aug_2015.json',\n",
       " 'GoaNorth_Goa_Aug_2016.json',\n",
       " 'GoaNorth_Goa_Aug_2018.json',\n",
       " 'GoaNorth_Goa_Aug_2019.json',\n",
       " 'GoaNorth_Goa_Aug_2020.json',\n",
       " 'GoaNorth_Goa_Dec_2013.json',\n",
       " 'GoaNorth_Goa_Dec_2014.json',\n",
       " 'GoaNorth_Goa_Dec_2015.json',\n",
       " 'GoaNorth_Goa_Dec_2016.json',\n",
       " 'GoaNorth_Goa_Dec_2017.json',\n",
       " 'GoaNorth_Goa_Dec_2018.json',\n",
       " 'GoaNorth_Goa_Dec_2019.json',\n",
       " 'GoaNorth_Goa_Dec_2020.json',\n",
       " 'GoaNorth_Goa_Feb_2013.json',\n",
       " 'GoaNorth_Goa_Feb_2014.json',\n",
       " 'GoaNorth_Goa_Feb_2015.json',\n",
       " 'GoaNorth_Goa_Feb_2016.json',\n",
       " 'GoaNorth_Goa_Feb_2017.json',\n",
       " 'GoaNorth_Goa_Feb_2018.json',\n",
       " 'GoaNorth_Goa_Feb_2019.json',\n",
       " 'GoaNorth_Goa_Feb_2020.json',\n",
       " 'GoaNorth_Goa_Feb_2021.json',\n",
       " 'GoaNorth_Goa_Jan_2013.json',\n",
       " 'GoaNorth_Goa_Jan_2014.json',\n",
       " 'GoaNorth_Goa_Jan_2015.json',\n",
       " 'GoaNorth_Goa_Jan_2016.json',\n",
       " 'GoaNorth_Goa_Jan_2017.json',\n",
       " 'GoaNorth_Goa_Jan_2018.json',\n",
       " 'GoaNorth_Goa_Jan_2019.json',\n",
       " 'GoaNorth_Goa_Jan_2020.json',\n",
       " 'GoaNorth_Goa_Jan_2021.json',\n",
       " 'GoaNorth_Goa_Jul_2013.json',\n",
       " 'GoaNorth_Goa_Jul_2014.json',\n",
       " 'GoaNorth_Goa_Jul_2015.json',\n",
       " 'GoaNorth_Goa_Jul_2016.json',\n",
       " 'GoaNorth_Goa_Jul_2017.json',\n",
       " 'GoaNorth_Goa_Jul_2018.json',\n",
       " 'GoaNorth_Goa_Jul_2019.json',\n",
       " 'GoaNorth_Goa_Jul_2020.json',\n",
       " 'GoaNorth_Goa_Jun_2013.json',\n",
       " 'GoaNorth_Goa_Jun_2014.json',\n",
       " 'GoaNorth_Goa_Jun_2017.json',\n",
       " 'GoaNorth_Goa_Jun_2018.json',\n",
       " 'GoaNorth_Goa_Jun_2019.json',\n",
       " 'GoaNorth_Goa_Mar_2013.json',\n",
       " 'GoaNorth_Goa_Mar_2014.json',\n",
       " 'GoaNorth_Goa_Mar_2015.json',\n",
       " 'GoaNorth_Goa_Mar_2016.json',\n",
       " 'GoaNorth_Goa_Mar_2017.json',\n",
       " 'GoaNorth_Goa_Mar_2018.json',\n",
       " 'GoaNorth_Goa_Mar_2019.json',\n",
       " 'GoaNorth_Goa_Mar_2020.json',\n",
       " 'GoaNorth_Goa_Mar_2021.json',\n",
       " 'GoaNorth_Goa_May_2013.json',\n",
       " 'GoaNorth_Goa_May_2014.json',\n",
       " 'GoaNorth_Goa_May_2015.json',\n",
       " 'GoaNorth_Goa_May_2016.json',\n",
       " 'GoaNorth_Goa_May_2017.json',\n",
       " 'GoaNorth_Goa_May_2018.json',\n",
       " 'GoaNorth_Goa_May_2019.json',\n",
       " 'GoaNorth_Goa_Nov_2013.json',\n",
       " 'GoaNorth_Goa_Nov_2014.json',\n",
       " 'GoaNorth_Goa_Nov_2015.json',\n",
       " 'GoaNorth_Goa_Nov_2016.json',\n",
       " 'GoaNorth_Goa_Nov_2017.json',\n",
       " 'GoaNorth_Goa_Nov_2018.json',\n",
       " 'GoaNorth_Goa_Nov_2019.json',\n",
       " 'GoaNorth_Goa_Nov_2020.json',\n",
       " 'GoaNorth_Goa_Nov_2021.json',\n",
       " 'GoaNorth_Goa_Oct_2013.json',\n",
       " 'GoaNorth_Goa_Oct_2014.json',\n",
       " 'GoaNorth_Goa_Oct_2015.json',\n",
       " 'GoaNorth_Goa_Oct_2016.json',\n",
       " 'GoaNorth_Goa_Oct_2017.json',\n",
       " 'GoaNorth_Goa_Oct_2018.json',\n",
       " 'GoaNorth_Goa_Oct_2019.json',\n",
       " 'GoaNorth_Goa_Oct_2020.json',\n",
       " 'GoaNorth_Goa_Oct_2021.json',\n",
       " 'GoaNorth_Goa_Sep_2013.json',\n",
       " 'GoaNorth_Goa_Sep_2014.json',\n",
       " 'GoaNorth_Goa_Sep_2015.json',\n",
       " 'GoaNorth_Goa_Sep_2016.json',\n",
       " 'GoaNorth_Goa_Sep_2017.json',\n",
       " 'GoaNorth_Goa_Sep_2018.json',\n",
       " 'GoaNorth_Goa_Sep_2019.json',\n",
       " 'GoaNorth_Goa_Sep_2020.json',\n",
       " 'GoaNorth_Goa_Sep_2021.json',\n",
       " 'GoaSouth_Goa_Oct_2020.json']"
      ]
     },
     "execution_count": 29,
     "metadata": {},
     "output_type": "execute_result"
    }
   ],
   "source": [
    "goa_jsons"
   ]
  },
  {
   "cell_type": "code",
   "execution_count": 30,
   "id": "a7615fc1",
   "metadata": {},
   "outputs": [],
   "source": [
    "for i,j in aaa.items():\n",
    "    aa = []\n",
    "    for k in j:\n",
    "        data = pd.read_json(\"Data\\\\json\\\\\"+k)\n",
    "        for ll in data.data:\n",
    "            aa.append(ll)\n",
    "    a = pd.DataFrame(aa)\n",
    "    a.to_csv('Data\\\\csv\\\\'+i+\".csv\", index=False)"
   ]
  },
  {
   "cell_type": "code",
   "execution_count": 31,
   "id": "5ffca58b",
   "metadata": {
    "scrolled": true
   },
   "outputs": [],
   "source": [
    "d1 = pd.read_csv('Data\\\\csv\\\\Punjab.csv')"
   ]
  },
  {
   "cell_type": "markdown",
   "id": "1c2568e5",
   "metadata": {},
   "source": [
    "End"
   ]
  }
 ],
 "metadata": {
  "kernelspec": {
   "display_name": "Python 3",
   "language": "python",
   "name": "python3"
  },
  "language_info": {
   "codemirror_mode": {
    "name": "ipython",
    "version": 3
   },
   "file_extension": ".py",
   "mimetype": "text/x-python",
   "name": "python",
   "nbconvert_exporter": "python",
   "pygments_lexer": "ipython3",
   "version": "3.9.1"
  }
 },
 "nbformat": 4,
 "nbformat_minor": 5
}
