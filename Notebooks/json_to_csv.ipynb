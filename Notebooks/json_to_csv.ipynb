{
 "cells": [
  {
   "cell_type": "code",
   "execution_count": 43,
   "id": "a886007b",
   "metadata": {},
   "outputs": [],
   "source": [
    "import json\n",
    "import pandas as pd\n",
    "import os"
   ]
  },
  {
   "cell_type": "code",
   "execution_count": 8,
   "id": "36a81368",
   "metadata": {},
   "outputs": [],
   "source": [
    "os.chdir('..')"
   ]
  },
  {
   "cell_type": "code",
   "execution_count": 44,
   "id": "b5f66c56",
   "metadata": {},
   "outputs": [
    {
     "data": {
      "text/plain": [
       "'C:\\\\Users\\\\aniru\\\\Desktop\\\\Amrita\\\\Sem 5\\\\Big Data and Database Management\\\\Project'"
      ]
     },
     "execution_count": 44,
     "metadata": {},
     "output_type": "execute_result"
    }
   ],
   "source": [
    "os.getcwd()"
   ]
  },
  {
   "cell_type": "code",
   "execution_count": 24,
   "id": "3b474b73",
   "metadata": {
    "scrolled": true
   },
   "outputs": [],
   "source": [
    "filename = \"Data\\\\Puducherry_Puducherry_Oct_2020.json\"\n",
    "data = pd.read_json(filename)"
   ]
  },
  {
   "cell_type": "code",
   "execution_count": 45,
   "id": "e9cda66b",
   "metadata": {},
   "outputs": [],
   "source": [
    "path_to_json = 'Data\\\\json\\\\'\n",
    "json_files = [pos_json for pos_json in os.listdir(path_to_json) if pos_json.endswith('.json')]"
   ]
  },
  {
   "cell_type": "code",
   "execution_count": 49,
   "id": "9339f31b",
   "metadata": {
    "scrolled": true
   },
   "outputs": [
    {
     "data": {
      "text/plain": [
       "['Aizwal_Mizoram_Dec_2020.json',\n",
       " 'Aizwal_Mizoram_Nov_2020.json',\n",
       " 'Daman_DamanAndDiu_Jul_2020.json',\n",
       " 'Diu_DamanAndDiu_Jun_2020.json',\n",
       " 'GoaNorth_Goa_Aug_2020.json',\n",
       " 'GoaNorth_Goa_Feb_2020.json',\n",
       " 'GoaNorth_Goa_Jan_2020.json',\n",
       " 'GoaNorth_Goa_Jul_2020.json',\n",
       " 'GoaSouth_Goa_Oct_2020.json',\n",
       " 'Karaikal_Pudicherry_Oct_2020.json',\n",
       " 'Lawngtlai_Mizoram_Dec_2020.json',\n",
       " 'Lawngtlai_Mizoram_Jun_2020.json',\n",
       " 'Puducherry_Puducherry_Oct_2020.json']"
      ]
     },
     "execution_count": 49,
     "metadata": {},
     "output_type": "execute_result"
    }
   ],
   "source": [
    "json_files"
   ]
  },
  {
   "cell_type": "code",
   "execution_count": 50,
   "id": "bfbe8583",
   "metadata": {},
   "outputs": [
    {
     "name": "stdout",
     "output_type": "stream",
     "text": [
      "Aizwal_Mizoram_Dec_2020.json\n",
      "Aizwal_Mizoram_Nov_2020.json\n",
      "Daman_DamanAndDiu_Jul_2020.json\n",
      "Diu_DamanAndDiu_Jun_2020.json\n",
      "GoaNorth_Goa_Aug_2020.json\n",
      "GoaNorth_Goa_Feb_2020.json\n",
      "GoaNorth_Goa_Jan_2020.json\n",
      "GoaNorth_Goa_Jul_2020.json\n",
      "GoaSouth_Goa_Oct_2020.json\n",
      "Karaikal_Pudicherry_Oct_2020.json\n",
      "Lawngtlai_Mizoram_Dec_2020.json\n",
      "Lawngtlai_Mizoram_Jun_2020.json\n",
      "Puducherry_Puducherry_Oct_2020.json\n"
     ]
    }
   ],
   "source": [
    "for i in json_files:\n",
    "    filename = \"Data\\\\\" + i\n",
    "    print(i)\n",
    "    data = pd.read_json(filename)\n",
    "    aa = []\n",
    "    for i in data.data:\n",
    "        aa.append(i)\n",
    "    a = pd.DataFrame(aa)\n",
    "    a.to_csv(filename.split('.')[0] + \".csv\")"
   ]
  },
  {
   "cell_type": "code",
   "execution_count": 26,
   "id": "c931a5e9",
   "metadata": {
    "scrolled": true
   },
   "outputs": [],
   "source": [
    "aa = []\n",
    "for i in data.data:\n",
    "    aa.append(i)"
   ]
  },
  {
   "cell_type": "code",
   "execution_count": 36,
   "id": "30edd072",
   "metadata": {},
   "outputs": [],
   "source": [
    "a = pd.DataFrame(aa)"
   ]
  },
  {
   "cell_type": "code",
   "execution_count": 40,
   "id": "80615e72",
   "metadata": {},
   "outputs": [],
   "source": [
    "a.to_csv(filename.split('.')[0] + \".csv\")"
   ]
  },
  {
   "cell_type": "code",
   "execution_count": 39,
   "id": "1d506fa6",
   "metadata": {},
   "outputs": [
    {
     "data": {
      "text/plain": [
       "'Data\\\\Puducherry_Puducherry_Oct_2020csv'"
      ]
     },
     "execution_count": 39,
     "metadata": {},
     "output_type": "execute_result"
    }
   ],
   "source": [
    "filename.split('.')[0] + \"csv\""
   ]
  }
 ],
 "metadata": {
  "kernelspec": {
   "display_name": "Python 3",
   "language": "python",
   "name": "python3"
  },
  "language_info": {
   "codemirror_mode": {
    "name": "ipython",
    "version": 3
   },
   "file_extension": ".py",
   "mimetype": "text/x-python",
   "name": "python",
   "nbconvert_exporter": "python",
   "pygments_lexer": "ipython3",
   "version": "3.9.1"
  }
 },
 "nbformat": 4,
 "nbformat_minor": 5
}
