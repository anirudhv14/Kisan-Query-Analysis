{
 "cells": [
  {
   "cell_type": "code",
   "execution_count": null,
   "id": "89da9161",
   "metadata": {
    "id": "89da9161"
   },
   "outputs": [],
   "source": [
    "import requests\n",
    "import json\n",
    "import os"
   ]
  },
  {
   "cell_type": "code",
   "execution_count": null,
   "id": "989591ae",
   "metadata": {
    "id": "989591ae"
   },
   "outputs": [],
   "source": [
    "os.chdir('..')"
   ]
  },
  {
   "cell_type": "markdown",
   "id": "158ec423",
   "metadata": {
    "id": "158ec423"
   },
   "source": [
    "Bangalore, Karnataka"
   ]
  },
  {
   "cell_type": "code",
   "execution_count": null,
   "id": "880baca0",
   "metadata": {
    "id": "880baca0"
   },
   "outputs": [],
   "source": [
    "http = \"http://dackkms.gov.in/Account/API/kKMS_QueryData.aspx?StateCD=08&DistrictCd=0801&Month=1&Year=2020\""
   ]
  },
  {
   "cell_type": "code",
   "execution_count": 5,
   "id": "4b50c214",
   "metadata": {
    "id": "4b50c214"
   },
   "outputs": [
    {
     "name": "stdout",
     "output_type": "stream",
     "text": [
      "2013\n",
      "2014\n",
      "2015\n",
      "2016\n",
      "2017\n",
      "2018\n",
      "2019\n",
      "2020\n",
      "2021\n"
     ]
    }
   ],
   "source": [
    "jsons_yr = {}\n",
    "months = {1:'Jan', 2:\"Feb\", 3:\"Mar\", 4:\"Apr\", 5:\"May\", 6:\"Jun\", 7:\"Jul\", 8:\"Aug\", 9:\"Sep\", 10:\"Oct\", 11:\"Nov\", 12:\"Dec\"}\n",
    "for i in range(2013,2022):\n",
    "    print(i)\n",
    "    jsons = {}\n",
    "    for j in range(1,13):\n",
    "        aa = json.loads(requests.get('http://dackkms.gov.in/Account/API/kKMS_QueryData.aspx?StateCD=08&DistrictCd=0801&Month='+str(j)+'&Year='+str(i)).text)\n",
    "        if(int(aa['ResponseCode']) == 1):\n",
    "            jsons[months[j]] = aa\n",
    "    jsons_yr[i] = jsons"
   ]
  },
  {
   "cell_type": "code",
   "execution_count": 6,
   "id": "5b39b1b0",
   "metadata": {
    "colab": {
     "base_uri": "https://localhost:8080/"
    },
    "id": "5b39b1b0",
    "outputId": "2f8b5487-e28e-4fa9-d657-c7d762bf5f2a",
    "scrolled": true
   },
   "outputs": [
    {
     "name": "stdout",
     "output_type": "stream",
     "text": [
      "Data\\json\\Bangalore_Karnataka_Jan_2013.json\n",
      "Data\\json\\Bangalore_Karnataka_Feb_2013.json\n",
      "Data\\json\\Bangalore_Karnataka_Mar_2013.json\n",
      "Data\\json\\Bangalore_Karnataka_Apr_2013.json\n",
      "Data\\json\\Bangalore_Karnataka_May_2013.json\n",
      "Data\\json\\Bangalore_Karnataka_Jun_2013.json\n",
      "Data\\json\\Bangalore_Karnataka_Jul_2013.json\n",
      "Data\\json\\Bangalore_Karnataka_Aug_2013.json\n",
      "Data\\json\\Bangalore_Karnataka_Sep_2013.json\n",
      "Data\\json\\Bangalore_Karnataka_Oct_2013.json\n",
      "Data\\json\\Bangalore_Karnataka_Nov_2013.json\n",
      "Data\\json\\Bangalore_Karnataka_Dec_2013.json\n",
      "Data\\json\\Bangalore_Karnataka_Jan_2014.json\n",
      "Data\\json\\Bangalore_Karnataka_Feb_2014.json\n",
      "Data\\json\\Bangalore_Karnataka_Mar_2014.json\n",
      "Data\\json\\Bangalore_Karnataka_Apr_2014.json\n",
      "Data\\json\\Bangalore_Karnataka_May_2014.json\n",
      "Data\\json\\Bangalore_Karnataka_Jun_2014.json\n",
      "Data\\json\\Bangalore_Karnataka_Jul_2014.json\n",
      "Data\\json\\Bangalore_Karnataka_Aug_2014.json\n",
      "Data\\json\\Bangalore_Karnataka_Sep_2014.json\n",
      "Data\\json\\Bangalore_Karnataka_Oct_2014.json\n",
      "Data\\json\\Bangalore_Karnataka_Nov_2014.json\n",
      "Data\\json\\Bangalore_Karnataka_Dec_2014.json\n",
      "Data\\json\\Bangalore_Karnataka_Jan_2015.json\n",
      "Data\\json\\Bangalore_Karnataka_Feb_2015.json\n",
      "Data\\json\\Bangalore_Karnataka_Mar_2015.json\n",
      "Data\\json\\Bangalore_Karnataka_Apr_2015.json\n",
      "Data\\json\\Bangalore_Karnataka_May_2015.json\n",
      "Data\\json\\Bangalore_Karnataka_Jun_2015.json\n",
      "Data\\json\\Bangalore_Karnataka_Jul_2015.json\n",
      "Data\\json\\Bangalore_Karnataka_Aug_2015.json\n",
      "Data\\json\\Bangalore_Karnataka_Sep_2015.json\n",
      "Data\\json\\Bangalore_Karnataka_Oct_2015.json\n",
      "Data\\json\\Bangalore_Karnataka_Nov_2015.json\n",
      "Data\\json\\Bangalore_Karnataka_Dec_2015.json\n",
      "Data\\json\\Bangalore_Karnataka_Jan_2016.json\n",
      "Data\\json\\Bangalore_Karnataka_Feb_2016.json\n",
      "Data\\json\\Bangalore_Karnataka_Mar_2016.json\n",
      "Data\\json\\Bangalore_Karnataka_Apr_2016.json\n",
      "Data\\json\\Bangalore_Karnataka_May_2016.json\n",
      "Data\\json\\Bangalore_Karnataka_Jun_2016.json\n",
      "Data\\json\\Bangalore_Karnataka_Jul_2016.json\n",
      "Data\\json\\Bangalore_Karnataka_Aug_2016.json\n",
      "Data\\json\\Bangalore_Karnataka_Sep_2016.json\n",
      "Data\\json\\Bangalore_Karnataka_Oct_2016.json\n",
      "Data\\json\\Bangalore_Karnataka_Nov_2016.json\n",
      "Data\\json\\Bangalore_Karnataka_Dec_2016.json\n",
      "Data\\json\\Bangalore_Karnataka_Jan_2017.json\n",
      "Data\\json\\Bangalore_Karnataka_Feb_2017.json\n",
      "Data\\json\\Bangalore_Karnataka_Mar_2017.json\n",
      "Data\\json\\Bangalore_Karnataka_Apr_2017.json\n",
      "Data\\json\\Bangalore_Karnataka_May_2017.json\n",
      "Data\\json\\Bangalore_Karnataka_Jun_2017.json\n",
      "Data\\json\\Bangalore_Karnataka_Jul_2017.json\n",
      "Data\\json\\Bangalore_Karnataka_Aug_2017.json\n",
      "Data\\json\\Bangalore_Karnataka_Sep_2017.json\n",
      "Data\\json\\Bangalore_Karnataka_Oct_2017.json\n",
      "Data\\json\\Bangalore_Karnataka_Nov_2017.json\n",
      "Data\\json\\Bangalore_Karnataka_Dec_2017.json\n",
      "Data\\json\\Bangalore_Karnataka_Jan_2018.json\n",
      "Data\\json\\Bangalore_Karnataka_Feb_2018.json\n",
      "Data\\json\\Bangalore_Karnataka_Mar_2018.json\n",
      "Data\\json\\Bangalore_Karnataka_Apr_2018.json\n",
      "Data\\json\\Bangalore_Karnataka_May_2018.json\n",
      "Data\\json\\Bangalore_Karnataka_Jun_2018.json\n",
      "Data\\json\\Bangalore_Karnataka_Jul_2018.json\n",
      "Data\\json\\Bangalore_Karnataka_Aug_2018.json\n",
      "Data\\json\\Bangalore_Karnataka_Sep_2018.json\n",
      "Data\\json\\Bangalore_Karnataka_Oct_2018.json\n",
      "Data\\json\\Bangalore_Karnataka_Nov_2018.json\n",
      "Data\\json\\Bangalore_Karnataka_Dec_2018.json\n",
      "Data\\json\\Bangalore_Karnataka_Jan_2019.json\n",
      "Data\\json\\Bangalore_Karnataka_Feb_2019.json\n",
      "Data\\json\\Bangalore_Karnataka_Mar_2019.json\n",
      "Data\\json\\Bangalore_Karnataka_Apr_2019.json\n",
      "Data\\json\\Bangalore_Karnataka_May_2019.json\n",
      "Data\\json\\Bangalore_Karnataka_Jun_2019.json\n",
      "Data\\json\\Bangalore_Karnataka_Jul_2019.json\n",
      "Data\\json\\Bangalore_Karnataka_Aug_2019.json\n",
      "Data\\json\\Bangalore_Karnataka_Sep_2019.json\n",
      "Data\\json\\Bangalore_Karnataka_Oct_2019.json\n",
      "Data\\json\\Bangalore_Karnataka_Nov_2019.json\n",
      "Data\\json\\Bangalore_Karnataka_Dec_2019.json\n",
      "Data\\json\\Bangalore_Karnataka_Jan_2020.json\n",
      "Data\\json\\Bangalore_Karnataka_Feb_2020.json\n",
      "Data\\json\\Bangalore_Karnataka_Mar_2020.json\n",
      "Data\\json\\Bangalore_Karnataka_Jun_2020.json\n",
      "Data\\json\\Bangalore_Karnataka_Jul_2020.json\n",
      "Data\\json\\Bangalore_Karnataka_Aug_2020.json\n",
      "Data\\json\\Bangalore_Karnataka_Sep_2020.json\n",
      "Data\\json\\Bangalore_Karnataka_Oct_2020.json\n",
      "Data\\json\\Bangalore_Karnataka_Nov_2020.json\n",
      "Data\\json\\Bangalore_Karnataka_Dec_2020.json\n",
      "Data\\json\\Bangalore_Karnataka_Jan_2021.json\n",
      "Data\\json\\Bangalore_Karnataka_Feb_2021.json\n",
      "Data\\json\\Bangalore_Karnataka_Mar_2021.json\n",
      "Data\\json\\Bangalore_Karnataka_Apr_2021.json\n",
      "Data\\json\\Bangalore_Karnataka_Jun_2021.json\n",
      "Data\\json\\Bangalore_Karnataka_Aug_2021.json\n",
      "Data\\json\\Bangalore_Karnataka_Sep_2021.json\n",
      "Data\\json\\Bangalore_Karnataka_Oct_2021.json\n",
      "Data\\json\\Bangalore_Karnataka_Nov_2021.json\n"
     ]
    }
   ],
   "source": [
    "for i,j in jsons_yr.items():\n",
    "    fname = \"Data\\\\json\\\\Bangalore_Karnataka_\"\n",
    "    for k in j.keys():\n",
    "        print(fname+k+\"_\"+str(i)+'.json')\n",
    "        with open(fname+k+\"_\"+str(i)+'.json', 'w') as outfile:\n",
    "            json.dump(jsons_yr[i][k], outfile)"
   ]
  },
  {
   "cell_type": "markdown",
   "id": "ecd501f9",
   "metadata": {
    "id": "ecd501f9"
   },
   "source": [
    "Bellary, Karnataka"
   ]
  },
  {
   "cell_type": "code",
   "execution_count": 7,
   "id": "946abad0",
   "metadata": {
    "id": "946abad0"
   },
   "outputs": [],
   "source": [
    "http = \"http://dackkms.gov.in/Account/API/kKMS_QueryData.aspx?StateCD=08&DistrictCd=0803&Month=6&Year=2020\""
   ]
  },
  {
   "cell_type": "code",
   "execution_count": 8,
   "id": "a17fb41e",
   "metadata": {
    "id": "a17fb41e"
   },
   "outputs": [
    {
     "name": "stdout",
     "output_type": "stream",
     "text": [
      "2013\n",
      "2014\n",
      "2015\n",
      "2016\n",
      "2017\n",
      "2018\n",
      "2019\n",
      "2020\n",
      "2021\n"
     ]
    }
   ],
   "source": [
    "jsons_yr = {}\n",
    "months = {1:'Jan', 2:\"Feb\", 3:\"Mar\", 4:\"Apr\", 5:\"May\", 6:\"Jun\", 7:\"Jul\", 8:\"Aug\", 9:\"Sep\", 10:\"Oct\", 11:\"Nov\", 12:\"Dec\"}\n",
    "for i in range(2013,2022):\n",
    "    print(i)\n",
    "    jsons = {}\n",
    "    for j in range(1,13):\n",
    "        aa = json.loads(requests.get('http://dackkms.gov.in/Account/API/kKMS_QueryData.aspx?StateCD=08&DistrictCd=0803&Month='+str(j)+'&Year='+str(i)).text)\n",
    "        if(int(aa['ResponseCode']) == 1):\n",
    "            jsons[months[j]] = aa\n",
    "    jsons_yr[i] = jsons"
   ]
  },
  {
   "cell_type": "code",
   "execution_count": 9,
   "id": "b057784a",
   "metadata": {
    "colab": {
     "base_uri": "https://localhost:8080/"
    },
    "id": "b057784a",
    "outputId": "3082095d-6c24-4a2a-946f-b50d2bedca3c",
    "scrolled": true
   },
   "outputs": [
    {
     "name": "stdout",
     "output_type": "stream",
     "text": [
      "Data\\json\\Bellary_Karnataka_Jan_2013.json\n",
      "Data\\json\\Bellary_Karnataka_Feb_2013.json\n",
      "Data\\json\\Bellary_Karnataka_Mar_2013.json\n",
      "Data\\json\\Bellary_Karnataka_Apr_2013.json\n",
      "Data\\json\\Bellary_Karnataka_May_2013.json\n",
      "Data\\json\\Bellary_Karnataka_Jun_2013.json\n",
      "Data\\json\\Bellary_Karnataka_Jul_2013.json\n",
      "Data\\json\\Bellary_Karnataka_Aug_2013.json\n",
      "Data\\json\\Bellary_Karnataka_Sep_2013.json\n",
      "Data\\json\\Bellary_Karnataka_Oct_2013.json\n",
      "Data\\json\\Bellary_Karnataka_Nov_2013.json\n",
      "Data\\json\\Bellary_Karnataka_Dec_2013.json\n",
      "Data\\json\\Bellary_Karnataka_Jan_2014.json\n",
      "Data\\json\\Bellary_Karnataka_Feb_2014.json\n",
      "Data\\json\\Bellary_Karnataka_Mar_2014.json\n",
      "Data\\json\\Bellary_Karnataka_Apr_2014.json\n",
      "Data\\json\\Bellary_Karnataka_May_2014.json\n",
      "Data\\json\\Bellary_Karnataka_Jun_2014.json\n",
      "Data\\json\\Bellary_Karnataka_Jul_2014.json\n",
      "Data\\json\\Bellary_Karnataka_Aug_2014.json\n",
      "Data\\json\\Bellary_Karnataka_Sep_2014.json\n",
      "Data\\json\\Bellary_Karnataka_Oct_2014.json\n",
      "Data\\json\\Bellary_Karnataka_Nov_2014.json\n",
      "Data\\json\\Bellary_Karnataka_Dec_2014.json\n",
      "Data\\json\\Bellary_Karnataka_Jan_2015.json\n",
      "Data\\json\\Bellary_Karnataka_Feb_2015.json\n",
      "Data\\json\\Bellary_Karnataka_Mar_2015.json\n",
      "Data\\json\\Bellary_Karnataka_Apr_2015.json\n",
      "Data\\json\\Bellary_Karnataka_May_2015.json\n",
      "Data\\json\\Bellary_Karnataka_Jun_2015.json\n",
      "Data\\json\\Bellary_Karnataka_Jul_2015.json\n",
      "Data\\json\\Bellary_Karnataka_Aug_2015.json\n",
      "Data\\json\\Bellary_Karnataka_Sep_2015.json\n",
      "Data\\json\\Bellary_Karnataka_Oct_2015.json\n",
      "Data\\json\\Bellary_Karnataka_Nov_2015.json\n",
      "Data\\json\\Bellary_Karnataka_Dec_2015.json\n",
      "Data\\json\\Bellary_Karnataka_Jan_2016.json\n",
      "Data\\json\\Bellary_Karnataka_Feb_2016.json\n",
      "Data\\json\\Bellary_Karnataka_Mar_2016.json\n",
      "Data\\json\\Bellary_Karnataka_Apr_2016.json\n",
      "Data\\json\\Bellary_Karnataka_May_2016.json\n",
      "Data\\json\\Bellary_Karnataka_Jun_2016.json\n",
      "Data\\json\\Bellary_Karnataka_Jul_2016.json\n",
      "Data\\json\\Bellary_Karnataka_Aug_2016.json\n",
      "Data\\json\\Bellary_Karnataka_Sep_2016.json\n",
      "Data\\json\\Bellary_Karnataka_Oct_2016.json\n",
      "Data\\json\\Bellary_Karnataka_Nov_2016.json\n",
      "Data\\json\\Bellary_Karnataka_Dec_2016.json\n",
      "Data\\json\\Bellary_Karnataka_Jan_2017.json\n",
      "Data\\json\\Bellary_Karnataka_Feb_2017.json\n",
      "Data\\json\\Bellary_Karnataka_Mar_2017.json\n",
      "Data\\json\\Bellary_Karnataka_Apr_2017.json\n",
      "Data\\json\\Bellary_Karnataka_May_2017.json\n",
      "Data\\json\\Bellary_Karnataka_Jun_2017.json\n",
      "Data\\json\\Bellary_Karnataka_Jul_2017.json\n",
      "Data\\json\\Bellary_Karnataka_Aug_2017.json\n",
      "Data\\json\\Bellary_Karnataka_Sep_2017.json\n",
      "Data\\json\\Bellary_Karnataka_Oct_2017.json\n",
      "Data\\json\\Bellary_Karnataka_Nov_2017.json\n",
      "Data\\json\\Bellary_Karnataka_Dec_2017.json\n",
      "Data\\json\\Bellary_Karnataka_Jan_2018.json\n",
      "Data\\json\\Bellary_Karnataka_Feb_2018.json\n",
      "Data\\json\\Bellary_Karnataka_Mar_2018.json\n",
      "Data\\json\\Bellary_Karnataka_Apr_2018.json\n",
      "Data\\json\\Bellary_Karnataka_May_2018.json\n",
      "Data\\json\\Bellary_Karnataka_Jun_2018.json\n",
      "Data\\json\\Bellary_Karnataka_Jul_2018.json\n",
      "Data\\json\\Bellary_Karnataka_Aug_2018.json\n",
      "Data\\json\\Bellary_Karnataka_Sep_2018.json\n",
      "Data\\json\\Bellary_Karnataka_Oct_2018.json\n",
      "Data\\json\\Bellary_Karnataka_Nov_2018.json\n",
      "Data\\json\\Bellary_Karnataka_Dec_2018.json\n",
      "Data\\json\\Bellary_Karnataka_Jan_2019.json\n",
      "Data\\json\\Bellary_Karnataka_Feb_2019.json\n",
      "Data\\json\\Bellary_Karnataka_Mar_2019.json\n",
      "Data\\json\\Bellary_Karnataka_Apr_2019.json\n",
      "Data\\json\\Bellary_Karnataka_May_2019.json\n",
      "Data\\json\\Bellary_Karnataka_Jun_2019.json\n",
      "Data\\json\\Bellary_Karnataka_Jul_2019.json\n",
      "Data\\json\\Bellary_Karnataka_Aug_2019.json\n",
      "Data\\json\\Bellary_Karnataka_Sep_2019.json\n",
      "Data\\json\\Bellary_Karnataka_Oct_2019.json\n",
      "Data\\json\\Bellary_Karnataka_Nov_2019.json\n",
      "Data\\json\\Bellary_Karnataka_Dec_2019.json\n",
      "Data\\json\\Bellary_Karnataka_Jan_2020.json\n",
      "Data\\json\\Bellary_Karnataka_Feb_2020.json\n",
      "Data\\json\\Bellary_Karnataka_Mar_2020.json\n",
      "Data\\json\\Bellary_Karnataka_Jun_2020.json\n",
      "Data\\json\\Bellary_Karnataka_Jul_2020.json\n",
      "Data\\json\\Bellary_Karnataka_Aug_2020.json\n",
      "Data\\json\\Bellary_Karnataka_Sep_2020.json\n",
      "Data\\json\\Bellary_Karnataka_Oct_2020.json\n",
      "Data\\json\\Bellary_Karnataka_Nov_2020.json\n",
      "Data\\json\\Bellary_Karnataka_Dec_2020.json\n",
      "Data\\json\\Bellary_Karnataka_Jan_2021.json\n",
      "Data\\json\\Bellary_Karnataka_Feb_2021.json\n",
      "Data\\json\\Bellary_Karnataka_Mar_2021.json\n",
      "Data\\json\\Bellary_Karnataka_Apr_2021.json\n",
      "Data\\json\\Bellary_Karnataka_Aug_2021.json\n",
      "Data\\json\\Bellary_Karnataka_Sep_2021.json\n",
      "Data\\json\\Bellary_Karnataka_Oct_2021.json\n",
      "Data\\json\\Bellary_Karnataka_Nov_2021.json\n"
     ]
    }
   ],
   "source": [
    "for i,j in jsons_yr.items():\n",
    "    fname = \"Data\\\\json\\\\Bellary_Karnataka_\"\n",
    "    for k in j.keys():\n",
    "        print(fname+k+\"_\"+str(i)+'.json')\n",
    "        with open(fname+k+\"_\"+str(i)+'.json', 'w') as outfile:\n",
    "            json.dump(jsons_yr[i][k], outfile)"
   ]
  },
  {
   "cell_type": "markdown",
   "id": "c2acb5ba",
   "metadata": {
    "id": "c2acb5ba"
   },
   "source": [
    "Kodagu, Karnataka"
   ]
  },
  {
   "cell_type": "code",
   "execution_count": 10,
   "id": "048e5e83",
   "metadata": {
    "id": "048e5e83"
   },
   "outputs": [],
   "source": [
    "http = \"http://dackkms.gov.in/Account/API/kKMS_QueryData.aspx?StateCD=08&DistrictCd=0812&Month=1&Year=2020\""
   ]
  },
  {
   "cell_type": "code",
   "execution_count": 11,
   "id": "bfc01d38",
   "metadata": {
    "id": "bfc01d38"
   },
   "outputs": [
    {
     "name": "stdout",
     "output_type": "stream",
     "text": [
      "2013\n",
      "2014\n",
      "2015\n",
      "2016\n",
      "2017\n",
      "2018\n",
      "2019\n",
      "2020\n",
      "2021\n"
     ]
    }
   ],
   "source": [
    "jsons_yr = {}\n",
    "months = {1:'Jan', 2:\"Feb\", 3:\"Mar\", 4:\"Apr\", 5:\"May\", 6:\"Jun\", 7:\"Jul\", 8:\"Aug\", 9:\"Sep\", 10:\"Oct\", 11:\"Nov\", 12:\"Dec\"}\n",
    "for i in range(2013,2022):\n",
    "    print(i)\n",
    "    jsons = {}\n",
    "    for j in range(1,13):\n",
    "        aa = json.loads(requests.get('http://dackkms.gov.in/Account/API/kKMS_QueryData.aspx?StateCD=08&DistrictCd=0812&Month='+str(j)+'&Year='+str(i)).text)\n",
    "        if(int(aa['ResponseCode']) == 1):\n",
    "            jsons[months[j]] = aa\n",
    "    jsons_yr[i] = jsons"
   ]
  },
  {
   "cell_type": "code",
   "execution_count": 12,
   "id": "b31292a8",
   "metadata": {
    "colab": {
     "base_uri": "https://localhost:8080/"
    },
    "id": "b31292a8",
    "outputId": "2d14433b-9e99-4385-82d0-b7c4794295d2",
    "scrolled": true
   },
   "outputs": [
    {
     "name": "stdout",
     "output_type": "stream",
     "text": [
      "Data\\json\\Kodagu_Karnataka_Jan_2013.json\n",
      "Data\\json\\Kodagu_Karnataka_Feb_2013.json\n",
      "Data\\json\\Kodagu_Karnataka_Mar_2013.json\n",
      "Data\\json\\Kodagu_Karnataka_Apr_2013.json\n",
      "Data\\json\\Kodagu_Karnataka_May_2013.json\n",
      "Data\\json\\Kodagu_Karnataka_Jun_2013.json\n",
      "Data\\json\\Kodagu_Karnataka_Jul_2013.json\n",
      "Data\\json\\Kodagu_Karnataka_Aug_2013.json\n",
      "Data\\json\\Kodagu_Karnataka_Sep_2013.json\n",
      "Data\\json\\Kodagu_Karnataka_Oct_2013.json\n",
      "Data\\json\\Kodagu_Karnataka_Nov_2013.json\n",
      "Data\\json\\Kodagu_Karnataka_Dec_2013.json\n",
      "Data\\json\\Kodagu_Karnataka_Jan_2014.json\n",
      "Data\\json\\Kodagu_Karnataka_Feb_2014.json\n",
      "Data\\json\\Kodagu_Karnataka_Mar_2014.json\n",
      "Data\\json\\Kodagu_Karnataka_Apr_2014.json\n",
      "Data\\json\\Kodagu_Karnataka_May_2014.json\n",
      "Data\\json\\Kodagu_Karnataka_Jun_2014.json\n",
      "Data\\json\\Kodagu_Karnataka_Jul_2014.json\n",
      "Data\\json\\Kodagu_Karnataka_Aug_2014.json\n",
      "Data\\json\\Kodagu_Karnataka_Sep_2014.json\n",
      "Data\\json\\Kodagu_Karnataka_Oct_2014.json\n",
      "Data\\json\\Kodagu_Karnataka_Nov_2014.json\n",
      "Data\\json\\Kodagu_Karnataka_Dec_2014.json\n",
      "Data\\json\\Kodagu_Karnataka_Jan_2015.json\n",
      "Data\\json\\Kodagu_Karnataka_Feb_2015.json\n",
      "Data\\json\\Kodagu_Karnataka_Mar_2015.json\n",
      "Data\\json\\Kodagu_Karnataka_Apr_2015.json\n",
      "Data\\json\\Kodagu_Karnataka_May_2015.json\n",
      "Data\\json\\Kodagu_Karnataka_Jun_2015.json\n",
      "Data\\json\\Kodagu_Karnataka_Jul_2015.json\n",
      "Data\\json\\Kodagu_Karnataka_Aug_2015.json\n",
      "Data\\json\\Kodagu_Karnataka_Sep_2015.json\n",
      "Data\\json\\Kodagu_Karnataka_Oct_2015.json\n",
      "Data\\json\\Kodagu_Karnataka_Nov_2015.json\n",
      "Data\\json\\Kodagu_Karnataka_Dec_2015.json\n",
      "Data\\json\\Kodagu_Karnataka_Jan_2016.json\n",
      "Data\\json\\Kodagu_Karnataka_Feb_2016.json\n",
      "Data\\json\\Kodagu_Karnataka_Mar_2016.json\n",
      "Data\\json\\Kodagu_Karnataka_Apr_2016.json\n",
      "Data\\json\\Kodagu_Karnataka_May_2016.json\n",
      "Data\\json\\Kodagu_Karnataka_Jun_2016.json\n",
      "Data\\json\\Kodagu_Karnataka_Jul_2016.json\n",
      "Data\\json\\Kodagu_Karnataka_Aug_2016.json\n",
      "Data\\json\\Kodagu_Karnataka_Sep_2016.json\n",
      "Data\\json\\Kodagu_Karnataka_Oct_2016.json\n",
      "Data\\json\\Kodagu_Karnataka_Nov_2016.json\n",
      "Data\\json\\Kodagu_Karnataka_Dec_2016.json\n",
      "Data\\json\\Kodagu_Karnataka_Jan_2017.json\n",
      "Data\\json\\Kodagu_Karnataka_Feb_2017.json\n",
      "Data\\json\\Kodagu_Karnataka_Mar_2017.json\n",
      "Data\\json\\Kodagu_Karnataka_Apr_2017.json\n",
      "Data\\json\\Kodagu_Karnataka_May_2017.json\n",
      "Data\\json\\Kodagu_Karnataka_Jun_2017.json\n",
      "Data\\json\\Kodagu_Karnataka_Jul_2017.json\n",
      "Data\\json\\Kodagu_Karnataka_Aug_2017.json\n",
      "Data\\json\\Kodagu_Karnataka_Sep_2017.json\n",
      "Data\\json\\Kodagu_Karnataka_Oct_2017.json\n",
      "Data\\json\\Kodagu_Karnataka_Nov_2017.json\n",
      "Data\\json\\Kodagu_Karnataka_Dec_2017.json\n",
      "Data\\json\\Kodagu_Karnataka_Jan_2018.json\n",
      "Data\\json\\Kodagu_Karnataka_Feb_2018.json\n",
      "Data\\json\\Kodagu_Karnataka_Mar_2018.json\n",
      "Data\\json\\Kodagu_Karnataka_Apr_2018.json\n",
      "Data\\json\\Kodagu_Karnataka_May_2018.json\n",
      "Data\\json\\Kodagu_Karnataka_Jun_2018.json\n",
      "Data\\json\\Kodagu_Karnataka_Jul_2018.json\n",
      "Data\\json\\Kodagu_Karnataka_Aug_2018.json\n",
      "Data\\json\\Kodagu_Karnataka_Sep_2018.json\n",
      "Data\\json\\Kodagu_Karnataka_Oct_2018.json\n",
      "Data\\json\\Kodagu_Karnataka_Nov_2018.json\n",
      "Data\\json\\Kodagu_Karnataka_Dec_2018.json\n",
      "Data\\json\\Kodagu_Karnataka_Jan_2019.json\n",
      "Data\\json\\Kodagu_Karnataka_Feb_2019.json\n",
      "Data\\json\\Kodagu_Karnataka_Mar_2019.json\n",
      "Data\\json\\Kodagu_Karnataka_Apr_2019.json\n",
      "Data\\json\\Kodagu_Karnataka_May_2019.json\n",
      "Data\\json\\Kodagu_Karnataka_Jun_2019.json\n",
      "Data\\json\\Kodagu_Karnataka_Jul_2019.json\n",
      "Data\\json\\Kodagu_Karnataka_Aug_2019.json\n",
      "Data\\json\\Kodagu_Karnataka_Sep_2019.json\n",
      "Data\\json\\Kodagu_Karnataka_Oct_2019.json\n",
      "Data\\json\\Kodagu_Karnataka_Nov_2019.json\n",
      "Data\\json\\Kodagu_Karnataka_Dec_2019.json\n",
      "Data\\json\\Kodagu_Karnataka_Jan_2020.json\n",
      "Data\\json\\Kodagu_Karnataka_Feb_2020.json\n",
      "Data\\json\\Kodagu_Karnataka_Mar_2020.json\n",
      "Data\\json\\Kodagu_Karnataka_Jun_2020.json\n",
      "Data\\json\\Kodagu_Karnataka_Jul_2020.json\n",
      "Data\\json\\Kodagu_Karnataka_Aug_2020.json\n",
      "Data\\json\\Kodagu_Karnataka_Sep_2020.json\n",
      "Data\\json\\Kodagu_Karnataka_Oct_2020.json\n",
      "Data\\json\\Kodagu_Karnataka_Nov_2020.json\n",
      "Data\\json\\Kodagu_Karnataka_Dec_2020.json\n",
      "Data\\json\\Kodagu_Karnataka_Jan_2021.json\n",
      "Data\\json\\Kodagu_Karnataka_Feb_2021.json\n",
      "Data\\json\\Kodagu_Karnataka_Mar_2021.json\n",
      "Data\\json\\Kodagu_Karnataka_Apr_2021.json\n",
      "Data\\json\\Kodagu_Karnataka_Aug_2021.json\n",
      "Data\\json\\Kodagu_Karnataka_Sep_2021.json\n",
      "Data\\json\\Kodagu_Karnataka_Oct_2021.json\n",
      "Data\\json\\Kodagu_Karnataka_Nov_2021.json\n"
     ]
    }
   ],
   "source": [
    "for i,j in jsons_yr.items():\n",
    "    fname = \"Data\\\\json\\\\Kodagu_Karnataka_\"\n",
    "    for k in j.keys():\n",
    "        print(fname+k+\"_\"+str(i)+'.json')\n",
    "        with open(fname+k+\"_\"+str(i)+'.json', 'w') as outfile:\n",
    "            json.dump(jsons_yr[i][k], outfile)"
   ]
  },
  {
   "cell_type": "markdown",
   "id": "0e1347cd",
   "metadata": {
    "id": "0e1347cd"
   },
   "source": [
    "Kolar, Karnataka"
   ]
  },
  {
   "cell_type": "code",
   "execution_count": 34,
   "id": "3f94098a",
   "metadata": {
    "id": "3f94098a"
   },
   "outputs": [],
   "source": [
    "http = 'http://dackkms.gov.in/Account/API/kKMS_QueryData.aspx?StateCD=08&DistrictCd=0813&Month=5&Year=2020'"
   ]
  },
  {
   "cell_type": "code",
   "execution_count": 35,
   "id": "9e19cbd2",
   "metadata": {
    "id": "9e19cbd2"
   },
   "outputs": [
    {
     "name": "stdout",
     "output_type": "stream",
     "text": [
      "2013\n",
      "2014\n",
      "2015\n",
      "2016\n",
      "2017\n",
      "2018\n",
      "2019\n",
      "2020\n",
      "2021\n"
     ]
    }
   ],
   "source": [
    "jsons_yr = {}\n",
    "months = {1:'Jan', 2:\"Feb\", 3:\"Mar\", 4:\"Apr\", 5:\"May\", 6:\"Jun\", 7:\"Jul\", 8:\"Aug\", 9:\"Sep\", 10:\"Oct\", 11:\"Nov\", 12:\"Dec\"}\n",
    "for i in range(2013,2022):\n",
    "    print(i)\n",
    "    jsons = {}\n",
    "    for j in range(1,13):\n",
    "        aa = json.loads(requests.get('http://dackkms.gov.in/Account/API/kKMS_QueryData.aspx?StateCD=08&DistrictCd=0813&Month='+str(j)+'&Year='+str(i)).text)\n",
    "        if(int(aa['ResponseCode']) == 1):\n",
    "            jsons[months[j]] = aa\n",
    "    jsons_yr[i] = jsons"
   ]
  },
  {
   "cell_type": "code",
   "execution_count": 36,
   "id": "dc1e2844",
   "metadata": {
    "colab": {
     "base_uri": "https://localhost:8080/"
    },
    "id": "dc1e2844",
    "outputId": "5134991e-0ded-4917-b58d-d15bd6b7337b",
    "scrolled": true
   },
   "outputs": [
    {
     "name": "stdout",
     "output_type": "stream",
     "text": [
      "Data\\json\\Kolar_Karnataka_Jan_2013.json\n",
      "Data\\json\\Kolar_Karnataka_Feb_2013.json\n",
      "Data\\json\\Kolar_Karnataka_Mar_2013.json\n",
      "Data\\json\\Kolar_Karnataka_Apr_2013.json\n",
      "Data\\json\\Kolar_Karnataka_May_2013.json\n",
      "Data\\json\\Kolar_Karnataka_Jun_2013.json\n",
      "Data\\json\\Kolar_Karnataka_Jul_2013.json\n",
      "Data\\json\\Kolar_Karnataka_Aug_2013.json\n",
      "Data\\json\\Kolar_Karnataka_Sep_2013.json\n",
      "Data\\json\\Kolar_Karnataka_Oct_2013.json\n",
      "Data\\json\\Kolar_Karnataka_Nov_2013.json\n",
      "Data\\json\\Kolar_Karnataka_Dec_2013.json\n",
      "Data\\json\\Kolar_Karnataka_Jan_2014.json\n",
      "Data\\json\\Kolar_Karnataka_Feb_2014.json\n",
      "Data\\json\\Kolar_Karnataka_Mar_2014.json\n",
      "Data\\json\\Kolar_Karnataka_Apr_2014.json\n",
      "Data\\json\\Kolar_Karnataka_May_2014.json\n",
      "Data\\json\\Kolar_Karnataka_Jun_2014.json\n",
      "Data\\json\\Kolar_Karnataka_Jul_2014.json\n",
      "Data\\json\\Kolar_Karnataka_Aug_2014.json\n",
      "Data\\json\\Kolar_Karnataka_Sep_2014.json\n",
      "Data\\json\\Kolar_Karnataka_Oct_2014.json\n",
      "Data\\json\\Kolar_Karnataka_Nov_2014.json\n",
      "Data\\json\\Kolar_Karnataka_Dec_2014.json\n",
      "Data\\json\\Kolar_Karnataka_Jan_2015.json\n",
      "Data\\json\\Kolar_Karnataka_Feb_2015.json\n",
      "Data\\json\\Kolar_Karnataka_Mar_2015.json\n",
      "Data\\json\\Kolar_Karnataka_Apr_2015.json\n",
      "Data\\json\\Kolar_Karnataka_May_2015.json\n",
      "Data\\json\\Kolar_Karnataka_Jun_2015.json\n",
      "Data\\json\\Kolar_Karnataka_Jul_2015.json\n",
      "Data\\json\\Kolar_Karnataka_Aug_2015.json\n",
      "Data\\json\\Kolar_Karnataka_Sep_2015.json\n",
      "Data\\json\\Kolar_Karnataka_Oct_2015.json\n",
      "Data\\json\\Kolar_Karnataka_Nov_2015.json\n",
      "Data\\json\\Kolar_Karnataka_Dec_2015.json\n",
      "Data\\json\\Kolar_Karnataka_Jan_2016.json\n",
      "Data\\json\\Kolar_Karnataka_Feb_2016.json\n",
      "Data\\json\\Kolar_Karnataka_Mar_2016.json\n",
      "Data\\json\\Kolar_Karnataka_Apr_2016.json\n",
      "Data\\json\\Kolar_Karnataka_May_2016.json\n",
      "Data\\json\\Kolar_Karnataka_Jun_2016.json\n",
      "Data\\json\\Kolar_Karnataka_Jul_2016.json\n",
      "Data\\json\\Kolar_Karnataka_Aug_2016.json\n",
      "Data\\json\\Kolar_Karnataka_Sep_2016.json\n",
      "Data\\json\\Kolar_Karnataka_Oct_2016.json\n",
      "Data\\json\\Kolar_Karnataka_Nov_2016.json\n",
      "Data\\json\\Kolar_Karnataka_Dec_2016.json\n",
      "Data\\json\\Kolar_Karnataka_Jan_2017.json\n",
      "Data\\json\\Kolar_Karnataka_Feb_2017.json\n",
      "Data\\json\\Kolar_Karnataka_Mar_2017.json\n",
      "Data\\json\\Kolar_Karnataka_Apr_2017.json\n",
      "Data\\json\\Kolar_Karnataka_May_2017.json\n",
      "Data\\json\\Kolar_Karnataka_Jun_2017.json\n",
      "Data\\json\\Kolar_Karnataka_Jul_2017.json\n",
      "Data\\json\\Kolar_Karnataka_Aug_2017.json\n",
      "Data\\json\\Kolar_Karnataka_Sep_2017.json\n",
      "Data\\json\\Kolar_Karnataka_Oct_2017.json\n",
      "Data\\json\\Kolar_Karnataka_Nov_2017.json\n",
      "Data\\json\\Kolar_Karnataka_Dec_2017.json\n",
      "Data\\json\\Kolar_Karnataka_Jan_2018.json\n",
      "Data\\json\\Kolar_Karnataka_Feb_2018.json\n",
      "Data\\json\\Kolar_Karnataka_Mar_2018.json\n",
      "Data\\json\\Kolar_Karnataka_Apr_2018.json\n",
      "Data\\json\\Kolar_Karnataka_May_2018.json\n",
      "Data\\json\\Kolar_Karnataka_Jun_2018.json\n",
      "Data\\json\\Kolar_Karnataka_Jul_2018.json\n",
      "Data\\json\\Kolar_Karnataka_Aug_2018.json\n",
      "Data\\json\\Kolar_Karnataka_Sep_2018.json\n",
      "Data\\json\\Kolar_Karnataka_Oct_2018.json\n",
      "Data\\json\\Kolar_Karnataka_Nov_2018.json\n",
      "Data\\json\\Kolar_Karnataka_Dec_2018.json\n",
      "Data\\json\\Kolar_Karnataka_Jan_2019.json\n",
      "Data\\json\\Kolar_Karnataka_Feb_2019.json\n",
      "Data\\json\\Kolar_Karnataka_Mar_2019.json\n",
      "Data\\json\\Kolar_Karnataka_Apr_2019.json\n",
      "Data\\json\\Kolar_Karnataka_May_2019.json\n",
      "Data\\json\\Kolar_Karnataka_Jun_2019.json\n",
      "Data\\json\\Kolar_Karnataka_Jul_2019.json\n",
      "Data\\json\\Kolar_Karnataka_Aug_2019.json\n",
      "Data\\json\\Kolar_Karnataka_Sep_2019.json\n",
      "Data\\json\\Kolar_Karnataka_Oct_2019.json\n",
      "Data\\json\\Kolar_Karnataka_Nov_2019.json\n",
      "Data\\json\\Kolar_Karnataka_Dec_2019.json\n",
      "Data\\json\\Kolar_Karnataka_Jan_2020.json\n",
      "Data\\json\\Kolar_Karnataka_Feb_2020.json\n",
      "Data\\json\\Kolar_Karnataka_Mar_2020.json\n",
      "Data\\json\\Kolar_Karnataka_Jun_2020.json\n",
      "Data\\json\\Kolar_Karnataka_Jul_2020.json\n",
      "Data\\json\\Kolar_Karnataka_Aug_2020.json\n",
      "Data\\json\\Kolar_Karnataka_Sep_2020.json\n",
      "Data\\json\\Kolar_Karnataka_Oct_2020.json\n",
      "Data\\json\\Kolar_Karnataka_Nov_2020.json\n",
      "Data\\json\\Kolar_Karnataka_Dec_2020.json\n",
      "Data\\json\\Kolar_Karnataka_Jan_2021.json\n",
      "Data\\json\\Kolar_Karnataka_Feb_2021.json\n",
      "Data\\json\\Kolar_Karnataka_Mar_2021.json\n",
      "Data\\json\\Kolar_Karnataka_Apr_2021.json\n",
      "Data\\json\\Kolar_Karnataka_Aug_2021.json\n",
      "Data\\json\\Kolar_Karnataka_Sep_2021.json\n",
      "Data\\json\\Kolar_Karnataka_Oct_2021.json\n",
      "Data\\json\\Kolar_Karnataka_Nov_2021.json\n"
     ]
    }
   ],
   "source": [
    "for i,j in jsons_yr.items():\n",
    "    fname = \"Data\\\\json\\\\Kolar_Karnataka_\"\n",
    "    for k in j.keys():\n",
    "        print(fname+k+\"_\"+str(i)+'.json')\n",
    "        with open(fname+k+\"_\"+str(i)+'.json', 'w') as outfile:\n",
    "            json.dump(jsons_yr[i][k], outfile)"
   ]
  },
  {
   "cell_type": "markdown",
   "id": "c4988f0a",
   "metadata": {
    "id": "c4988f0a"
   },
   "source": [
    "Mysore, Karnataka"
   ]
  },
  {
   "cell_type": "code",
   "execution_count": 37,
   "id": "f365fff9",
   "metadata": {
    "id": "f365fff9"
   },
   "outputs": [],
   "source": [
    "http = 'http://dackkms.gov.in/Account/API/kKMS_QueryData.aspx?StateCD=08&DistrictCd=0815&Month=1&Year=2020'"
   ]
  },
  {
   "cell_type": "code",
   "execution_count": 38,
   "id": "fa087e58",
   "metadata": {
    "id": "fa087e58"
   },
   "outputs": [
    {
     "name": "stdout",
     "output_type": "stream",
     "text": [
      "2013\n",
      "2014\n",
      "2015\n",
      "2016\n",
      "2017\n",
      "2018\n",
      "2019\n",
      "2020\n",
      "2021\n"
     ]
    }
   ],
   "source": [
    "jsons_yr = {}\n",
    "months = {1:'Jan', 2:\"Feb\", 3:\"Mar\", 4:\"Apr\", 5:\"May\", 6:\"Jun\", 7:\"Jul\", 8:\"Aug\", 9:\"Sep\", 10:\"Oct\", 11:\"Nov\", 12:\"Dec\"}\n",
    "for i in range(2013,2022):\n",
    "    print(i)\n",
    "    jsons = {}\n",
    "    for j in range(1,13):\n",
    "        aa = json.loads(requests.get('http://dackkms.gov.in/Account/API/kKMS_QueryData.aspx?StateCD=08&DistrictCd=0815&Month='+str(j)+'&Year='+str(i)).text)\n",
    "        if(int(aa['ResponseCode']) == 1):\n",
    "            jsons[months[j]] = aa\n",
    "    jsons_yr[i] = jsons"
   ]
  },
  {
   "cell_type": "code",
   "execution_count": 39,
   "id": "1fdd2be5",
   "metadata": {
    "colab": {
     "base_uri": "https://localhost:8080/"
    },
    "id": "1fdd2be5",
    "outputId": "6afe6635-c8ab-49ae-81d0-32494ea7a836",
    "scrolled": true
   },
   "outputs": [
    {
     "name": "stdout",
     "output_type": "stream",
     "text": [
      "Data\\json\\Mysore_Karnataka_Jan_2013.json\n",
      "Data\\json\\Mysore_Karnataka_Feb_2013.json\n",
      "Data\\json\\Mysore_Karnataka_Mar_2013.json\n",
      "Data\\json\\Mysore_Karnataka_Apr_2013.json\n",
      "Data\\json\\Mysore_Karnataka_May_2013.json\n",
      "Data\\json\\Mysore_Karnataka_Jun_2013.json\n",
      "Data\\json\\Mysore_Karnataka_Jul_2013.json\n",
      "Data\\json\\Mysore_Karnataka_Aug_2013.json\n",
      "Data\\json\\Mysore_Karnataka_Sep_2013.json\n",
      "Data\\json\\Mysore_Karnataka_Oct_2013.json\n",
      "Data\\json\\Mysore_Karnataka_Nov_2013.json\n",
      "Data\\json\\Mysore_Karnataka_Dec_2013.json\n",
      "Data\\json\\Mysore_Karnataka_Jan_2014.json\n",
      "Data\\json\\Mysore_Karnataka_Feb_2014.json\n",
      "Data\\json\\Mysore_Karnataka_Mar_2014.json\n",
      "Data\\json\\Mysore_Karnataka_Apr_2014.json\n",
      "Data\\json\\Mysore_Karnataka_May_2014.json\n",
      "Data\\json\\Mysore_Karnataka_Jun_2014.json\n",
      "Data\\json\\Mysore_Karnataka_Jul_2014.json\n",
      "Data\\json\\Mysore_Karnataka_Aug_2014.json\n",
      "Data\\json\\Mysore_Karnataka_Sep_2014.json\n",
      "Data\\json\\Mysore_Karnataka_Oct_2014.json\n",
      "Data\\json\\Mysore_Karnataka_Nov_2014.json\n",
      "Data\\json\\Mysore_Karnataka_Dec_2014.json\n",
      "Data\\json\\Mysore_Karnataka_Jan_2015.json\n",
      "Data\\json\\Mysore_Karnataka_Feb_2015.json\n",
      "Data\\json\\Mysore_Karnataka_Mar_2015.json\n",
      "Data\\json\\Mysore_Karnataka_Apr_2015.json\n",
      "Data\\json\\Mysore_Karnataka_May_2015.json\n",
      "Data\\json\\Mysore_Karnataka_Jun_2015.json\n",
      "Data\\json\\Mysore_Karnataka_Jul_2015.json\n",
      "Data\\json\\Mysore_Karnataka_Aug_2015.json\n",
      "Data\\json\\Mysore_Karnataka_Sep_2015.json\n",
      "Data\\json\\Mysore_Karnataka_Oct_2015.json\n",
      "Data\\json\\Mysore_Karnataka_Nov_2015.json\n",
      "Data\\json\\Mysore_Karnataka_Dec_2015.json\n",
      "Data\\json\\Mysore_Karnataka_Jan_2016.json\n",
      "Data\\json\\Mysore_Karnataka_Feb_2016.json\n",
      "Data\\json\\Mysore_Karnataka_Mar_2016.json\n",
      "Data\\json\\Mysore_Karnataka_Apr_2016.json\n",
      "Data\\json\\Mysore_Karnataka_May_2016.json\n",
      "Data\\json\\Mysore_Karnataka_Jun_2016.json\n",
      "Data\\json\\Mysore_Karnataka_Jul_2016.json\n",
      "Data\\json\\Mysore_Karnataka_Aug_2016.json\n",
      "Data\\json\\Mysore_Karnataka_Sep_2016.json\n",
      "Data\\json\\Mysore_Karnataka_Oct_2016.json\n",
      "Data\\json\\Mysore_Karnataka_Nov_2016.json\n",
      "Data\\json\\Mysore_Karnataka_Dec_2016.json\n",
      "Data\\json\\Mysore_Karnataka_Jan_2017.json\n",
      "Data\\json\\Mysore_Karnataka_Feb_2017.json\n",
      "Data\\json\\Mysore_Karnataka_Mar_2017.json\n",
      "Data\\json\\Mysore_Karnataka_Apr_2017.json\n",
      "Data\\json\\Mysore_Karnataka_May_2017.json\n",
      "Data\\json\\Mysore_Karnataka_Jun_2017.json\n",
      "Data\\json\\Mysore_Karnataka_Jul_2017.json\n",
      "Data\\json\\Mysore_Karnataka_Aug_2017.json\n",
      "Data\\json\\Mysore_Karnataka_Sep_2017.json\n",
      "Data\\json\\Mysore_Karnataka_Oct_2017.json\n",
      "Data\\json\\Mysore_Karnataka_Nov_2017.json\n",
      "Data\\json\\Mysore_Karnataka_Dec_2017.json\n",
      "Data\\json\\Mysore_Karnataka_Jan_2018.json\n",
      "Data\\json\\Mysore_Karnataka_Feb_2018.json\n",
      "Data\\json\\Mysore_Karnataka_Mar_2018.json\n",
      "Data\\json\\Mysore_Karnataka_Apr_2018.json\n",
      "Data\\json\\Mysore_Karnataka_May_2018.json\n",
      "Data\\json\\Mysore_Karnataka_Jun_2018.json\n",
      "Data\\json\\Mysore_Karnataka_Jul_2018.json\n",
      "Data\\json\\Mysore_Karnataka_Aug_2018.json\n",
      "Data\\json\\Mysore_Karnataka_Sep_2018.json\n",
      "Data\\json\\Mysore_Karnataka_Oct_2018.json\n",
      "Data\\json\\Mysore_Karnataka_Nov_2018.json\n",
      "Data\\json\\Mysore_Karnataka_Dec_2018.json\n",
      "Data\\json\\Mysore_Karnataka_Jan_2019.json\n",
      "Data\\json\\Mysore_Karnataka_Feb_2019.json\n",
      "Data\\json\\Mysore_Karnataka_Mar_2019.json\n",
      "Data\\json\\Mysore_Karnataka_Apr_2019.json\n",
      "Data\\json\\Mysore_Karnataka_May_2019.json\n",
      "Data\\json\\Mysore_Karnataka_Jun_2019.json\n",
      "Data\\json\\Mysore_Karnataka_Jul_2019.json\n",
      "Data\\json\\Mysore_Karnataka_Aug_2019.json\n",
      "Data\\json\\Mysore_Karnataka_Sep_2019.json\n",
      "Data\\json\\Mysore_Karnataka_Oct_2019.json\n",
      "Data\\json\\Mysore_Karnataka_Nov_2019.json\n",
      "Data\\json\\Mysore_Karnataka_Dec_2019.json\n",
      "Data\\json\\Mysore_Karnataka_Jan_2020.json\n",
      "Data\\json\\Mysore_Karnataka_Feb_2020.json\n",
      "Data\\json\\Mysore_Karnataka_Mar_2020.json\n",
      "Data\\json\\Mysore_Karnataka_Jun_2020.json\n",
      "Data\\json\\Mysore_Karnataka_Jul_2020.json\n",
      "Data\\json\\Mysore_Karnataka_Aug_2020.json\n",
      "Data\\json\\Mysore_Karnataka_Sep_2020.json\n",
      "Data\\json\\Mysore_Karnataka_Oct_2020.json\n",
      "Data\\json\\Mysore_Karnataka_Nov_2020.json\n",
      "Data\\json\\Mysore_Karnataka_Dec_2020.json\n",
      "Data\\json\\Mysore_Karnataka_Jan_2021.json\n",
      "Data\\json\\Mysore_Karnataka_Feb_2021.json\n",
      "Data\\json\\Mysore_Karnataka_Mar_2021.json\n",
      "Data\\json\\Mysore_Karnataka_Apr_2021.json\n",
      "Data\\json\\Mysore_Karnataka_Aug_2021.json\n",
      "Data\\json\\Mysore_Karnataka_Sep_2021.json\n",
      "Data\\json\\Mysore_Karnataka_Oct_2021.json\n",
      "Data\\json\\Mysore_Karnataka_Nov_2021.json\n"
     ]
    }
   ],
   "source": [
    "for i,j in jsons_yr.items():\n",
    "    fname = \"Data\\\\json\\\\Mysore_Karnataka_\"\n",
    "    for k in j.keys():\n",
    "        print(fname+k+\"_\"+str(i)+'.json')\n",
    "        with open(fname+k+\"_\"+str(i)+'.json', 'w') as outfile:\n",
    "            json.dump(jsons_yr[i][k], outfile)"
   ]
  },
  {
   "cell_type": "markdown",
   "id": "3de13752",
   "metadata": {
    "id": "3de13752"
   },
   "source": [
    "Anantnag, J&K"
   ]
  },
  {
   "cell_type": "code",
   "execution_count": 40,
   "id": "d7e64922",
   "metadata": {
    "id": "d7e64922"
   },
   "outputs": [],
   "source": [
    "http = 'http://dackkms.gov.in/Account/API/kKMS_QueryData.aspx?StateCD=07&DistrictCd=0701&Month=11&Year=2020'"
   ]
  },
  {
   "cell_type": "code",
   "execution_count": 41,
   "id": "048c4311",
   "metadata": {
    "id": "048c4311"
   },
   "outputs": [
    {
     "name": "stdout",
     "output_type": "stream",
     "text": [
      "2013\n",
      "2014\n",
      "2015\n",
      "2016\n",
      "2017\n",
      "2018\n",
      "2019\n",
      "2020\n",
      "2021\n"
     ]
    }
   ],
   "source": [
    "jsons_yr = {}\n",
    "months = {1:'Jan', 2:\"Feb\", 3:\"Mar\", 4:\"Apr\", 5:\"May\", 6:\"Jun\", 7:\"Jul\", 8:\"Aug\", 9:\"Sep\", 10:\"Oct\", 11:\"Nov\", 12:\"Dec\"}\n",
    "for i in range(2013,2022):\n",
    "    print(i)\n",
    "    jsons = {}\n",
    "    for j in range(1,13):\n",
    "        aa = json.loads(requests.get('http://dackkms.gov.in/Account/API/kKMS_QueryData.aspx?StateCD=07&DistrictCd=0701&Month='+str(j)+'&Year='+str(i)).text)\n",
    "        if(int(aa['ResponseCode']) == 1):\n",
    "            jsons[months[j]] = aa\n",
    "    jsons_yr[i] = jsons"
   ]
  },
  {
   "cell_type": "code",
   "execution_count": 42,
   "id": "f3fbf85a",
   "metadata": {
    "id": "f3fbf85a",
    "outputId": "77fa4099-0143-49f5-92f3-77a7149e0452",
    "scrolled": true
   },
   "outputs": [
    {
     "name": "stdout",
     "output_type": "stream",
     "text": [
      "Data\\json\\Anantnag_JammuandKashmir_Jan_2013.json\n",
      "Data\\json\\Anantnag_JammuandKashmir_Feb_2013.json\n",
      "Data\\json\\Anantnag_JammuandKashmir_Mar_2013.json\n",
      "Data\\json\\Anantnag_JammuandKashmir_Apr_2013.json\n",
      "Data\\json\\Anantnag_JammuandKashmir_May_2013.json\n",
      "Data\\json\\Anantnag_JammuandKashmir_Jun_2013.json\n",
      "Data\\json\\Anantnag_JammuandKashmir_Jul_2013.json\n",
      "Data\\json\\Anantnag_JammuandKashmir_Aug_2013.json\n",
      "Data\\json\\Anantnag_JammuandKashmir_Sep_2013.json\n",
      "Data\\json\\Anantnag_JammuandKashmir_Oct_2013.json\n",
      "Data\\json\\Anantnag_JammuandKashmir_Nov_2013.json\n",
      "Data\\json\\Anantnag_JammuandKashmir_Dec_2013.json\n",
      "Data\\json\\Anantnag_JammuandKashmir_Jan_2014.json\n",
      "Data\\json\\Anantnag_JammuandKashmir_Feb_2014.json\n",
      "Data\\json\\Anantnag_JammuandKashmir_Mar_2014.json\n",
      "Data\\json\\Anantnag_JammuandKashmir_Apr_2014.json\n",
      "Data\\json\\Anantnag_JammuandKashmir_May_2014.json\n",
      "Data\\json\\Anantnag_JammuandKashmir_Jun_2014.json\n",
      "Data\\json\\Anantnag_JammuandKashmir_Jul_2014.json\n",
      "Data\\json\\Anantnag_JammuandKashmir_Aug_2014.json\n",
      "Data\\json\\Anantnag_JammuandKashmir_Sep_2014.json\n",
      "Data\\json\\Anantnag_JammuandKashmir_Oct_2014.json\n",
      "Data\\json\\Anantnag_JammuandKashmir_Nov_2014.json\n",
      "Data\\json\\Anantnag_JammuandKashmir_Dec_2014.json\n",
      "Data\\json\\Anantnag_JammuandKashmir_Jan_2015.json\n",
      "Data\\json\\Anantnag_JammuandKashmir_Feb_2015.json\n",
      "Data\\json\\Anantnag_JammuandKashmir_Mar_2015.json\n",
      "Data\\json\\Anantnag_JammuandKashmir_Apr_2015.json\n",
      "Data\\json\\Anantnag_JammuandKashmir_May_2015.json\n",
      "Data\\json\\Anantnag_JammuandKashmir_Jun_2015.json\n",
      "Data\\json\\Anantnag_JammuandKashmir_Jul_2015.json\n",
      "Data\\json\\Anantnag_JammuandKashmir_Aug_2015.json\n",
      "Data\\json\\Anantnag_JammuandKashmir_Sep_2015.json\n",
      "Data\\json\\Anantnag_JammuandKashmir_Oct_2015.json\n",
      "Data\\json\\Anantnag_JammuandKashmir_Nov_2015.json\n",
      "Data\\json\\Anantnag_JammuandKashmir_Dec_2015.json\n",
      "Data\\json\\Anantnag_JammuandKashmir_Jan_2016.json\n",
      "Data\\json\\Anantnag_JammuandKashmir_Feb_2016.json\n",
      "Data\\json\\Anantnag_JammuandKashmir_Mar_2016.json\n",
      "Data\\json\\Anantnag_JammuandKashmir_Apr_2016.json\n",
      "Data\\json\\Anantnag_JammuandKashmir_May_2016.json\n",
      "Data\\json\\Anantnag_JammuandKashmir_Jun_2016.json\n",
      "Data\\json\\Anantnag_JammuandKashmir_Jul_2016.json\n",
      "Data\\json\\Anantnag_JammuandKashmir_Aug_2016.json\n",
      "Data\\json\\Anantnag_JammuandKashmir_Sep_2016.json\n",
      "Data\\json\\Anantnag_JammuandKashmir_Oct_2016.json\n",
      "Data\\json\\Anantnag_JammuandKashmir_Nov_2016.json\n",
      "Data\\json\\Anantnag_JammuandKashmir_Dec_2016.json\n",
      "Data\\json\\Anantnag_JammuandKashmir_Jan_2017.json\n",
      "Data\\json\\Anantnag_JammuandKashmir_Feb_2017.json\n",
      "Data\\json\\Anantnag_JammuandKashmir_Mar_2017.json\n",
      "Data\\json\\Anantnag_JammuandKashmir_Apr_2017.json\n",
      "Data\\json\\Anantnag_JammuandKashmir_May_2017.json\n",
      "Data\\json\\Anantnag_JammuandKashmir_Jun_2017.json\n",
      "Data\\json\\Anantnag_JammuandKashmir_Jul_2017.json\n",
      "Data\\json\\Anantnag_JammuandKashmir_Aug_2017.json\n",
      "Data\\json\\Anantnag_JammuandKashmir_Sep_2017.json\n",
      "Data\\json\\Anantnag_JammuandKashmir_Oct_2017.json\n",
      "Data\\json\\Anantnag_JammuandKashmir_Nov_2017.json\n",
      "Data\\json\\Anantnag_JammuandKashmir_Dec_2017.json\n",
      "Data\\json\\Anantnag_JammuandKashmir_Jan_2018.json\n",
      "Data\\json\\Anantnag_JammuandKashmir_Feb_2018.json\n",
      "Data\\json\\Anantnag_JammuandKashmir_Mar_2018.json\n",
      "Data\\json\\Anantnag_JammuandKashmir_Apr_2018.json\n",
      "Data\\json\\Anantnag_JammuandKashmir_May_2018.json\n",
      "Data\\json\\Anantnag_JammuandKashmir_Jun_2018.json\n",
      "Data\\json\\Anantnag_JammuandKashmir_Jul_2018.json\n",
      "Data\\json\\Anantnag_JammuandKashmir_Aug_2018.json\n",
      "Data\\json\\Anantnag_JammuandKashmir_Sep_2018.json\n",
      "Data\\json\\Anantnag_JammuandKashmir_Oct_2018.json\n",
      "Data\\json\\Anantnag_JammuandKashmir_Nov_2018.json\n",
      "Data\\json\\Anantnag_JammuandKashmir_Dec_2018.json\n",
      "Data\\json\\Anantnag_JammuandKashmir_Jan_2019.json\n",
      "Data\\json\\Anantnag_JammuandKashmir_Feb_2019.json\n",
      "Data\\json\\Anantnag_JammuandKashmir_Mar_2019.json\n",
      "Data\\json\\Anantnag_JammuandKashmir_Apr_2019.json\n",
      "Data\\json\\Anantnag_JammuandKashmir_May_2019.json\n",
      "Data\\json\\Anantnag_JammuandKashmir_Jun_2019.json\n",
      "Data\\json\\Anantnag_JammuandKashmir_Jul_2019.json\n",
      "Data\\json\\Anantnag_JammuandKashmir_Aug_2019.json\n",
      "Data\\json\\Anantnag_JammuandKashmir_Sep_2019.json\n",
      "Data\\json\\Anantnag_JammuandKashmir_Oct_2019.json\n",
      "Data\\json\\Anantnag_JammuandKashmir_Nov_2019.json\n",
      "Data\\json\\Anantnag_JammuandKashmir_Dec_2019.json\n",
      "Data\\json\\Anantnag_JammuandKashmir_Jan_2020.json\n",
      "Data\\json\\Anantnag_JammuandKashmir_Feb_2020.json\n",
      "Data\\json\\Anantnag_JammuandKashmir_Mar_2020.json\n",
      "Data\\json\\Anantnag_JammuandKashmir_Jun_2020.json\n",
      "Data\\json\\Anantnag_JammuandKashmir_Jul_2020.json\n",
      "Data\\json\\Anantnag_JammuandKashmir_Aug_2020.json\n",
      "Data\\json\\Anantnag_JammuandKashmir_Sep_2020.json\n",
      "Data\\json\\Anantnag_JammuandKashmir_Oct_2020.json\n",
      "Data\\json\\Anantnag_JammuandKashmir_Nov_2020.json\n",
      "Data\\json\\Anantnag_JammuandKashmir_Dec_2020.json\n",
      "Data\\json\\Anantnag_JammuandKashmir_Jan_2021.json\n",
      "Data\\json\\Anantnag_JammuandKashmir_Feb_2021.json\n",
      "Data\\json\\Anantnag_JammuandKashmir_Mar_2021.json\n",
      "Data\\json\\Anantnag_JammuandKashmir_Apr_2021.json\n",
      "Data\\json\\Anantnag_JammuandKashmir_Jun_2021.json\n",
      "Data\\json\\Anantnag_JammuandKashmir_Aug_2021.json\n",
      "Data\\json\\Anantnag_JammuandKashmir_Sep_2021.json\n",
      "Data\\json\\Anantnag_JammuandKashmir_Oct_2021.json\n",
      "Data\\json\\Anantnag_JammuandKashmir_Nov_2021.json\n"
     ]
    }
   ],
   "source": [
    "for i,j in jsons_yr.items():\n",
    "    fname = \"Data\\\\json\\\\Anantnag_JammuandKashmir_\"\n",
    "    for k in j.keys():\n",
    "        print(fname+k+\"_\"+str(i)+'.json')\n",
    "        with open(fname+k+\"_\"+str(i)+'.json', 'w') as outfile:\n",
    "            json.dump(jsons_yr[i][k], outfile)"
   ]
  },
  {
   "cell_type": "markdown",
   "id": "e59076df",
   "metadata": {
    "id": "e59076df"
   },
   "source": [
    "Doda,J&K"
   ]
  },
  {
   "cell_type": "code",
   "execution_count": 43,
   "id": "7b767155",
   "metadata": {
    "id": "7b767155"
   },
   "outputs": [],
   "source": [
    "http = 'http://dackkms.gov.in/Account/API/kKMS_QueryData.aspx?StateCD=07&DistrictCd=0712&Month=3&Year=2020'"
   ]
  },
  {
   "cell_type": "code",
   "execution_count": 44,
   "id": "9b8edb1e",
   "metadata": {
    "id": "9b8edb1e"
   },
   "outputs": [
    {
     "name": "stdout",
     "output_type": "stream",
     "text": [
      "2013\n",
      "2014\n",
      "2015\n",
      "2016\n",
      "2017\n",
      "2018\n",
      "2019\n",
      "2020\n",
      "2021\n"
     ]
    }
   ],
   "source": [
    "jsons_yr = {}\n",
    "months = {1:'Jan', 2:\"Feb\", 3:\"Mar\", 4:\"Apr\", 5:\"May\", 6:\"Jun\", 7:\"Jul\", 8:\"Aug\", 9:\"Sep\", 10:\"Oct\", 11:\"Nov\", 12:\"Dec\"}\n",
    "for i in range(2013,2022):\n",
    "    print(i)\n",
    "    jsons = {}\n",
    "    for j in range(1,13):\n",
    "        aa = json.loads(requests.get('http://dackkms.gov.in/Account/API/kKMS_QueryData.aspx?StateCD=07&DistrictCd=0712&Month='+str(j)+'&Year='+str(i)).text)\n",
    "        if(int(aa['ResponseCode']) == 1):\n",
    "            jsons[months[j]] = aa\n",
    "    jsons_yr[i] = jsons"
   ]
  },
  {
   "cell_type": "code",
   "execution_count": 45,
   "id": "e944bc7f",
   "metadata": {
    "id": "e944bc7f",
    "outputId": "c855fca6-f425-441f-f1bd-f15612984016",
    "scrolled": true
   },
   "outputs": [
    {
     "name": "stdout",
     "output_type": "stream",
     "text": [
      "Data\\json\\Doda_JammuandKashmir_Jan_2013.json\n",
      "Data\\json\\Doda_JammuandKashmir_Feb_2013.json\n",
      "Data\\json\\Doda_JammuandKashmir_Mar_2013.json\n",
      "Data\\json\\Doda_JammuandKashmir_Apr_2013.json\n",
      "Data\\json\\Doda_JammuandKashmir_May_2013.json\n",
      "Data\\json\\Doda_JammuandKashmir_Jun_2013.json\n",
      "Data\\json\\Doda_JammuandKashmir_Jul_2013.json\n",
      "Data\\json\\Doda_JammuandKashmir_Aug_2013.json\n",
      "Data\\json\\Doda_JammuandKashmir_Sep_2013.json\n",
      "Data\\json\\Doda_JammuandKashmir_Oct_2013.json\n",
      "Data\\json\\Doda_JammuandKashmir_Nov_2013.json\n",
      "Data\\json\\Doda_JammuandKashmir_Dec_2013.json\n",
      "Data\\json\\Doda_JammuandKashmir_Jan_2014.json\n",
      "Data\\json\\Doda_JammuandKashmir_Feb_2014.json\n",
      "Data\\json\\Doda_JammuandKashmir_Mar_2014.json\n",
      "Data\\json\\Doda_JammuandKashmir_Apr_2014.json\n",
      "Data\\json\\Doda_JammuandKashmir_May_2014.json\n",
      "Data\\json\\Doda_JammuandKashmir_Jun_2014.json\n",
      "Data\\json\\Doda_JammuandKashmir_Jul_2014.json\n",
      "Data\\json\\Doda_JammuandKashmir_Aug_2014.json\n",
      "Data\\json\\Doda_JammuandKashmir_Sep_2014.json\n",
      "Data\\json\\Doda_JammuandKashmir_Oct_2014.json\n",
      "Data\\json\\Doda_JammuandKashmir_Nov_2014.json\n",
      "Data\\json\\Doda_JammuandKashmir_Dec_2014.json\n",
      "Data\\json\\Doda_JammuandKashmir_Jan_2015.json\n",
      "Data\\json\\Doda_JammuandKashmir_Feb_2015.json\n",
      "Data\\json\\Doda_JammuandKashmir_Mar_2015.json\n",
      "Data\\json\\Doda_JammuandKashmir_Apr_2015.json\n",
      "Data\\json\\Doda_JammuandKashmir_May_2015.json\n",
      "Data\\json\\Doda_JammuandKashmir_Jun_2015.json\n",
      "Data\\json\\Doda_JammuandKashmir_Jul_2015.json\n",
      "Data\\json\\Doda_JammuandKashmir_Aug_2015.json\n",
      "Data\\json\\Doda_JammuandKashmir_Sep_2015.json\n",
      "Data\\json\\Doda_JammuandKashmir_Oct_2015.json\n",
      "Data\\json\\Doda_JammuandKashmir_Nov_2015.json\n",
      "Data\\json\\Doda_JammuandKashmir_Dec_2015.json\n",
      "Data\\json\\Doda_JammuandKashmir_Jan_2016.json\n",
      "Data\\json\\Doda_JammuandKashmir_Feb_2016.json\n",
      "Data\\json\\Doda_JammuandKashmir_Mar_2016.json\n",
      "Data\\json\\Doda_JammuandKashmir_Apr_2016.json\n",
      "Data\\json\\Doda_JammuandKashmir_May_2016.json\n",
      "Data\\json\\Doda_JammuandKashmir_Jun_2016.json\n",
      "Data\\json\\Doda_JammuandKashmir_Jul_2016.json\n",
      "Data\\json\\Doda_JammuandKashmir_Aug_2016.json\n",
      "Data\\json\\Doda_JammuandKashmir_Sep_2016.json\n",
      "Data\\json\\Doda_JammuandKashmir_Oct_2016.json\n",
      "Data\\json\\Doda_JammuandKashmir_Nov_2016.json\n",
      "Data\\json\\Doda_JammuandKashmir_Dec_2016.json\n",
      "Data\\json\\Doda_JammuandKashmir_Jan_2017.json\n",
      "Data\\json\\Doda_JammuandKashmir_Feb_2017.json\n",
      "Data\\json\\Doda_JammuandKashmir_Mar_2017.json\n",
      "Data\\json\\Doda_JammuandKashmir_Apr_2017.json\n",
      "Data\\json\\Doda_JammuandKashmir_May_2017.json\n",
      "Data\\json\\Doda_JammuandKashmir_Jun_2017.json\n",
      "Data\\json\\Doda_JammuandKashmir_Jul_2017.json\n",
      "Data\\json\\Doda_JammuandKashmir_Aug_2017.json\n",
      "Data\\json\\Doda_JammuandKashmir_Sep_2017.json\n",
      "Data\\json\\Doda_JammuandKashmir_Oct_2017.json\n",
      "Data\\json\\Doda_JammuandKashmir_Nov_2017.json\n",
      "Data\\json\\Doda_JammuandKashmir_Dec_2017.json\n",
      "Data\\json\\Doda_JammuandKashmir_Jan_2018.json\n",
      "Data\\json\\Doda_JammuandKashmir_Feb_2018.json\n",
      "Data\\json\\Doda_JammuandKashmir_Mar_2018.json\n",
      "Data\\json\\Doda_JammuandKashmir_Apr_2018.json\n",
      "Data\\json\\Doda_JammuandKashmir_May_2018.json\n",
      "Data\\json\\Doda_JammuandKashmir_Jun_2018.json\n",
      "Data\\json\\Doda_JammuandKashmir_Jul_2018.json\n",
      "Data\\json\\Doda_JammuandKashmir_Aug_2018.json\n",
      "Data\\json\\Doda_JammuandKashmir_Sep_2018.json\n",
      "Data\\json\\Doda_JammuandKashmir_Oct_2018.json\n",
      "Data\\json\\Doda_JammuandKashmir_Nov_2018.json\n",
      "Data\\json\\Doda_JammuandKashmir_Dec_2018.json\n",
      "Data\\json\\Doda_JammuandKashmir_Jan_2019.json\n",
      "Data\\json\\Doda_JammuandKashmir_Feb_2019.json\n",
      "Data\\json\\Doda_JammuandKashmir_Mar_2019.json\n",
      "Data\\json\\Doda_JammuandKashmir_Apr_2019.json\n",
      "Data\\json\\Doda_JammuandKashmir_May_2019.json\n",
      "Data\\json\\Doda_JammuandKashmir_Jun_2019.json\n",
      "Data\\json\\Doda_JammuandKashmir_Jul_2019.json\n",
      "Data\\json\\Doda_JammuandKashmir_Aug_2019.json\n",
      "Data\\json\\Doda_JammuandKashmir_Sep_2019.json\n",
      "Data\\json\\Doda_JammuandKashmir_Oct_2019.json\n",
      "Data\\json\\Doda_JammuandKashmir_Nov_2019.json\n",
      "Data\\json\\Doda_JammuandKashmir_Dec_2019.json\n",
      "Data\\json\\Doda_JammuandKashmir_Jan_2020.json\n",
      "Data\\json\\Doda_JammuandKashmir_Feb_2020.json\n",
      "Data\\json\\Doda_JammuandKashmir_Mar_2020.json\n",
      "Data\\json\\Doda_JammuandKashmir_Jun_2020.json\n",
      "Data\\json\\Doda_JammuandKashmir_Jul_2020.json\n",
      "Data\\json\\Doda_JammuandKashmir_Aug_2020.json\n",
      "Data\\json\\Doda_JammuandKashmir_Sep_2020.json\n",
      "Data\\json\\Doda_JammuandKashmir_Oct_2020.json\n",
      "Data\\json\\Doda_JammuandKashmir_Nov_2020.json\n",
      "Data\\json\\Doda_JammuandKashmir_Dec_2020.json\n",
      "Data\\json\\Doda_JammuandKashmir_Jan_2021.json\n",
      "Data\\json\\Doda_JammuandKashmir_Feb_2021.json\n",
      "Data\\json\\Doda_JammuandKashmir_Mar_2021.json\n",
      "Data\\json\\Doda_JammuandKashmir_Apr_2021.json\n",
      "Data\\json\\Doda_JammuandKashmir_Jun_2021.json\n",
      "Data\\json\\Doda_JammuandKashmir_Aug_2021.json\n",
      "Data\\json\\Doda_JammuandKashmir_Sep_2021.json\n",
      "Data\\json\\Doda_JammuandKashmir_Oct_2021.json\n",
      "Data\\json\\Doda_JammuandKashmir_Nov_2021.json\n"
     ]
    }
   ],
   "source": [
    "for i,j in jsons_yr.items():\n",
    "    fname = \"Data\\\\json\\\\Doda_JammuandKashmir_\"\n",
    "    for k in j.keys():\n",
    "        print(fname+k+\"_\"+str(i)+'.json')\n",
    "        with open(fname+k+\"_\"+str(i)+'.json', 'w') as outfile:\n",
    "            json.dump(jsons_yr[i][k], outfile)"
   ]
  },
  {
   "cell_type": "markdown",
   "id": "2a3e77b9",
   "metadata": {
    "id": "2a3e77b9"
   },
   "source": [
    "Kathua,J&K"
   ]
  },
  {
   "cell_type": "code",
   "execution_count": 46,
   "id": "65b5c89d",
   "metadata": {
    "id": "65b5c89d"
   },
   "outputs": [],
   "source": [
    "http = 'http://dackkms.gov.in/Account/API/kKMS_QueryData.aspx?StateCD=07&DistrictCd=0711&Month=7&Year=2020'"
   ]
  },
  {
   "cell_type": "code",
   "execution_count": 47,
   "id": "3571be96",
   "metadata": {
    "id": "3571be96"
   },
   "outputs": [
    {
     "name": "stdout",
     "output_type": "stream",
     "text": [
      "2013\n",
      "2014\n",
      "2015\n",
      "2016\n",
      "2017\n",
      "2018\n",
      "2019\n",
      "2020\n",
      "2021\n"
     ]
    }
   ],
   "source": [
    "jsons_yr = {}\n",
    "months = {1:'Jan', 2:\"Feb\", 3:\"Mar\", 4:\"Apr\", 5:\"May\", 6:\"Jun\", 7:\"Jul\", 8:\"Aug\", 9:\"Sep\", 10:\"Oct\", 11:\"Nov\", 12:\"Dec\"}\n",
    "for i in range(2013,2022):\n",
    "    print(i)\n",
    "    jsons = {}\n",
    "    for j in range(1,13):\n",
    "        aa = json.loads(requests.get('http://dackkms.gov.in/Account/API/kKMS_QueryData.aspx?StateCD=07&DistrictCd=0711&Month='+str(j)+'&Year='+str(i)).text)\n",
    "        if(int(aa['ResponseCode']) == 1):\n",
    "            jsons[months[j]] = aa\n",
    "    jsons_yr[i] = jsons"
   ]
  },
  {
   "cell_type": "code",
   "execution_count": 48,
   "id": "5524a3b8",
   "metadata": {
    "id": "5524a3b8",
    "outputId": "f1b73033-f606-42f4-9362-b8300ac68917",
    "scrolled": true
   },
   "outputs": [
    {
     "name": "stdout",
     "output_type": "stream",
     "text": [
      "Data\\json\\Kathua_JammuandKashmir_Jan_2013.json\n",
      "Data\\json\\Kathua_JammuandKashmir_Feb_2013.json\n",
      "Data\\json\\Kathua_JammuandKashmir_Mar_2013.json\n",
      "Data\\json\\Kathua_JammuandKashmir_Apr_2013.json\n",
      "Data\\json\\Kathua_JammuandKashmir_May_2013.json\n",
      "Data\\json\\Kathua_JammuandKashmir_Jun_2013.json\n",
      "Data\\json\\Kathua_JammuandKashmir_Jul_2013.json\n",
      "Data\\json\\Kathua_JammuandKashmir_Aug_2013.json\n",
      "Data\\json\\Kathua_JammuandKashmir_Sep_2013.json\n",
      "Data\\json\\Kathua_JammuandKashmir_Oct_2013.json\n",
      "Data\\json\\Kathua_JammuandKashmir_Nov_2013.json\n",
      "Data\\json\\Kathua_JammuandKashmir_Dec_2013.json\n",
      "Data\\json\\Kathua_JammuandKashmir_Jan_2014.json\n",
      "Data\\json\\Kathua_JammuandKashmir_Feb_2014.json\n",
      "Data\\json\\Kathua_JammuandKashmir_Mar_2014.json\n",
      "Data\\json\\Kathua_JammuandKashmir_Apr_2014.json\n",
      "Data\\json\\Kathua_JammuandKashmir_May_2014.json\n",
      "Data\\json\\Kathua_JammuandKashmir_Jun_2014.json\n",
      "Data\\json\\Kathua_JammuandKashmir_Jul_2014.json\n",
      "Data\\json\\Kathua_JammuandKashmir_Aug_2014.json\n",
      "Data\\json\\Kathua_JammuandKashmir_Sep_2014.json\n",
      "Data\\json\\Kathua_JammuandKashmir_Oct_2014.json\n",
      "Data\\json\\Kathua_JammuandKashmir_Nov_2014.json\n",
      "Data\\json\\Kathua_JammuandKashmir_Dec_2014.json\n",
      "Data\\json\\Kathua_JammuandKashmir_Jan_2015.json\n",
      "Data\\json\\Kathua_JammuandKashmir_Feb_2015.json\n",
      "Data\\json\\Kathua_JammuandKashmir_Mar_2015.json\n",
      "Data\\json\\Kathua_JammuandKashmir_Apr_2015.json\n",
      "Data\\json\\Kathua_JammuandKashmir_May_2015.json\n",
      "Data\\json\\Kathua_JammuandKashmir_Jun_2015.json\n",
      "Data\\json\\Kathua_JammuandKashmir_Jul_2015.json\n",
      "Data\\json\\Kathua_JammuandKashmir_Aug_2015.json\n",
      "Data\\json\\Kathua_JammuandKashmir_Sep_2015.json\n",
      "Data\\json\\Kathua_JammuandKashmir_Oct_2015.json\n",
      "Data\\json\\Kathua_JammuandKashmir_Nov_2015.json\n",
      "Data\\json\\Kathua_JammuandKashmir_Dec_2015.json\n",
      "Data\\json\\Kathua_JammuandKashmir_Jan_2016.json\n",
      "Data\\json\\Kathua_JammuandKashmir_Feb_2016.json\n",
      "Data\\json\\Kathua_JammuandKashmir_Mar_2016.json\n",
      "Data\\json\\Kathua_JammuandKashmir_Apr_2016.json\n",
      "Data\\json\\Kathua_JammuandKashmir_May_2016.json\n",
      "Data\\json\\Kathua_JammuandKashmir_Jun_2016.json\n",
      "Data\\json\\Kathua_JammuandKashmir_Jul_2016.json\n",
      "Data\\json\\Kathua_JammuandKashmir_Aug_2016.json\n",
      "Data\\json\\Kathua_JammuandKashmir_Sep_2016.json\n",
      "Data\\json\\Kathua_JammuandKashmir_Oct_2016.json\n",
      "Data\\json\\Kathua_JammuandKashmir_Nov_2016.json\n",
      "Data\\json\\Kathua_JammuandKashmir_Dec_2016.json\n",
      "Data\\json\\Kathua_JammuandKashmir_Jan_2017.json\n",
      "Data\\json\\Kathua_JammuandKashmir_Feb_2017.json\n",
      "Data\\json\\Kathua_JammuandKashmir_Mar_2017.json\n",
      "Data\\json\\Kathua_JammuandKashmir_Apr_2017.json\n",
      "Data\\json\\Kathua_JammuandKashmir_May_2017.json\n",
      "Data\\json\\Kathua_JammuandKashmir_Jun_2017.json\n",
      "Data\\json\\Kathua_JammuandKashmir_Jul_2017.json\n",
      "Data\\json\\Kathua_JammuandKashmir_Aug_2017.json\n",
      "Data\\json\\Kathua_JammuandKashmir_Sep_2017.json\n",
      "Data\\json\\Kathua_JammuandKashmir_Oct_2017.json\n",
      "Data\\json\\Kathua_JammuandKashmir_Nov_2017.json\n",
      "Data\\json\\Kathua_JammuandKashmir_Dec_2017.json\n",
      "Data\\json\\Kathua_JammuandKashmir_Jan_2018.json\n",
      "Data\\json\\Kathua_JammuandKashmir_Feb_2018.json\n",
      "Data\\json\\Kathua_JammuandKashmir_Mar_2018.json\n",
      "Data\\json\\Kathua_JammuandKashmir_Apr_2018.json\n",
      "Data\\json\\Kathua_JammuandKashmir_May_2018.json\n",
      "Data\\json\\Kathua_JammuandKashmir_Jun_2018.json\n",
      "Data\\json\\Kathua_JammuandKashmir_Jul_2018.json\n",
      "Data\\json\\Kathua_JammuandKashmir_Aug_2018.json\n",
      "Data\\json\\Kathua_JammuandKashmir_Sep_2018.json\n",
      "Data\\json\\Kathua_JammuandKashmir_Oct_2018.json\n",
      "Data\\json\\Kathua_JammuandKashmir_Nov_2018.json\n",
      "Data\\json\\Kathua_JammuandKashmir_Dec_2018.json\n",
      "Data\\json\\Kathua_JammuandKashmir_Jan_2019.json\n",
      "Data\\json\\Kathua_JammuandKashmir_Feb_2019.json\n",
      "Data\\json\\Kathua_JammuandKashmir_Mar_2019.json\n",
      "Data\\json\\Kathua_JammuandKashmir_Apr_2019.json\n",
      "Data\\json\\Kathua_JammuandKashmir_May_2019.json\n",
      "Data\\json\\Kathua_JammuandKashmir_Jun_2019.json\n",
      "Data\\json\\Kathua_JammuandKashmir_Jul_2019.json\n",
      "Data\\json\\Kathua_JammuandKashmir_Aug_2019.json\n",
      "Data\\json\\Kathua_JammuandKashmir_Sep_2019.json\n",
      "Data\\json\\Kathua_JammuandKashmir_Oct_2019.json\n",
      "Data\\json\\Kathua_JammuandKashmir_Nov_2019.json\n",
      "Data\\json\\Kathua_JammuandKashmir_Dec_2019.json\n",
      "Data\\json\\Kathua_JammuandKashmir_Jan_2020.json\n",
      "Data\\json\\Kathua_JammuandKashmir_Feb_2020.json\n",
      "Data\\json\\Kathua_JammuandKashmir_Mar_2020.json\n",
      "Data\\json\\Kathua_JammuandKashmir_Jun_2020.json\n",
      "Data\\json\\Kathua_JammuandKashmir_Jul_2020.json\n",
      "Data\\json\\Kathua_JammuandKashmir_Aug_2020.json\n",
      "Data\\json\\Kathua_JammuandKashmir_Sep_2020.json\n",
      "Data\\json\\Kathua_JammuandKashmir_Oct_2020.json\n",
      "Data\\json\\Kathua_JammuandKashmir_Nov_2020.json\n",
      "Data\\json\\Kathua_JammuandKashmir_Dec_2020.json\n",
      "Data\\json\\Kathua_JammuandKashmir_Jan_2021.json\n",
      "Data\\json\\Kathua_JammuandKashmir_Feb_2021.json\n",
      "Data\\json\\Kathua_JammuandKashmir_Mar_2021.json\n",
      "Data\\json\\Kathua_JammuandKashmir_Apr_2021.json\n",
      "Data\\json\\Kathua_JammuandKashmir_Jun_2021.json\n",
      "Data\\json\\Kathua_JammuandKashmir_Aug_2021.json\n",
      "Data\\json\\Kathua_JammuandKashmir_Sep_2021.json\n",
      "Data\\json\\Kathua_JammuandKashmir_Oct_2021.json\n",
      "Data\\json\\Kathua_JammuandKashmir_Nov_2021.json\n"
     ]
    }
   ],
   "source": [
    "for i,j in jsons_yr.items():\n",
    "    fname = \"Data\\\\json\\\\Kathua_JammuandKashmir_\"\n",
    "    for k in j.keys():\n",
    "        print(fname+k+\"_\"+str(i)+'.json')\n",
    "        with open(fname+k+\"_\"+str(i)+'.json', 'w') as outfile:\n",
    "            json.dump(jsons_yr[i][k], outfile)"
   ]
  },
  {
   "cell_type": "markdown",
   "id": "da49a51b",
   "metadata": {
    "id": "da49a51b"
   },
   "source": [
    "Kulgam,J&K"
   ]
  },
  {
   "cell_type": "code",
   "execution_count": 49,
   "id": "e5ae9ec3",
   "metadata": {
    "id": "e5ae9ec3"
   },
   "outputs": [],
   "source": [
    "http = 'http://dackkms.gov.in/Account/API/kKMS_QueryData.aspx?StateCD=07&DistrictCd=0716&Month=3&Year=2020'"
   ]
  },
  {
   "cell_type": "code",
   "execution_count": 50,
   "id": "8bdc474f",
   "metadata": {
    "id": "8bdc474f"
   },
   "outputs": [
    {
     "name": "stdout",
     "output_type": "stream",
     "text": [
      "2013\n",
      "2014\n",
      "2015\n",
      "2016\n",
      "2017\n",
      "2018\n",
      "2019\n",
      "2020\n",
      "2021\n"
     ]
    }
   ],
   "source": [
    "jsons_yr = {}\n",
    "months = {1:'Jan', 2:\"Feb\", 3:\"Mar\", 4:\"Apr\", 5:\"May\", 6:\"Jun\", 7:\"Jul\", 8:\"Aug\", 9:\"Sep\", 10:\"Oct\", 11:\"Nov\", 12:\"Dec\"}\n",
    "for i in range(2013,2022):\n",
    "    print(i)\n",
    "    jsons = {}\n",
    "    for j in range(1,13):\n",
    "        aa = json.loads(requests.get('http://dackkms.gov.in/Account/API/kKMS_QueryData.aspx?StateCD=07&DistrictCd=0716&Month='+str(j)+'&Year='+str(i)).text)\n",
    "        if(int(aa['ResponseCode']) == 1):\n",
    "            jsons[months[j]] = aa\n",
    "    jsons_yr[i] = jsons"
   ]
  },
  {
   "cell_type": "code",
   "execution_count": 51,
   "id": "6c9cf746",
   "metadata": {
    "id": "6c9cf746",
    "outputId": "d2c9f25e-d0cd-4fc3-e64c-584ccfa4bd3d",
    "scrolled": true
   },
   "outputs": [
    {
     "name": "stdout",
     "output_type": "stream",
     "text": [
      "Data\\json\\Kulgam_JammuandKashmir_Jan_2013.json\n",
      "Data\\json\\Kulgam_JammuandKashmir_Feb_2013.json\n",
      "Data\\json\\Kulgam_JammuandKashmir_Mar_2013.json\n",
      "Data\\json\\Kulgam_JammuandKashmir_Apr_2013.json\n",
      "Data\\json\\Kulgam_JammuandKashmir_May_2013.json\n",
      "Data\\json\\Kulgam_JammuandKashmir_Jun_2013.json\n",
      "Data\\json\\Kulgam_JammuandKashmir_Jul_2013.json\n",
      "Data\\json\\Kulgam_JammuandKashmir_Aug_2013.json\n",
      "Data\\json\\Kulgam_JammuandKashmir_Sep_2013.json\n",
      "Data\\json\\Kulgam_JammuandKashmir_Oct_2013.json\n",
      "Data\\json\\Kulgam_JammuandKashmir_Nov_2013.json\n",
      "Data\\json\\Kulgam_JammuandKashmir_Dec_2013.json\n",
      "Data\\json\\Kulgam_JammuandKashmir_Jan_2014.json\n",
      "Data\\json\\Kulgam_JammuandKashmir_Feb_2014.json\n",
      "Data\\json\\Kulgam_JammuandKashmir_Mar_2014.json\n",
      "Data\\json\\Kulgam_JammuandKashmir_Apr_2014.json\n",
      "Data\\json\\Kulgam_JammuandKashmir_May_2014.json\n",
      "Data\\json\\Kulgam_JammuandKashmir_Jun_2014.json\n",
      "Data\\json\\Kulgam_JammuandKashmir_Jul_2014.json\n",
      "Data\\json\\Kulgam_JammuandKashmir_Aug_2014.json\n",
      "Data\\json\\Kulgam_JammuandKashmir_Sep_2014.json\n",
      "Data\\json\\Kulgam_JammuandKashmir_Oct_2014.json\n",
      "Data\\json\\Kulgam_JammuandKashmir_Nov_2014.json\n",
      "Data\\json\\Kulgam_JammuandKashmir_Dec_2014.json\n",
      "Data\\json\\Kulgam_JammuandKashmir_Jan_2015.json\n",
      "Data\\json\\Kulgam_JammuandKashmir_Feb_2015.json\n",
      "Data\\json\\Kulgam_JammuandKashmir_Mar_2015.json\n",
      "Data\\json\\Kulgam_JammuandKashmir_Apr_2015.json\n",
      "Data\\json\\Kulgam_JammuandKashmir_May_2015.json\n",
      "Data\\json\\Kulgam_JammuandKashmir_Jun_2015.json\n",
      "Data\\json\\Kulgam_JammuandKashmir_Jul_2015.json\n",
      "Data\\json\\Kulgam_JammuandKashmir_Aug_2015.json\n",
      "Data\\json\\Kulgam_JammuandKashmir_Sep_2015.json\n",
      "Data\\json\\Kulgam_JammuandKashmir_Oct_2015.json\n",
      "Data\\json\\Kulgam_JammuandKashmir_Nov_2015.json\n",
      "Data\\json\\Kulgam_JammuandKashmir_Dec_2015.json\n",
      "Data\\json\\Kulgam_JammuandKashmir_Jan_2016.json\n",
      "Data\\json\\Kulgam_JammuandKashmir_Feb_2016.json\n",
      "Data\\json\\Kulgam_JammuandKashmir_Mar_2016.json\n",
      "Data\\json\\Kulgam_JammuandKashmir_Apr_2016.json\n",
      "Data\\json\\Kulgam_JammuandKashmir_May_2016.json\n",
      "Data\\json\\Kulgam_JammuandKashmir_Jun_2016.json\n",
      "Data\\json\\Kulgam_JammuandKashmir_Jul_2016.json\n",
      "Data\\json\\Kulgam_JammuandKashmir_Aug_2016.json\n",
      "Data\\json\\Kulgam_JammuandKashmir_Sep_2016.json\n",
      "Data\\json\\Kulgam_JammuandKashmir_Oct_2016.json\n",
      "Data\\json\\Kulgam_JammuandKashmir_Nov_2016.json\n",
      "Data\\json\\Kulgam_JammuandKashmir_Dec_2016.json\n",
      "Data\\json\\Kulgam_JammuandKashmir_Jan_2017.json\n",
      "Data\\json\\Kulgam_JammuandKashmir_Feb_2017.json\n",
      "Data\\json\\Kulgam_JammuandKashmir_Mar_2017.json\n",
      "Data\\json\\Kulgam_JammuandKashmir_Apr_2017.json\n",
      "Data\\json\\Kulgam_JammuandKashmir_May_2017.json\n",
      "Data\\json\\Kulgam_JammuandKashmir_Jun_2017.json\n",
      "Data\\json\\Kulgam_JammuandKashmir_Jul_2017.json\n",
      "Data\\json\\Kulgam_JammuandKashmir_Aug_2017.json\n",
      "Data\\json\\Kulgam_JammuandKashmir_Sep_2017.json\n",
      "Data\\json\\Kulgam_JammuandKashmir_Oct_2017.json\n",
      "Data\\json\\Kulgam_JammuandKashmir_Nov_2017.json\n",
      "Data\\json\\Kulgam_JammuandKashmir_Dec_2017.json\n",
      "Data\\json\\Kulgam_JammuandKashmir_Jan_2018.json\n",
      "Data\\json\\Kulgam_JammuandKashmir_Feb_2018.json\n",
      "Data\\json\\Kulgam_JammuandKashmir_Mar_2018.json\n",
      "Data\\json\\Kulgam_JammuandKashmir_Apr_2018.json\n",
      "Data\\json\\Kulgam_JammuandKashmir_May_2018.json\n",
      "Data\\json\\Kulgam_JammuandKashmir_Jun_2018.json\n",
      "Data\\json\\Kulgam_JammuandKashmir_Jul_2018.json\n",
      "Data\\json\\Kulgam_JammuandKashmir_Aug_2018.json\n",
      "Data\\json\\Kulgam_JammuandKashmir_Sep_2018.json\n",
      "Data\\json\\Kulgam_JammuandKashmir_Oct_2018.json\n",
      "Data\\json\\Kulgam_JammuandKashmir_Nov_2018.json\n",
      "Data\\json\\Kulgam_JammuandKashmir_Dec_2018.json\n",
      "Data\\json\\Kulgam_JammuandKashmir_Jan_2019.json\n",
      "Data\\json\\Kulgam_JammuandKashmir_Feb_2019.json\n",
      "Data\\json\\Kulgam_JammuandKashmir_Mar_2019.json\n",
      "Data\\json\\Kulgam_JammuandKashmir_Apr_2019.json\n",
      "Data\\json\\Kulgam_JammuandKashmir_May_2019.json\n",
      "Data\\json\\Kulgam_JammuandKashmir_Jun_2019.json\n",
      "Data\\json\\Kulgam_JammuandKashmir_Jul_2019.json\n",
      "Data\\json\\Kulgam_JammuandKashmir_Aug_2019.json\n",
      "Data\\json\\Kulgam_JammuandKashmir_Sep_2019.json\n",
      "Data\\json\\Kulgam_JammuandKashmir_Oct_2019.json\n",
      "Data\\json\\Kulgam_JammuandKashmir_Nov_2019.json\n",
      "Data\\json\\Kulgam_JammuandKashmir_Dec_2019.json\n",
      "Data\\json\\Kulgam_JammuandKashmir_Jan_2020.json\n",
      "Data\\json\\Kulgam_JammuandKashmir_Feb_2020.json\n",
      "Data\\json\\Kulgam_JammuandKashmir_Mar_2020.json\n",
      "Data\\json\\Kulgam_JammuandKashmir_Jun_2020.json\n",
      "Data\\json\\Kulgam_JammuandKashmir_Jul_2020.json\n",
      "Data\\json\\Kulgam_JammuandKashmir_Aug_2020.json\n",
      "Data\\json\\Kulgam_JammuandKashmir_Sep_2020.json\n",
      "Data\\json\\Kulgam_JammuandKashmir_Oct_2020.json\n",
      "Data\\json\\Kulgam_JammuandKashmir_Nov_2020.json\n",
      "Data\\json\\Kulgam_JammuandKashmir_Dec_2020.json\n",
      "Data\\json\\Kulgam_JammuandKashmir_Jan_2021.json\n",
      "Data\\json\\Kulgam_JammuandKashmir_Feb_2021.json\n",
      "Data\\json\\Kulgam_JammuandKashmir_Mar_2021.json\n",
      "Data\\json\\Kulgam_JammuandKashmir_Apr_2021.json\n",
      "Data\\json\\Kulgam_JammuandKashmir_Jun_2021.json\n",
      "Data\\json\\Kulgam_JammuandKashmir_Aug_2021.json\n",
      "Data\\json\\Kulgam_JammuandKashmir_Sep_2021.json\n",
      "Data\\json\\Kulgam_JammuandKashmir_Oct_2021.json\n",
      "Data\\json\\Kulgam_JammuandKashmir_Nov_2021.json\n"
     ]
    }
   ],
   "source": [
    "for i,j in jsons_yr.items():\n",
    "    fname = \"Data\\\\json\\\\Kulgam_JammuandKashmir_\"\n",
    "    for k in j.keys():\n",
    "        print(fname+k+\"_\"+str(i)+'.json')\n",
    "        with open(fname+k+\"_\"+str(i)+'.json', 'w') as outfile:\n",
    "            json.dump(jsons_yr[i][k], outfile)"
   ]
  },
  {
   "cell_type": "markdown",
   "id": "d35e6152",
   "metadata": {
    "id": "d35e6152"
   },
   "source": [
    "Srinagar,J&K"
   ]
  },
  {
   "cell_type": "code",
   "execution_count": 52,
   "id": "5e0237b0",
   "metadata": {
    "id": "5e0237b0"
   },
   "outputs": [],
   "source": [
    "http = 'http://dackkms.gov.in/Account/API/kKMS_QueryData.aspx?StateCD=07&DistrictCd=0703&Month=8&Year=2020'"
   ]
  },
  {
   "cell_type": "code",
   "execution_count": 53,
   "id": "82d564b7",
   "metadata": {
    "id": "82d564b7"
   },
   "outputs": [
    {
     "name": "stdout",
     "output_type": "stream",
     "text": [
      "2013\n",
      "2014\n",
      "2015\n",
      "2016\n",
      "2017\n",
      "2018\n",
      "2019\n",
      "2020\n",
      "2021\n"
     ]
    }
   ],
   "source": [
    "jsons_yr = {}\n",
    "months = {1:'Jan', 2:\"Feb\", 3:\"Mar\", 4:\"Apr\", 5:\"May\", 6:\"Jun\", 7:\"Jul\", 8:\"Aug\", 9:\"Sep\", 10:\"Oct\", 11:\"Nov\", 12:\"Dec\"}\n",
    "for i in range(2013,2022):\n",
    "    print(i)\n",
    "    jsons = {}\n",
    "    for j in range(1,13):\n",
    "        aa = json.loads(requests.get('http://dackkms.gov.in/Account/API/kKMS_QueryData.aspx?StateCD=07&DistrictCd=0703&Month='+str(j)+'&Year='+str(i)).text)\n",
    "        if(int(aa['ResponseCode']) == 1):\n",
    "            jsons[months[j]] = aa\n",
    "    jsons_yr[i] = jsons"
   ]
  },
  {
   "cell_type": "code",
   "execution_count": 54,
   "id": "88c58a22",
   "metadata": {
    "id": "88c58a22",
    "outputId": "82c1acd5-207c-402d-ea29-37097b58d51e",
    "scrolled": true
   },
   "outputs": [
    {
     "name": "stdout",
     "output_type": "stream",
     "text": [
      "Data\\json\\Srinagar_JammuandKashmir_Jan_2013.json\n",
      "Data\\json\\Srinagar_JammuandKashmir_Feb_2013.json\n",
      "Data\\json\\Srinagar_JammuandKashmir_Mar_2013.json\n",
      "Data\\json\\Srinagar_JammuandKashmir_Apr_2013.json\n",
      "Data\\json\\Srinagar_JammuandKashmir_May_2013.json\n",
      "Data\\json\\Srinagar_JammuandKashmir_Jun_2013.json\n",
      "Data\\json\\Srinagar_JammuandKashmir_Jul_2013.json\n",
      "Data\\json\\Srinagar_JammuandKashmir_Aug_2013.json\n",
      "Data\\json\\Srinagar_JammuandKashmir_Sep_2013.json\n",
      "Data\\json\\Srinagar_JammuandKashmir_Oct_2013.json\n",
      "Data\\json\\Srinagar_JammuandKashmir_Nov_2013.json\n",
      "Data\\json\\Srinagar_JammuandKashmir_Dec_2013.json\n",
      "Data\\json\\Srinagar_JammuandKashmir_Jan_2014.json\n",
      "Data\\json\\Srinagar_JammuandKashmir_Feb_2014.json\n",
      "Data\\json\\Srinagar_JammuandKashmir_Mar_2014.json\n",
      "Data\\json\\Srinagar_JammuandKashmir_Apr_2014.json\n",
      "Data\\json\\Srinagar_JammuandKashmir_May_2014.json\n",
      "Data\\json\\Srinagar_JammuandKashmir_Jun_2014.json\n",
      "Data\\json\\Srinagar_JammuandKashmir_Jul_2014.json\n",
      "Data\\json\\Srinagar_JammuandKashmir_Aug_2014.json\n",
      "Data\\json\\Srinagar_JammuandKashmir_Sep_2014.json\n",
      "Data\\json\\Srinagar_JammuandKashmir_Oct_2014.json\n",
      "Data\\json\\Srinagar_JammuandKashmir_Nov_2014.json\n",
      "Data\\json\\Srinagar_JammuandKashmir_Dec_2014.json\n",
      "Data\\json\\Srinagar_JammuandKashmir_Jan_2015.json\n",
      "Data\\json\\Srinagar_JammuandKashmir_Feb_2015.json\n",
      "Data\\json\\Srinagar_JammuandKashmir_Mar_2015.json\n",
      "Data\\json\\Srinagar_JammuandKashmir_Apr_2015.json\n",
      "Data\\json\\Srinagar_JammuandKashmir_May_2015.json\n",
      "Data\\json\\Srinagar_JammuandKashmir_Jun_2015.json\n",
      "Data\\json\\Srinagar_JammuandKashmir_Jul_2015.json\n",
      "Data\\json\\Srinagar_JammuandKashmir_Aug_2015.json\n",
      "Data\\json\\Srinagar_JammuandKashmir_Sep_2015.json\n",
      "Data\\json\\Srinagar_JammuandKashmir_Oct_2015.json\n",
      "Data\\json\\Srinagar_JammuandKashmir_Nov_2015.json\n",
      "Data\\json\\Srinagar_JammuandKashmir_Dec_2015.json\n",
      "Data\\json\\Srinagar_JammuandKashmir_Jan_2016.json\n",
      "Data\\json\\Srinagar_JammuandKashmir_Feb_2016.json\n",
      "Data\\json\\Srinagar_JammuandKashmir_Mar_2016.json\n",
      "Data\\json\\Srinagar_JammuandKashmir_Apr_2016.json\n",
      "Data\\json\\Srinagar_JammuandKashmir_May_2016.json\n",
      "Data\\json\\Srinagar_JammuandKashmir_Jun_2016.json\n",
      "Data\\json\\Srinagar_JammuandKashmir_Jul_2016.json\n",
      "Data\\json\\Srinagar_JammuandKashmir_Aug_2016.json\n",
      "Data\\json\\Srinagar_JammuandKashmir_Sep_2016.json\n",
      "Data\\json\\Srinagar_JammuandKashmir_Oct_2016.json\n",
      "Data\\json\\Srinagar_JammuandKashmir_Nov_2016.json\n",
      "Data\\json\\Srinagar_JammuandKashmir_Dec_2016.json\n",
      "Data\\json\\Srinagar_JammuandKashmir_Jan_2017.json\n",
      "Data\\json\\Srinagar_JammuandKashmir_Feb_2017.json\n",
      "Data\\json\\Srinagar_JammuandKashmir_Mar_2017.json\n",
      "Data\\json\\Srinagar_JammuandKashmir_Apr_2017.json\n",
      "Data\\json\\Srinagar_JammuandKashmir_May_2017.json\n",
      "Data\\json\\Srinagar_JammuandKashmir_Jun_2017.json\n",
      "Data\\json\\Srinagar_JammuandKashmir_Jul_2017.json\n",
      "Data\\json\\Srinagar_JammuandKashmir_Aug_2017.json\n",
      "Data\\json\\Srinagar_JammuandKashmir_Sep_2017.json\n",
      "Data\\json\\Srinagar_JammuandKashmir_Oct_2017.json\n",
      "Data\\json\\Srinagar_JammuandKashmir_Nov_2017.json\n",
      "Data\\json\\Srinagar_JammuandKashmir_Dec_2017.json\n",
      "Data\\json\\Srinagar_JammuandKashmir_Jan_2018.json\n",
      "Data\\json\\Srinagar_JammuandKashmir_Feb_2018.json\n",
      "Data\\json\\Srinagar_JammuandKashmir_Mar_2018.json\n",
      "Data\\json\\Srinagar_JammuandKashmir_Apr_2018.json\n",
      "Data\\json\\Srinagar_JammuandKashmir_May_2018.json\n",
      "Data\\json\\Srinagar_JammuandKashmir_Jun_2018.json\n",
      "Data\\json\\Srinagar_JammuandKashmir_Jul_2018.json\n",
      "Data\\json\\Srinagar_JammuandKashmir_Aug_2018.json\n",
      "Data\\json\\Srinagar_JammuandKashmir_Sep_2018.json\n",
      "Data\\json\\Srinagar_JammuandKashmir_Oct_2018.json\n",
      "Data\\json\\Srinagar_JammuandKashmir_Nov_2018.json\n",
      "Data\\json\\Srinagar_JammuandKashmir_Dec_2018.json\n",
      "Data\\json\\Srinagar_JammuandKashmir_Jan_2019.json\n",
      "Data\\json\\Srinagar_JammuandKashmir_Feb_2019.json\n",
      "Data\\json\\Srinagar_JammuandKashmir_Mar_2019.json\n",
      "Data\\json\\Srinagar_JammuandKashmir_Apr_2019.json\n",
      "Data\\json\\Srinagar_JammuandKashmir_May_2019.json\n",
      "Data\\json\\Srinagar_JammuandKashmir_Jun_2019.json\n",
      "Data\\json\\Srinagar_JammuandKashmir_Jul_2019.json\n",
      "Data\\json\\Srinagar_JammuandKashmir_Aug_2019.json\n",
      "Data\\json\\Srinagar_JammuandKashmir_Sep_2019.json\n",
      "Data\\json\\Srinagar_JammuandKashmir_Oct_2019.json\n",
      "Data\\json\\Srinagar_JammuandKashmir_Nov_2019.json\n",
      "Data\\json\\Srinagar_JammuandKashmir_Dec_2019.json\n",
      "Data\\json\\Srinagar_JammuandKashmir_Jan_2020.json\n",
      "Data\\json\\Srinagar_JammuandKashmir_Feb_2020.json\n",
      "Data\\json\\Srinagar_JammuandKashmir_Mar_2020.json\n",
      "Data\\json\\Srinagar_JammuandKashmir_Jun_2020.json\n",
      "Data\\json\\Srinagar_JammuandKashmir_Jul_2020.json\n",
      "Data\\json\\Srinagar_JammuandKashmir_Aug_2020.json\n",
      "Data\\json\\Srinagar_JammuandKashmir_Sep_2020.json\n",
      "Data\\json\\Srinagar_JammuandKashmir_Oct_2020.json\n",
      "Data\\json\\Srinagar_JammuandKashmir_Nov_2020.json\n",
      "Data\\json\\Srinagar_JammuandKashmir_Dec_2020.json\n",
      "Data\\json\\Srinagar_JammuandKashmir_Jan_2021.json\n",
      "Data\\json\\Srinagar_JammuandKashmir_Feb_2021.json\n",
      "Data\\json\\Srinagar_JammuandKashmir_Mar_2021.json\n",
      "Data\\json\\Srinagar_JammuandKashmir_Apr_2021.json\n",
      "Data\\json\\Srinagar_JammuandKashmir_Jun_2021.json\n",
      "Data\\json\\Srinagar_JammuandKashmir_Aug_2021.json\n",
      "Data\\json\\Srinagar_JammuandKashmir_Sep_2021.json\n",
      "Data\\json\\Srinagar_JammuandKashmir_Oct_2021.json\n",
      "Data\\json\\Srinagar_JammuandKashmir_Nov_2021.json\n"
     ]
    }
   ],
   "source": [
    "for i,j in jsons_yr.items():\n",
    "    fname = \"Data\\\\json\\\\Srinagar_JammuandKashmir_\"\n",
    "    for k in j.keys():\n",
    "        print(fname+k+\"_\"+str(i)+'.json')\n",
    "        with open(fname+k+\"_\"+str(i)+'.json', 'w') as outfile:\n",
    "            json.dump(jsons_yr[i][k], outfile)"
   ]
  },
  {
   "cell_type": "markdown",
   "id": "172af750",
   "metadata": {
    "id": "172af750"
   },
   "source": [
    "Dehradun,Uttarakhand"
   ]
  },
  {
   "cell_type": "code",
   "execution_count": 55,
   "id": "3cb3a93f",
   "metadata": {
    "id": "3cb3a93f"
   },
   "outputs": [],
   "source": [
    "http = 'http://dackkms.gov.in/Account/API/kKMS_QueryData.aspx?StateCD=25&DistrictCd=2505&Month=4&Year=2020'"
   ]
  },
  {
   "cell_type": "code",
   "execution_count": 56,
   "id": "b9fd97fa",
   "metadata": {
    "id": "b9fd97fa"
   },
   "outputs": [
    {
     "name": "stdout",
     "output_type": "stream",
     "text": [
      "2013\n",
      "2014\n",
      "2015\n",
      "2016\n",
      "2017\n",
      "2018\n",
      "2019\n",
      "2020\n",
      "2021\n"
     ]
    }
   ],
   "source": [
    "jsons_yr = {}\n",
    "months = {1:'Jan', 2:\"Feb\", 3:\"Mar\", 4:\"Apr\", 5:\"May\", 6:\"Jun\", 7:\"Jul\", 8:\"Aug\", 9:\"Sep\", 10:\"Oct\", 11:\"Nov\", 12:\"Dec\"}\n",
    "for i in range(2013,2022):\n",
    "    print(i)\n",
    "    jsons = {}\n",
    "    for j in range(1,13):\n",
    "        aa = json.loads(requests.get('http://dackkms.gov.in/Account/API/kKMS_QueryData.aspx?StateCD=25&DistrictCd=2505&Month='+str(j)+'&Year='+str(i)).text)\n",
    "        if(int(aa['ResponseCode']) == 1):\n",
    "            jsons[months[j]] = aa\n",
    "    jsons_yr[i] = jsons"
   ]
  },
  {
   "cell_type": "code",
   "execution_count": 57,
   "id": "c075bee5",
   "metadata": {
    "id": "c075bee5",
    "outputId": "562a41bb-e114-49e5-a800-e8f216158a76",
    "scrolled": true
   },
   "outputs": [
    {
     "name": "stdout",
     "output_type": "stream",
     "text": [
      "Data\\json\\Dehradun_Uttarakhand_Jan_2013.json\n",
      "Data\\json\\Dehradun_Uttarakhand_Feb_2013.json\n",
      "Data\\json\\Dehradun_Uttarakhand_Mar_2013.json\n",
      "Data\\json\\Dehradun_Uttarakhand_Apr_2013.json\n",
      "Data\\json\\Dehradun_Uttarakhand_May_2013.json\n",
      "Data\\json\\Dehradun_Uttarakhand_Jun_2013.json\n",
      "Data\\json\\Dehradun_Uttarakhand_Jul_2013.json\n",
      "Data\\json\\Dehradun_Uttarakhand_Aug_2013.json\n",
      "Data\\json\\Dehradun_Uttarakhand_Sep_2013.json\n",
      "Data\\json\\Dehradun_Uttarakhand_Oct_2013.json\n",
      "Data\\json\\Dehradun_Uttarakhand_Nov_2013.json\n",
      "Data\\json\\Dehradun_Uttarakhand_Dec_2013.json\n",
      "Data\\json\\Dehradun_Uttarakhand_Jan_2014.json\n",
      "Data\\json\\Dehradun_Uttarakhand_Feb_2014.json\n",
      "Data\\json\\Dehradun_Uttarakhand_Mar_2014.json\n",
      "Data\\json\\Dehradun_Uttarakhand_Apr_2014.json\n",
      "Data\\json\\Dehradun_Uttarakhand_May_2014.json\n",
      "Data\\json\\Dehradun_Uttarakhand_Jun_2014.json\n",
      "Data\\json\\Dehradun_Uttarakhand_Jul_2014.json\n",
      "Data\\json\\Dehradun_Uttarakhand_Aug_2014.json\n",
      "Data\\json\\Dehradun_Uttarakhand_Sep_2014.json\n",
      "Data\\json\\Dehradun_Uttarakhand_Oct_2014.json\n",
      "Data\\json\\Dehradun_Uttarakhand_Nov_2014.json\n",
      "Data\\json\\Dehradun_Uttarakhand_Dec_2014.json\n",
      "Data\\json\\Dehradun_Uttarakhand_Jan_2015.json\n",
      "Data\\json\\Dehradun_Uttarakhand_Feb_2015.json\n",
      "Data\\json\\Dehradun_Uttarakhand_Mar_2015.json\n",
      "Data\\json\\Dehradun_Uttarakhand_Apr_2015.json\n",
      "Data\\json\\Dehradun_Uttarakhand_May_2015.json\n",
      "Data\\json\\Dehradun_Uttarakhand_Jun_2015.json\n",
      "Data\\json\\Dehradun_Uttarakhand_Jul_2015.json\n",
      "Data\\json\\Dehradun_Uttarakhand_Aug_2015.json\n",
      "Data\\json\\Dehradun_Uttarakhand_Sep_2015.json\n",
      "Data\\json\\Dehradun_Uttarakhand_Oct_2015.json\n",
      "Data\\json\\Dehradun_Uttarakhand_Nov_2015.json\n",
      "Data\\json\\Dehradun_Uttarakhand_Dec_2015.json\n",
      "Data\\json\\Dehradun_Uttarakhand_Jan_2016.json\n",
      "Data\\json\\Dehradun_Uttarakhand_Feb_2016.json\n",
      "Data\\json\\Dehradun_Uttarakhand_Mar_2016.json\n",
      "Data\\json\\Dehradun_Uttarakhand_Apr_2016.json\n",
      "Data\\json\\Dehradun_Uttarakhand_May_2016.json\n",
      "Data\\json\\Dehradun_Uttarakhand_Jun_2016.json\n",
      "Data\\json\\Dehradun_Uttarakhand_Jul_2016.json\n",
      "Data\\json\\Dehradun_Uttarakhand_Aug_2016.json\n",
      "Data\\json\\Dehradun_Uttarakhand_Sep_2016.json\n",
      "Data\\json\\Dehradun_Uttarakhand_Oct_2016.json\n",
      "Data\\json\\Dehradun_Uttarakhand_Nov_2016.json\n",
      "Data\\json\\Dehradun_Uttarakhand_Dec_2016.json\n",
      "Data\\json\\Dehradun_Uttarakhand_Jan_2017.json\n",
      "Data\\json\\Dehradun_Uttarakhand_Feb_2017.json\n",
      "Data\\json\\Dehradun_Uttarakhand_Mar_2017.json\n",
      "Data\\json\\Dehradun_Uttarakhand_Apr_2017.json\n",
      "Data\\json\\Dehradun_Uttarakhand_May_2017.json\n",
      "Data\\json\\Dehradun_Uttarakhand_Jun_2017.json\n",
      "Data\\json\\Dehradun_Uttarakhand_Jul_2017.json\n",
      "Data\\json\\Dehradun_Uttarakhand_Aug_2017.json\n",
      "Data\\json\\Dehradun_Uttarakhand_Sep_2017.json\n",
      "Data\\json\\Dehradun_Uttarakhand_Oct_2017.json\n",
      "Data\\json\\Dehradun_Uttarakhand_Nov_2017.json\n",
      "Data\\json\\Dehradun_Uttarakhand_Dec_2017.json\n",
      "Data\\json\\Dehradun_Uttarakhand_Jan_2018.json\n",
      "Data\\json\\Dehradun_Uttarakhand_Feb_2018.json\n",
      "Data\\json\\Dehradun_Uttarakhand_Mar_2018.json\n",
      "Data\\json\\Dehradun_Uttarakhand_Apr_2018.json\n",
      "Data\\json\\Dehradun_Uttarakhand_May_2018.json\n",
      "Data\\json\\Dehradun_Uttarakhand_Jun_2018.json\n",
      "Data\\json\\Dehradun_Uttarakhand_Jul_2018.json\n",
      "Data\\json\\Dehradun_Uttarakhand_Aug_2018.json\n",
      "Data\\json\\Dehradun_Uttarakhand_Sep_2018.json\n",
      "Data\\json\\Dehradun_Uttarakhand_Oct_2018.json\n",
      "Data\\json\\Dehradun_Uttarakhand_Nov_2018.json\n",
      "Data\\json\\Dehradun_Uttarakhand_Dec_2018.json\n",
      "Data\\json\\Dehradun_Uttarakhand_Jan_2019.json\n",
      "Data\\json\\Dehradun_Uttarakhand_Feb_2019.json\n",
      "Data\\json\\Dehradun_Uttarakhand_Mar_2019.json\n",
      "Data\\json\\Dehradun_Uttarakhand_Apr_2019.json\n",
      "Data\\json\\Dehradun_Uttarakhand_May_2019.json\n",
      "Data\\json\\Dehradun_Uttarakhand_Jun_2019.json\n",
      "Data\\json\\Dehradun_Uttarakhand_Jul_2019.json\n",
      "Data\\json\\Dehradun_Uttarakhand_Aug_2019.json\n",
      "Data\\json\\Dehradun_Uttarakhand_Sep_2019.json\n",
      "Data\\json\\Dehradun_Uttarakhand_Oct_2019.json\n",
      "Data\\json\\Dehradun_Uttarakhand_Nov_2019.json\n",
      "Data\\json\\Dehradun_Uttarakhand_Dec_2019.json\n",
      "Data\\json\\Dehradun_Uttarakhand_Jan_2020.json\n",
      "Data\\json\\Dehradun_Uttarakhand_Feb_2020.json\n",
      "Data\\json\\Dehradun_Uttarakhand_Mar_2020.json\n",
      "Data\\json\\Dehradun_Uttarakhand_Jun_2020.json\n",
      "Data\\json\\Dehradun_Uttarakhand_Jul_2020.json\n",
      "Data\\json\\Dehradun_Uttarakhand_Aug_2020.json\n",
      "Data\\json\\Dehradun_Uttarakhand_Sep_2020.json\n",
      "Data\\json\\Dehradun_Uttarakhand_Oct_2020.json\n",
      "Data\\json\\Dehradun_Uttarakhand_Nov_2020.json\n",
      "Data\\json\\Dehradun_Uttarakhand_Dec_2020.json\n",
      "Data\\json\\Dehradun_Uttarakhand_Jan_2021.json\n",
      "Data\\json\\Dehradun_Uttarakhand_Feb_2021.json\n",
      "Data\\json\\Dehradun_Uttarakhand_Mar_2021.json\n",
      "Data\\json\\Dehradun_Uttarakhand_Apr_2021.json\n",
      "Data\\json\\Dehradun_Uttarakhand_Aug_2021.json\n",
      "Data\\json\\Dehradun_Uttarakhand_Sep_2021.json\n",
      "Data\\json\\Dehradun_Uttarakhand_Oct_2021.json\n",
      "Data\\json\\Dehradun_Uttarakhand_Nov_2021.json\n"
     ]
    }
   ],
   "source": [
    "for i,j in jsons_yr.items():\n",
    "    fname = \"Data\\\\json\\\\Dehradun_Uttarakhand_\"\n",
    "    for k in j.keys():\n",
    "        print(fname+k+\"_\"+str(i)+'.json')\n",
    "        with open(fname+k+\"_\"+str(i)+'.json', 'w') as outfile:\n",
    "            json.dump(jsons_yr[i][k], outfile)"
   ]
  },
  {
   "cell_type": "markdown",
   "id": "80a441c0",
   "metadata": {
    "id": "80a441c0"
   },
   "source": [
    "Haridwar,Uttarakhand"
   ]
  },
  {
   "cell_type": "code",
   "execution_count": 58,
   "id": "bbf1523a",
   "metadata": {
    "id": "bbf1523a"
   },
   "outputs": [],
   "source": [
    "http = 'http://dackkms.gov.in/Account/API/kKMS_QueryData.aspx?StateCD=25&DistrictCd=2506&Month=3&Year=2020'"
   ]
  },
  {
   "cell_type": "code",
   "execution_count": 59,
   "id": "53b0a247",
   "metadata": {
    "id": "53b0a247"
   },
   "outputs": [
    {
     "name": "stdout",
     "output_type": "stream",
     "text": [
      "2013\n",
      "2014\n",
      "2015\n",
      "2016\n",
      "2017\n",
      "2018\n",
      "2019\n",
      "2020\n",
      "2021\n"
     ]
    }
   ],
   "source": [
    "jsons_yr = {}\n",
    "months = {1:'Jan', 2:\"Feb\", 3:\"Mar\", 4:\"Apr\", 5:\"May\", 6:\"Jun\", 7:\"Jul\", 8:\"Aug\", 9:\"Sep\", 10:\"Oct\", 11:\"Nov\", 12:\"Dec\"}\n",
    "for i in range(2013,2022):\n",
    "    print(i)\n",
    "    jsons = {}\n",
    "    for j in range(1,13):\n",
    "        aa = json.loads(requests.get('http://dackkms.gov.in/Account/API/kKMS_QueryData.aspx?StateCD=25&DistrictCd=2506&Month='+str(j)+'&Year='+str(i)).text)\n",
    "        if(int(aa['ResponseCode']) == 1):\n",
    "            jsons[months[j]] = aa\n",
    "    jsons_yr[i] = jsons"
   ]
  },
  {
   "cell_type": "code",
   "execution_count": 60,
   "id": "876f1c7b",
   "metadata": {
    "id": "876f1c7b",
    "outputId": "3affcf64-0c1c-4aa2-cca5-94013f851595"
   },
   "outputs": [
    {
     "name": "stdout",
     "output_type": "stream",
     "text": [
      "Data\\json\\Haridwar_Uttarakhand_Jan_2013.json\n",
      "Data\\json\\Haridwar_Uttarakhand_Feb_2013.json\n",
      "Data\\json\\Haridwar_Uttarakhand_Mar_2013.json\n",
      "Data\\json\\Haridwar_Uttarakhand_Apr_2013.json\n",
      "Data\\json\\Haridwar_Uttarakhand_May_2013.json\n",
      "Data\\json\\Haridwar_Uttarakhand_Jun_2013.json\n",
      "Data\\json\\Haridwar_Uttarakhand_Jul_2013.json\n",
      "Data\\json\\Haridwar_Uttarakhand_Aug_2013.json\n",
      "Data\\json\\Haridwar_Uttarakhand_Sep_2013.json\n",
      "Data\\json\\Haridwar_Uttarakhand_Oct_2013.json\n",
      "Data\\json\\Haridwar_Uttarakhand_Nov_2013.json\n",
      "Data\\json\\Haridwar_Uttarakhand_Dec_2013.json\n",
      "Data\\json\\Haridwar_Uttarakhand_Jan_2014.json\n",
      "Data\\json\\Haridwar_Uttarakhand_Feb_2014.json\n",
      "Data\\json\\Haridwar_Uttarakhand_Mar_2014.json\n",
      "Data\\json\\Haridwar_Uttarakhand_Apr_2014.json\n",
      "Data\\json\\Haridwar_Uttarakhand_May_2014.json\n",
      "Data\\json\\Haridwar_Uttarakhand_Jun_2014.json\n",
      "Data\\json\\Haridwar_Uttarakhand_Jul_2014.json\n",
      "Data\\json\\Haridwar_Uttarakhand_Aug_2014.json\n",
      "Data\\json\\Haridwar_Uttarakhand_Sep_2014.json\n",
      "Data\\json\\Haridwar_Uttarakhand_Oct_2014.json\n",
      "Data\\json\\Haridwar_Uttarakhand_Nov_2014.json\n",
      "Data\\json\\Haridwar_Uttarakhand_Dec_2014.json\n",
      "Data\\json\\Haridwar_Uttarakhand_Jan_2015.json\n",
      "Data\\json\\Haridwar_Uttarakhand_Feb_2015.json\n",
      "Data\\json\\Haridwar_Uttarakhand_Mar_2015.json\n",
      "Data\\json\\Haridwar_Uttarakhand_Apr_2015.json\n",
      "Data\\json\\Haridwar_Uttarakhand_May_2015.json\n",
      "Data\\json\\Haridwar_Uttarakhand_Jun_2015.json\n",
      "Data\\json\\Haridwar_Uttarakhand_Jul_2015.json\n",
      "Data\\json\\Haridwar_Uttarakhand_Aug_2015.json\n",
      "Data\\json\\Haridwar_Uttarakhand_Sep_2015.json\n",
      "Data\\json\\Haridwar_Uttarakhand_Oct_2015.json\n",
      "Data\\json\\Haridwar_Uttarakhand_Nov_2015.json\n",
      "Data\\json\\Haridwar_Uttarakhand_Dec_2015.json\n",
      "Data\\json\\Haridwar_Uttarakhand_Jan_2016.json\n",
      "Data\\json\\Haridwar_Uttarakhand_Feb_2016.json\n",
      "Data\\json\\Haridwar_Uttarakhand_Mar_2016.json\n",
      "Data\\json\\Haridwar_Uttarakhand_Apr_2016.json\n",
      "Data\\json\\Haridwar_Uttarakhand_May_2016.json\n",
      "Data\\json\\Haridwar_Uttarakhand_Jun_2016.json\n",
      "Data\\json\\Haridwar_Uttarakhand_Jul_2016.json\n",
      "Data\\json\\Haridwar_Uttarakhand_Aug_2016.json\n",
      "Data\\json\\Haridwar_Uttarakhand_Sep_2016.json\n",
      "Data\\json\\Haridwar_Uttarakhand_Oct_2016.json\n",
      "Data\\json\\Haridwar_Uttarakhand_Nov_2016.json\n",
      "Data\\json\\Haridwar_Uttarakhand_Dec_2016.json\n",
      "Data\\json\\Haridwar_Uttarakhand_Jan_2017.json\n",
      "Data\\json\\Haridwar_Uttarakhand_Feb_2017.json\n",
      "Data\\json\\Haridwar_Uttarakhand_Mar_2017.json\n",
      "Data\\json\\Haridwar_Uttarakhand_Apr_2017.json\n",
      "Data\\json\\Haridwar_Uttarakhand_May_2017.json\n",
      "Data\\json\\Haridwar_Uttarakhand_Jun_2017.json\n",
      "Data\\json\\Haridwar_Uttarakhand_Jul_2017.json\n",
      "Data\\json\\Haridwar_Uttarakhand_Aug_2017.json\n",
      "Data\\json\\Haridwar_Uttarakhand_Sep_2017.json\n",
      "Data\\json\\Haridwar_Uttarakhand_Oct_2017.json\n",
      "Data\\json\\Haridwar_Uttarakhand_Nov_2017.json\n",
      "Data\\json\\Haridwar_Uttarakhand_Dec_2017.json\n",
      "Data\\json\\Haridwar_Uttarakhand_Jan_2018.json\n",
      "Data\\json\\Haridwar_Uttarakhand_Feb_2018.json\n",
      "Data\\json\\Haridwar_Uttarakhand_Mar_2018.json\n",
      "Data\\json\\Haridwar_Uttarakhand_Apr_2018.json\n",
      "Data\\json\\Haridwar_Uttarakhand_May_2018.json\n",
      "Data\\json\\Haridwar_Uttarakhand_Jun_2018.json\n",
      "Data\\json\\Haridwar_Uttarakhand_Jul_2018.json\n",
      "Data\\json\\Haridwar_Uttarakhand_Aug_2018.json\n",
      "Data\\json\\Haridwar_Uttarakhand_Sep_2018.json\n",
      "Data\\json\\Haridwar_Uttarakhand_Oct_2018.json\n",
      "Data\\json\\Haridwar_Uttarakhand_Nov_2018.json\n",
      "Data\\json\\Haridwar_Uttarakhand_Dec_2018.json\n",
      "Data\\json\\Haridwar_Uttarakhand_Jan_2019.json\n",
      "Data\\json\\Haridwar_Uttarakhand_Feb_2019.json\n",
      "Data\\json\\Haridwar_Uttarakhand_Mar_2019.json\n",
      "Data\\json\\Haridwar_Uttarakhand_Apr_2019.json\n",
      "Data\\json\\Haridwar_Uttarakhand_May_2019.json\n",
      "Data\\json\\Haridwar_Uttarakhand_Jun_2019.json\n",
      "Data\\json\\Haridwar_Uttarakhand_Jul_2019.json\n",
      "Data\\json\\Haridwar_Uttarakhand_Aug_2019.json\n",
      "Data\\json\\Haridwar_Uttarakhand_Sep_2019.json\n",
      "Data\\json\\Haridwar_Uttarakhand_Oct_2019.json\n",
      "Data\\json\\Haridwar_Uttarakhand_Nov_2019.json\n",
      "Data\\json\\Haridwar_Uttarakhand_Dec_2019.json\n",
      "Data\\json\\Haridwar_Uttarakhand_Jan_2020.json\n",
      "Data\\json\\Haridwar_Uttarakhand_Feb_2020.json\n",
      "Data\\json\\Haridwar_Uttarakhand_Mar_2020.json\n",
      "Data\\json\\Haridwar_Uttarakhand_Jun_2020.json\n",
      "Data\\json\\Haridwar_Uttarakhand_Jul_2020.json\n",
      "Data\\json\\Haridwar_Uttarakhand_Aug_2020.json\n",
      "Data\\json\\Haridwar_Uttarakhand_Sep_2020.json\n",
      "Data\\json\\Haridwar_Uttarakhand_Oct_2020.json\n",
      "Data\\json\\Haridwar_Uttarakhand_Nov_2020.json\n",
      "Data\\json\\Haridwar_Uttarakhand_Dec_2020.json\n",
      "Data\\json\\Haridwar_Uttarakhand_Jan_2021.json\n",
      "Data\\json\\Haridwar_Uttarakhand_Feb_2021.json\n",
      "Data\\json\\Haridwar_Uttarakhand_Mar_2021.json\n",
      "Data\\json\\Haridwar_Uttarakhand_Apr_2021.json\n",
      "Data\\json\\Haridwar_Uttarakhand_Jun_2021.json\n",
      "Data\\json\\Haridwar_Uttarakhand_Aug_2021.json\n",
      "Data\\json\\Haridwar_Uttarakhand_Sep_2021.json\n",
      "Data\\json\\Haridwar_Uttarakhand_Oct_2021.json\n",
      "Data\\json\\Haridwar_Uttarakhand_Nov_2021.json\n"
     ]
    }
   ],
   "source": [
    "for i,j in jsons_yr.items():\n",
    "    fname = \"Data\\\\json\\\\Haridwar_Uttarakhand_\"\n",
    "    for k in j.keys():\n",
    "        print(fname+k+\"_\"+str(i)+'.json')\n",
    "        with open(fname+k+\"_\"+str(i)+'.json', 'w') as outfile:\n",
    "            json.dump(jsons_yr[i][k], outfile)"
   ]
  },
  {
   "cell_type": "markdown",
   "id": "ae15ddf7",
   "metadata": {
    "id": "ae15ddf7"
   },
   "source": [
    "Chamoli,Uttarakhand"
   ]
  },
  {
   "cell_type": "code",
   "execution_count": 61,
   "id": "b4aff241",
   "metadata": {
    "id": "b4aff241"
   },
   "outputs": [],
   "source": [
    "http = 'http://dackkms.gov.in/Account/API/kKMS_QueryData.aspx?StateCD=25&DistrictCd=2503&Month=7&Year=2020'"
   ]
  },
  {
   "cell_type": "code",
   "execution_count": 62,
   "id": "879a0385",
   "metadata": {
    "id": "879a0385"
   },
   "outputs": [
    {
     "name": "stdout",
     "output_type": "stream",
     "text": [
      "2013\n",
      "2014\n",
      "2015\n",
      "2016\n",
      "2017\n",
      "2018\n",
      "2019\n",
      "2020\n",
      "2021\n"
     ]
    }
   ],
   "source": [
    "jsons_yr = {}\n",
    "months = {1:'Jan', 2:\"Feb\", 3:\"Mar\", 4:\"Apr\", 5:\"May\", 6:\"Jun\", 7:\"Jul\", 8:\"Aug\", 9:\"Sep\", 10:\"Oct\", 11:\"Nov\", 12:\"Dec\"}\n",
    "for i in range(2013,2022):\n",
    "    print(i)\n",
    "    jsons = {}\n",
    "    for j in range(1,13):\n",
    "        aa = json.loads(requests.get('http://dackkms.gov.in/Account/API/kKMS_QueryData.aspx?StateCD=25&DistrictCd=2503&Month='+str(j)+'&Year='+str(i)).text)\n",
    "        if(int(aa['ResponseCode']) == 1):\n",
    "            jsons[months[j]] = aa\n",
    "    jsons_yr[i] = jsons"
   ]
  },
  {
   "cell_type": "code",
   "execution_count": 63,
   "id": "eea5558b",
   "metadata": {
    "id": "eea5558b",
    "outputId": "c8de008a-2995-4e73-9c10-ab94cf80e64e",
    "scrolled": true
   },
   "outputs": [
    {
     "name": "stdout",
     "output_type": "stream",
     "text": [
      "Data\\json\\Chamoli_Uttarakhand_Jan_2013.json\n",
      "Data\\json\\Chamoli_Uttarakhand_Feb_2013.json\n",
      "Data\\json\\Chamoli_Uttarakhand_Mar_2013.json\n",
      "Data\\json\\Chamoli_Uttarakhand_Apr_2013.json\n",
      "Data\\json\\Chamoli_Uttarakhand_May_2013.json\n",
      "Data\\json\\Chamoli_Uttarakhand_Jun_2013.json\n",
      "Data\\json\\Chamoli_Uttarakhand_Jul_2013.json\n",
      "Data\\json\\Chamoli_Uttarakhand_Aug_2013.json\n",
      "Data\\json\\Chamoli_Uttarakhand_Sep_2013.json\n",
      "Data\\json\\Chamoli_Uttarakhand_Oct_2013.json\n",
      "Data\\json\\Chamoli_Uttarakhand_Nov_2013.json\n",
      "Data\\json\\Chamoli_Uttarakhand_Dec_2013.json\n",
      "Data\\json\\Chamoli_Uttarakhand_Jan_2014.json\n",
      "Data\\json\\Chamoli_Uttarakhand_Feb_2014.json\n",
      "Data\\json\\Chamoli_Uttarakhand_Mar_2014.json\n",
      "Data\\json\\Chamoli_Uttarakhand_Apr_2014.json\n",
      "Data\\json\\Chamoli_Uttarakhand_May_2014.json\n",
      "Data\\json\\Chamoli_Uttarakhand_Jun_2014.json\n",
      "Data\\json\\Chamoli_Uttarakhand_Jul_2014.json\n",
      "Data\\json\\Chamoli_Uttarakhand_Aug_2014.json\n",
      "Data\\json\\Chamoli_Uttarakhand_Sep_2014.json\n",
      "Data\\json\\Chamoli_Uttarakhand_Oct_2014.json\n",
      "Data\\json\\Chamoli_Uttarakhand_Nov_2014.json\n",
      "Data\\json\\Chamoli_Uttarakhand_Dec_2014.json\n",
      "Data\\json\\Chamoli_Uttarakhand_Jan_2015.json\n",
      "Data\\json\\Chamoli_Uttarakhand_Feb_2015.json\n",
      "Data\\json\\Chamoli_Uttarakhand_Mar_2015.json\n",
      "Data\\json\\Chamoli_Uttarakhand_Apr_2015.json\n",
      "Data\\json\\Chamoli_Uttarakhand_May_2015.json\n",
      "Data\\json\\Chamoli_Uttarakhand_Jun_2015.json\n",
      "Data\\json\\Chamoli_Uttarakhand_Jul_2015.json\n",
      "Data\\json\\Chamoli_Uttarakhand_Aug_2015.json\n",
      "Data\\json\\Chamoli_Uttarakhand_Sep_2015.json\n",
      "Data\\json\\Chamoli_Uttarakhand_Oct_2015.json\n",
      "Data\\json\\Chamoli_Uttarakhand_Nov_2015.json\n",
      "Data\\json\\Chamoli_Uttarakhand_Dec_2015.json\n",
      "Data\\json\\Chamoli_Uttarakhand_Jan_2016.json\n",
      "Data\\json\\Chamoli_Uttarakhand_Feb_2016.json\n",
      "Data\\json\\Chamoli_Uttarakhand_Mar_2016.json\n",
      "Data\\json\\Chamoli_Uttarakhand_Apr_2016.json\n",
      "Data\\json\\Chamoli_Uttarakhand_May_2016.json\n",
      "Data\\json\\Chamoli_Uttarakhand_Jun_2016.json\n",
      "Data\\json\\Chamoli_Uttarakhand_Jul_2016.json\n",
      "Data\\json\\Chamoli_Uttarakhand_Aug_2016.json\n",
      "Data\\json\\Chamoli_Uttarakhand_Sep_2016.json\n",
      "Data\\json\\Chamoli_Uttarakhand_Oct_2016.json\n",
      "Data\\json\\Chamoli_Uttarakhand_Nov_2016.json\n",
      "Data\\json\\Chamoli_Uttarakhand_Dec_2016.json\n",
      "Data\\json\\Chamoli_Uttarakhand_Jan_2017.json\n",
      "Data\\json\\Chamoli_Uttarakhand_Feb_2017.json\n",
      "Data\\json\\Chamoli_Uttarakhand_Mar_2017.json\n",
      "Data\\json\\Chamoli_Uttarakhand_Apr_2017.json\n",
      "Data\\json\\Chamoli_Uttarakhand_May_2017.json\n",
      "Data\\json\\Chamoli_Uttarakhand_Jun_2017.json\n",
      "Data\\json\\Chamoli_Uttarakhand_Jul_2017.json\n",
      "Data\\json\\Chamoli_Uttarakhand_Aug_2017.json\n",
      "Data\\json\\Chamoli_Uttarakhand_Sep_2017.json\n",
      "Data\\json\\Chamoli_Uttarakhand_Oct_2017.json\n",
      "Data\\json\\Chamoli_Uttarakhand_Nov_2017.json\n",
      "Data\\json\\Chamoli_Uttarakhand_Dec_2017.json\n",
      "Data\\json\\Chamoli_Uttarakhand_Jan_2018.json\n",
      "Data\\json\\Chamoli_Uttarakhand_Feb_2018.json\n",
      "Data\\json\\Chamoli_Uttarakhand_Mar_2018.json\n",
      "Data\\json\\Chamoli_Uttarakhand_Apr_2018.json\n",
      "Data\\json\\Chamoli_Uttarakhand_May_2018.json\n",
      "Data\\json\\Chamoli_Uttarakhand_Jun_2018.json\n",
      "Data\\json\\Chamoli_Uttarakhand_Jul_2018.json\n",
      "Data\\json\\Chamoli_Uttarakhand_Aug_2018.json\n",
      "Data\\json\\Chamoli_Uttarakhand_Sep_2018.json\n",
      "Data\\json\\Chamoli_Uttarakhand_Oct_2018.json\n",
      "Data\\json\\Chamoli_Uttarakhand_Nov_2018.json\n",
      "Data\\json\\Chamoli_Uttarakhand_Dec_2018.json\n",
      "Data\\json\\Chamoli_Uttarakhand_Jan_2019.json\n",
      "Data\\json\\Chamoli_Uttarakhand_Feb_2019.json\n",
      "Data\\json\\Chamoli_Uttarakhand_Mar_2019.json\n",
      "Data\\json\\Chamoli_Uttarakhand_Apr_2019.json\n",
      "Data\\json\\Chamoli_Uttarakhand_May_2019.json\n",
      "Data\\json\\Chamoli_Uttarakhand_Jun_2019.json\n",
      "Data\\json\\Chamoli_Uttarakhand_Jul_2019.json\n",
      "Data\\json\\Chamoli_Uttarakhand_Aug_2019.json\n",
      "Data\\json\\Chamoli_Uttarakhand_Sep_2019.json\n",
      "Data\\json\\Chamoli_Uttarakhand_Oct_2019.json\n",
      "Data\\json\\Chamoli_Uttarakhand_Nov_2019.json\n",
      "Data\\json\\Chamoli_Uttarakhand_Dec_2019.json\n",
      "Data\\json\\Chamoli_Uttarakhand_Jan_2020.json\n",
      "Data\\json\\Chamoli_Uttarakhand_Feb_2020.json\n",
      "Data\\json\\Chamoli_Uttarakhand_Mar_2020.json\n",
      "Data\\json\\Chamoli_Uttarakhand_Jun_2020.json\n",
      "Data\\json\\Chamoli_Uttarakhand_Jul_2020.json\n",
      "Data\\json\\Chamoli_Uttarakhand_Aug_2020.json\n",
      "Data\\json\\Chamoli_Uttarakhand_Sep_2020.json\n",
      "Data\\json\\Chamoli_Uttarakhand_Oct_2020.json\n",
      "Data\\json\\Chamoli_Uttarakhand_Nov_2020.json\n",
      "Data\\json\\Chamoli_Uttarakhand_Dec_2020.json\n",
      "Data\\json\\Chamoli_Uttarakhand_Jan_2021.json\n",
      "Data\\json\\Chamoli_Uttarakhand_Feb_2021.json\n",
      "Data\\json\\Chamoli_Uttarakhand_Mar_2021.json\n",
      "Data\\json\\Chamoli_Uttarakhand_Apr_2021.json\n",
      "Data\\json\\Chamoli_Uttarakhand_Aug_2021.json\n",
      "Data\\json\\Chamoli_Uttarakhand_Sep_2021.json\n",
      "Data\\json\\Chamoli_Uttarakhand_Oct_2021.json\n",
      "Data\\json\\Chamoli_Uttarakhand_Nov_2021.json\n"
     ]
    }
   ],
   "source": [
    "for i,j in jsons_yr.items():\n",
    "    fname = \"Data\\\\json\\\\Chamoli_Uttarakhand_\"\n",
    "    for k in j.keys():\n",
    "        print(fname+k+\"_\"+str(i)+'.json')\n",
    "        with open(fname+k+\"_\"+str(i)+'.json', 'w') as outfile:\n",
    "            json.dump(jsons_yr[i][k], outfile)"
   ]
  },
  {
   "cell_type": "markdown",
   "id": "e559e193",
   "metadata": {
    "id": "e559e193"
   },
   "source": [
    "Nainital,Uttarakhand"
   ]
  },
  {
   "cell_type": "code",
   "execution_count": 64,
   "id": "a9ac82c2",
   "metadata": {
    "id": "a9ac82c2"
   },
   "outputs": [],
   "source": [
    "http = 'http://dackkms.gov.in/Account/API/kKMS_QueryData.aspx?StateCD=25&DistrictCd=2507&Month=1&Year=2020'"
   ]
  },
  {
   "cell_type": "code",
   "execution_count": 65,
   "id": "44607e60",
   "metadata": {
    "id": "44607e60"
   },
   "outputs": [
    {
     "name": "stdout",
     "output_type": "stream",
     "text": [
      "2013\n",
      "2014\n",
      "2015\n",
      "2016\n",
      "2017\n",
      "2018\n",
      "2019\n",
      "2020\n",
      "2021\n"
     ]
    }
   ],
   "source": [
    "jsons_yr = {}\n",
    "months = {1:'Jan', 2:\"Feb\", 3:\"Mar\", 4:\"Apr\", 5:\"May\", 6:\"Jun\", 7:\"Jul\", 8:\"Aug\", 9:\"Sep\", 10:\"Oct\", 11:\"Nov\", 12:\"Dec\"}\n",
    "for i in range(2013,2022):\n",
    "    print(i)\n",
    "    jsons = {}\n",
    "    for j in range(1,13):\n",
    "        aa = json.loads(requests.get('http://dackkms.gov.in/Account/API/kKMS_QueryData.aspx?StateCD=25&DistrictCd=2507&Month='+str(j)+'&Year='+str(i)).text)\n",
    "        if(int(aa['ResponseCode']) == 1):\n",
    "            jsons[months[j]] = aa\n",
    "    jsons_yr[i] = jsons"
   ]
  },
  {
   "cell_type": "code",
   "execution_count": 66,
   "id": "b54a9b55",
   "metadata": {
    "id": "b54a9b55",
    "outputId": "529b547b-2204-4564-e8ea-a893fb3df664",
    "scrolled": true
   },
   "outputs": [
    {
     "name": "stdout",
     "output_type": "stream",
     "text": [
      "Data\\json\\Nainital_Uttarakhand_Jan_2013.json\n",
      "Data\\json\\Nainital_Uttarakhand_Feb_2013.json\n",
      "Data\\json\\Nainital_Uttarakhand_Mar_2013.json\n",
      "Data\\json\\Nainital_Uttarakhand_Apr_2013.json\n",
      "Data\\json\\Nainital_Uttarakhand_May_2013.json\n",
      "Data\\json\\Nainital_Uttarakhand_Jun_2013.json\n",
      "Data\\json\\Nainital_Uttarakhand_Jul_2013.json\n",
      "Data\\json\\Nainital_Uttarakhand_Aug_2013.json\n",
      "Data\\json\\Nainital_Uttarakhand_Sep_2013.json\n",
      "Data\\json\\Nainital_Uttarakhand_Oct_2013.json\n",
      "Data\\json\\Nainital_Uttarakhand_Nov_2013.json\n",
      "Data\\json\\Nainital_Uttarakhand_Dec_2013.json\n",
      "Data\\json\\Nainital_Uttarakhand_Jan_2014.json\n",
      "Data\\json\\Nainital_Uttarakhand_Feb_2014.json\n",
      "Data\\json\\Nainital_Uttarakhand_Mar_2014.json\n",
      "Data\\json\\Nainital_Uttarakhand_Apr_2014.json\n",
      "Data\\json\\Nainital_Uttarakhand_May_2014.json\n",
      "Data\\json\\Nainital_Uttarakhand_Jun_2014.json\n",
      "Data\\json\\Nainital_Uttarakhand_Jul_2014.json\n",
      "Data\\json\\Nainital_Uttarakhand_Aug_2014.json\n",
      "Data\\json\\Nainital_Uttarakhand_Sep_2014.json\n",
      "Data\\json\\Nainital_Uttarakhand_Oct_2014.json\n",
      "Data\\json\\Nainital_Uttarakhand_Nov_2014.json\n",
      "Data\\json\\Nainital_Uttarakhand_Dec_2014.json\n",
      "Data\\json\\Nainital_Uttarakhand_Jan_2015.json\n",
      "Data\\json\\Nainital_Uttarakhand_Feb_2015.json\n",
      "Data\\json\\Nainital_Uttarakhand_Mar_2015.json\n",
      "Data\\json\\Nainital_Uttarakhand_Apr_2015.json\n",
      "Data\\json\\Nainital_Uttarakhand_May_2015.json\n",
      "Data\\json\\Nainital_Uttarakhand_Jun_2015.json\n",
      "Data\\json\\Nainital_Uttarakhand_Jul_2015.json\n",
      "Data\\json\\Nainital_Uttarakhand_Aug_2015.json\n",
      "Data\\json\\Nainital_Uttarakhand_Sep_2015.json\n",
      "Data\\json\\Nainital_Uttarakhand_Oct_2015.json\n",
      "Data\\json\\Nainital_Uttarakhand_Nov_2015.json\n",
      "Data\\json\\Nainital_Uttarakhand_Dec_2015.json\n",
      "Data\\json\\Nainital_Uttarakhand_Jan_2016.json\n",
      "Data\\json\\Nainital_Uttarakhand_Feb_2016.json\n",
      "Data\\json\\Nainital_Uttarakhand_Mar_2016.json\n",
      "Data\\json\\Nainital_Uttarakhand_Apr_2016.json\n",
      "Data\\json\\Nainital_Uttarakhand_May_2016.json\n",
      "Data\\json\\Nainital_Uttarakhand_Jun_2016.json\n",
      "Data\\json\\Nainital_Uttarakhand_Jul_2016.json\n",
      "Data\\json\\Nainital_Uttarakhand_Aug_2016.json\n",
      "Data\\json\\Nainital_Uttarakhand_Sep_2016.json\n",
      "Data\\json\\Nainital_Uttarakhand_Oct_2016.json\n",
      "Data\\json\\Nainital_Uttarakhand_Nov_2016.json\n",
      "Data\\json\\Nainital_Uttarakhand_Dec_2016.json\n",
      "Data\\json\\Nainital_Uttarakhand_Jan_2017.json\n",
      "Data\\json\\Nainital_Uttarakhand_Feb_2017.json\n",
      "Data\\json\\Nainital_Uttarakhand_Mar_2017.json\n",
      "Data\\json\\Nainital_Uttarakhand_Apr_2017.json\n",
      "Data\\json\\Nainital_Uttarakhand_May_2017.json\n",
      "Data\\json\\Nainital_Uttarakhand_Jun_2017.json\n",
      "Data\\json\\Nainital_Uttarakhand_Jul_2017.json\n",
      "Data\\json\\Nainital_Uttarakhand_Aug_2017.json\n",
      "Data\\json\\Nainital_Uttarakhand_Sep_2017.json\n",
      "Data\\json\\Nainital_Uttarakhand_Oct_2017.json\n",
      "Data\\json\\Nainital_Uttarakhand_Nov_2017.json\n",
      "Data\\json\\Nainital_Uttarakhand_Dec_2017.json\n",
      "Data\\json\\Nainital_Uttarakhand_Jan_2018.json\n",
      "Data\\json\\Nainital_Uttarakhand_Feb_2018.json\n",
      "Data\\json\\Nainital_Uttarakhand_Mar_2018.json\n",
      "Data\\json\\Nainital_Uttarakhand_Apr_2018.json\n",
      "Data\\json\\Nainital_Uttarakhand_May_2018.json\n",
      "Data\\json\\Nainital_Uttarakhand_Jun_2018.json\n",
      "Data\\json\\Nainital_Uttarakhand_Jul_2018.json\n",
      "Data\\json\\Nainital_Uttarakhand_Aug_2018.json\n",
      "Data\\json\\Nainital_Uttarakhand_Sep_2018.json\n",
      "Data\\json\\Nainital_Uttarakhand_Oct_2018.json\n",
      "Data\\json\\Nainital_Uttarakhand_Nov_2018.json\n",
      "Data\\json\\Nainital_Uttarakhand_Dec_2018.json\n",
      "Data\\json\\Nainital_Uttarakhand_Jan_2019.json\n",
      "Data\\json\\Nainital_Uttarakhand_Feb_2019.json\n",
      "Data\\json\\Nainital_Uttarakhand_Mar_2019.json\n",
      "Data\\json\\Nainital_Uttarakhand_Apr_2019.json\n",
      "Data\\json\\Nainital_Uttarakhand_May_2019.json\n",
      "Data\\json\\Nainital_Uttarakhand_Jun_2019.json\n",
      "Data\\json\\Nainital_Uttarakhand_Jul_2019.json\n",
      "Data\\json\\Nainital_Uttarakhand_Aug_2019.json\n",
      "Data\\json\\Nainital_Uttarakhand_Sep_2019.json\n",
      "Data\\json\\Nainital_Uttarakhand_Oct_2019.json\n",
      "Data\\json\\Nainital_Uttarakhand_Nov_2019.json\n",
      "Data\\json\\Nainital_Uttarakhand_Dec_2019.json\n",
      "Data\\json\\Nainital_Uttarakhand_Jan_2020.json\n",
      "Data\\json\\Nainital_Uttarakhand_Feb_2020.json\n",
      "Data\\json\\Nainital_Uttarakhand_Mar_2020.json\n",
      "Data\\json\\Nainital_Uttarakhand_Jun_2020.json\n",
      "Data\\json\\Nainital_Uttarakhand_Jul_2020.json\n",
      "Data\\json\\Nainital_Uttarakhand_Aug_2020.json\n",
      "Data\\json\\Nainital_Uttarakhand_Sep_2020.json\n",
      "Data\\json\\Nainital_Uttarakhand_Oct_2020.json\n",
      "Data\\json\\Nainital_Uttarakhand_Nov_2020.json\n",
      "Data\\json\\Nainital_Uttarakhand_Dec_2020.json\n",
      "Data\\json\\Nainital_Uttarakhand_Jan_2021.json\n",
      "Data\\json\\Nainital_Uttarakhand_Feb_2021.json\n",
      "Data\\json\\Nainital_Uttarakhand_Mar_2021.json\n",
      "Data\\json\\Nainital_Uttarakhand_Apr_2021.json\n",
      "Data\\json\\Nainital_Uttarakhand_Jun_2021.json\n",
      "Data\\json\\Nainital_Uttarakhand_Aug_2021.json\n",
      "Data\\json\\Nainital_Uttarakhand_Sep_2021.json\n",
      "Data\\json\\Nainital_Uttarakhand_Oct_2021.json\n",
      "Data\\json\\Nainital_Uttarakhand_Nov_2021.json\n"
     ]
    }
   ],
   "source": [
    "for i,j in jsons_yr.items():\n",
    "    fname = \"Data\\\\json\\\\Nainital_Uttarakhand_\"\n",
    "    for k in j.keys():\n",
    "        print(fname+k+\"_\"+str(i)+'.json')\n",
    "        with open(fname+k+\"_\"+str(i)+'.json', 'w') as outfile:\n",
    "            json.dump(jsons_yr[i][k], outfile)"
   ]
  },
  {
   "cell_type": "markdown",
   "id": "ef3be746",
   "metadata": {
    "id": "ef3be746"
   },
   "source": [
    "Uttarkashi,Uttarakhand"
   ]
  },
  {
   "cell_type": "code",
   "execution_count": 67,
   "id": "6a3f00c0",
   "metadata": {
    "id": "6a3f00c0"
   },
   "outputs": [],
   "source": [
    "http = 'http://dackkms.gov.in/Account/API/kKMS_QueryData.aspx?StateCD=25&DistrictCd=2513&Month=2&Year=2020'"
   ]
  },
  {
   "cell_type": "code",
   "execution_count": 68,
   "id": "a5ecf52b",
   "metadata": {
    "id": "a5ecf52b"
   },
   "outputs": [
    {
     "name": "stdout",
     "output_type": "stream",
     "text": [
      "2013\n",
      "2014\n",
      "2015\n",
      "2016\n",
      "2017\n",
      "2018\n",
      "2019\n",
      "2020\n",
      "2021\n"
     ]
    }
   ],
   "source": [
    "jsons_yr = {}\n",
    "months = {1:'Jan', 2:\"Feb\", 3:\"Mar\", 4:\"Apr\", 5:\"May\", 6:\"Jun\", 7:\"Jul\", 8:\"Aug\", 9:\"Sep\", 10:\"Oct\", 11:\"Nov\", 12:\"Dec\"}\n",
    "for i in range(2013,2022):\n",
    "    print(i)\n",
    "    jsons = {}\n",
    "    for j in range(1,13):\n",
    "        aa = json.loads(requests.get('http://dackkms.gov.in/Account/API/kKMS_QueryData.aspx?StateCD=25&DistrictCd=2513&Month='+str(j)+'&Year='+str(i)).text)\n",
    "        if(int(aa['ResponseCode']) == 1):\n",
    "            jsons[months[j]] = aa\n",
    "    jsons_yr[i] = jsons"
   ]
  },
  {
   "cell_type": "code",
   "execution_count": 69,
   "id": "967e743c",
   "metadata": {
    "id": "967e743c",
    "outputId": "16a779ae-4234-4c87-f102-934c4b319c88",
    "scrolled": true
   },
   "outputs": [
    {
     "name": "stdout",
     "output_type": "stream",
     "text": [
      "Data\\json\\Uttarkashi_Uttarakhand_Jan_2013.json\n",
      "Data\\json\\Uttarkashi_Uttarakhand_Feb_2013.json\n",
      "Data\\json\\Uttarkashi_Uttarakhand_Mar_2013.json\n",
      "Data\\json\\Uttarkashi_Uttarakhand_Apr_2013.json\n",
      "Data\\json\\Uttarkashi_Uttarakhand_May_2013.json\n",
      "Data\\json\\Uttarkashi_Uttarakhand_Jun_2013.json\n",
      "Data\\json\\Uttarkashi_Uttarakhand_Jul_2013.json\n",
      "Data\\json\\Uttarkashi_Uttarakhand_Aug_2013.json\n",
      "Data\\json\\Uttarkashi_Uttarakhand_Sep_2013.json\n",
      "Data\\json\\Uttarkashi_Uttarakhand_Oct_2013.json\n",
      "Data\\json\\Uttarkashi_Uttarakhand_Nov_2013.json\n",
      "Data\\json\\Uttarkashi_Uttarakhand_Dec_2013.json\n",
      "Data\\json\\Uttarkashi_Uttarakhand_Jan_2014.json\n",
      "Data\\json\\Uttarkashi_Uttarakhand_Feb_2014.json\n",
      "Data\\json\\Uttarkashi_Uttarakhand_Mar_2014.json\n",
      "Data\\json\\Uttarkashi_Uttarakhand_Apr_2014.json\n",
      "Data\\json\\Uttarkashi_Uttarakhand_May_2014.json\n",
      "Data\\json\\Uttarkashi_Uttarakhand_Jun_2014.json\n",
      "Data\\json\\Uttarkashi_Uttarakhand_Jul_2014.json\n",
      "Data\\json\\Uttarkashi_Uttarakhand_Aug_2014.json\n",
      "Data\\json\\Uttarkashi_Uttarakhand_Sep_2014.json\n",
      "Data\\json\\Uttarkashi_Uttarakhand_Oct_2014.json\n",
      "Data\\json\\Uttarkashi_Uttarakhand_Nov_2014.json\n",
      "Data\\json\\Uttarkashi_Uttarakhand_Dec_2014.json\n",
      "Data\\json\\Uttarkashi_Uttarakhand_Jan_2015.json\n",
      "Data\\json\\Uttarkashi_Uttarakhand_Feb_2015.json\n",
      "Data\\json\\Uttarkashi_Uttarakhand_Mar_2015.json\n",
      "Data\\json\\Uttarkashi_Uttarakhand_Apr_2015.json\n",
      "Data\\json\\Uttarkashi_Uttarakhand_May_2015.json\n",
      "Data\\json\\Uttarkashi_Uttarakhand_Jun_2015.json\n",
      "Data\\json\\Uttarkashi_Uttarakhand_Jul_2015.json\n",
      "Data\\json\\Uttarkashi_Uttarakhand_Aug_2015.json\n",
      "Data\\json\\Uttarkashi_Uttarakhand_Sep_2015.json\n",
      "Data\\json\\Uttarkashi_Uttarakhand_Oct_2015.json\n",
      "Data\\json\\Uttarkashi_Uttarakhand_Nov_2015.json\n",
      "Data\\json\\Uttarkashi_Uttarakhand_Dec_2015.json\n",
      "Data\\json\\Uttarkashi_Uttarakhand_Jan_2016.json\n",
      "Data\\json\\Uttarkashi_Uttarakhand_Feb_2016.json\n",
      "Data\\json\\Uttarkashi_Uttarakhand_Mar_2016.json\n",
      "Data\\json\\Uttarkashi_Uttarakhand_Apr_2016.json\n",
      "Data\\json\\Uttarkashi_Uttarakhand_May_2016.json\n",
      "Data\\json\\Uttarkashi_Uttarakhand_Jun_2016.json\n",
      "Data\\json\\Uttarkashi_Uttarakhand_Jul_2016.json\n",
      "Data\\json\\Uttarkashi_Uttarakhand_Aug_2016.json\n",
      "Data\\json\\Uttarkashi_Uttarakhand_Sep_2016.json\n",
      "Data\\json\\Uttarkashi_Uttarakhand_Oct_2016.json\n",
      "Data\\json\\Uttarkashi_Uttarakhand_Nov_2016.json\n",
      "Data\\json\\Uttarkashi_Uttarakhand_Dec_2016.json\n",
      "Data\\json\\Uttarkashi_Uttarakhand_Jan_2017.json\n",
      "Data\\json\\Uttarkashi_Uttarakhand_Feb_2017.json\n",
      "Data\\json\\Uttarkashi_Uttarakhand_Mar_2017.json\n",
      "Data\\json\\Uttarkashi_Uttarakhand_Apr_2017.json\n",
      "Data\\json\\Uttarkashi_Uttarakhand_May_2017.json\n",
      "Data\\json\\Uttarkashi_Uttarakhand_Jun_2017.json\n",
      "Data\\json\\Uttarkashi_Uttarakhand_Jul_2017.json\n",
      "Data\\json\\Uttarkashi_Uttarakhand_Aug_2017.json\n",
      "Data\\json\\Uttarkashi_Uttarakhand_Sep_2017.json\n",
      "Data\\json\\Uttarkashi_Uttarakhand_Oct_2017.json\n",
      "Data\\json\\Uttarkashi_Uttarakhand_Nov_2017.json\n",
      "Data\\json\\Uttarkashi_Uttarakhand_Dec_2017.json\n",
      "Data\\json\\Uttarkashi_Uttarakhand_Jan_2018.json\n",
      "Data\\json\\Uttarkashi_Uttarakhand_Feb_2018.json\n",
      "Data\\json\\Uttarkashi_Uttarakhand_Mar_2018.json\n",
      "Data\\json\\Uttarkashi_Uttarakhand_Apr_2018.json\n",
      "Data\\json\\Uttarkashi_Uttarakhand_May_2018.json\n",
      "Data\\json\\Uttarkashi_Uttarakhand_Jun_2018.json\n",
      "Data\\json\\Uttarkashi_Uttarakhand_Jul_2018.json\n",
      "Data\\json\\Uttarkashi_Uttarakhand_Aug_2018.json\n",
      "Data\\json\\Uttarkashi_Uttarakhand_Sep_2018.json\n",
      "Data\\json\\Uttarkashi_Uttarakhand_Oct_2018.json\n",
      "Data\\json\\Uttarkashi_Uttarakhand_Nov_2018.json\n",
      "Data\\json\\Uttarkashi_Uttarakhand_Dec_2018.json\n",
      "Data\\json\\Uttarkashi_Uttarakhand_Jan_2019.json\n",
      "Data\\json\\Uttarkashi_Uttarakhand_Feb_2019.json\n",
      "Data\\json\\Uttarkashi_Uttarakhand_Mar_2019.json\n",
      "Data\\json\\Uttarkashi_Uttarakhand_Apr_2019.json\n",
      "Data\\json\\Uttarkashi_Uttarakhand_May_2019.json\n",
      "Data\\json\\Uttarkashi_Uttarakhand_Jun_2019.json\n",
      "Data\\json\\Uttarkashi_Uttarakhand_Jul_2019.json\n",
      "Data\\json\\Uttarkashi_Uttarakhand_Aug_2019.json\n",
      "Data\\json\\Uttarkashi_Uttarakhand_Sep_2019.json\n",
      "Data\\json\\Uttarkashi_Uttarakhand_Oct_2019.json\n",
      "Data\\json\\Uttarkashi_Uttarakhand_Nov_2019.json\n",
      "Data\\json\\Uttarkashi_Uttarakhand_Dec_2019.json\n",
      "Data\\json\\Uttarkashi_Uttarakhand_Jan_2020.json\n",
      "Data\\json\\Uttarkashi_Uttarakhand_Feb_2020.json\n",
      "Data\\json\\Uttarkashi_Uttarakhand_Mar_2020.json\n",
      "Data\\json\\Uttarkashi_Uttarakhand_Jun_2020.json\n",
      "Data\\json\\Uttarkashi_Uttarakhand_Aug_2020.json\n",
      "Data\\json\\Uttarkashi_Uttarakhand_Sep_2020.json\n",
      "Data\\json\\Uttarkashi_Uttarakhand_Oct_2020.json\n",
      "Data\\json\\Uttarkashi_Uttarakhand_Nov_2020.json\n",
      "Data\\json\\Uttarkashi_Uttarakhand_Dec_2020.json\n",
      "Data\\json\\Uttarkashi_Uttarakhand_Jan_2021.json\n",
      "Data\\json\\Uttarkashi_Uttarakhand_Feb_2021.json\n",
      "Data\\json\\Uttarkashi_Uttarakhand_Mar_2021.json\n",
      "Data\\json\\Uttarkashi_Uttarakhand_Apr_2021.json\n",
      "Data\\json\\Uttarkashi_Uttarakhand_Aug_2021.json\n",
      "Data\\json\\Uttarkashi_Uttarakhand_Sep_2021.json\n",
      "Data\\json\\Uttarkashi_Uttarakhand_Oct_2021.json\n",
      "Data\\json\\Uttarkashi_Uttarakhand_Nov_2021.json\n"
     ]
    }
   ],
   "source": [
    "for i,j in jsons_yr.items():\n",
    "    fname = \"Data\\\\json\\\\Uttarkashi_Uttarakhand_\"\n",
    "    for k in j.keys():\n",
    "        print(fname+k+\"_\"+str(i)+'.json')\n",
    "        with open(fname+k+\"_\"+str(i)+'.json', 'w') as outfile:\n",
    "            json.dump(jsons_yr[i][k], outfile)"
   ]
  },
  {
   "cell_type": "markdown",
   "id": "be3b40d2",
   "metadata": {
    "id": "be3b40d2"
   },
   "source": [
    "End"
   ]
  }
 ],
 "metadata": {
  "colab": {
   "collapsed_sections": [],
   "name": "Get_jsons_1.ipynb",
   "provenance": []
  },
  "kernelspec": {
   "display_name": "Python 3",
   "language": "python",
   "name": "python3"
  },
  "language_info": {
   "codemirror_mode": {
    "name": "ipython",
    "version": 3
   },
   "file_extension": ".py",
   "mimetype": "text/x-python",
   "name": "python",
   "nbconvert_exporter": "python",
   "pygments_lexer": "ipython3",
   "version": "3.9.1"
  }
 },
 "nbformat": 4,
 "nbformat_minor": 5
}
